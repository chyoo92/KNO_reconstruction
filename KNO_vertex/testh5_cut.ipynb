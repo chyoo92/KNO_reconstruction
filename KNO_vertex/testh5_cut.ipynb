{
 "cells": [
  {
   "cell_type": "code",
   "execution_count": 1,
   "metadata": {},
   "outputs": [
    {
     "name": "stdout",
     "output_type": "stream",
     "text": [
      "Welcome to JupyROOT 6.30/02\n"
     ]
    }
   ],
   "source": [
    "import os\n",
    "import ROOT\n",
    "import numpy as np\n",
    "import h5py\n",
    "from tqdm import tqdm"
   ]
  },
  {
   "cell_type": "code",
   "execution_count": 2,
   "metadata": {},
   "outputs": [],
   "source": [
    "input_path = \"/users/yewzzang/KNO_data/\"\n",
    "output_path = \"/store/cpnr/users/yewzzang/KNO_h5/gamma_100to1000/\""
   ]
  },
  {
   "cell_type": "code",
   "execution_count": 3,
   "metadata": {},
   "outputs": [],
   "source": [
    "list_file = os.listdir(input_path)"
   ]
  },
  {
   "cell_type": "code",
   "execution_count": null,
   "metadata": {},
   "outputs": [],
   "source": []
  },
  {
   "cell_type": "code",
   "execution_count": 4,
   "metadata": {},
   "outputs": [
    {
     "name": "stderr",
     "output_type": "stream",
     "text": [
      "  0%|          | 0/56 [00:00<?, ?it/s]"
     ]
    },
    {
     "name": "stdout",
     "output_type": "stream",
     "text": [
      "--------------------\n",
      " nEvents = 2000\n",
      " nPMTs   = 30912\n",
      " nODPMTs = 0\n",
      "--------------------\n",
      "@@@ Start analysing data\n"
     ]
    },
    {
     "name": "stderr",
     "output_type": "stream",
     "text": [
      "100%|██████████| 2000/2000 [00:24<00:00, 82.42it/s] \n",
      "  2%|▏         | 1/56 [00:27<24:57, 27.22s/it]"
     ]
    },
    {
     "name": "stdout",
     "output_type": "stream",
     "text": [
      "--------------------\n",
      " nEvents = 2000\n",
      " nPMTs   = 30912\n",
      " nODPMTs = 0\n",
      "--------------------\n",
      "@@@ Start analysing data\n"
     ]
    },
    {
     "name": "stderr",
     "output_type": "stream",
     "text": [
      "100%|██████████| 2000/2000 [00:21<00:00, 93.29it/s] \n",
      "  4%|▎         | 2/56 [00:50<22:20, 24.82s/it]"
     ]
    },
    {
     "name": "stdout",
     "output_type": "stream",
     "text": [
      "--------------------\n",
      " nEvents = 2000\n",
      " nPMTs   = 30912\n",
      " nODPMTs = 0\n",
      "--------------------\n",
      "@@@ Start analysing data\n"
     ]
    },
    {
     "name": "stderr",
     "output_type": "stream",
     "text": [
      "100%|██████████| 2000/2000 [00:26<00:00, 74.16it/s]\n",
      "  5%|▌         | 3/56 [01:19<23:37, 26.74s/it]"
     ]
    },
    {
     "name": "stdout",
     "output_type": "stream",
     "text": [
      "--------------------\n",
      " nEvents = 2000\n",
      " nPMTs   = 30912\n",
      " nODPMTs = 0\n",
      "--------------------\n",
      "@@@ Start analysing data\n"
     ]
    },
    {
     "name": "stderr",
     "output_type": "stream",
     "text": [
      "100%|██████████| 2000/2000 [00:21<00:00, 94.00it/s] \n",
      "  7%|▋         | 4/56 [01:42<21:55, 25.30s/it]"
     ]
    },
    {
     "name": "stdout",
     "output_type": "stream",
     "text": [
      "--------------------\n",
      " nEvents = 2000\n",
      " nPMTs   = 30912\n",
      " nODPMTs = 0\n",
      "--------------------\n",
      "@@@ Start analysing data\n"
     ]
    },
    {
     "name": "stderr",
     "output_type": "stream",
     "text": [
      "100%|██████████| 2000/2000 [00:30<00:00, 65.73it/s]\n",
      "  9%|▉         | 5/56 [02:15<23:48, 28.00s/it]"
     ]
    },
    {
     "name": "stdout",
     "output_type": "stream",
     "text": [
      "--------------------\n",
      " nEvents = 2000\n",
      " nPMTs   = 30912\n",
      " nODPMTs = 0\n",
      "--------------------\n",
      "@@@ Start analysing data\n"
     ]
    },
    {
     "name": "stderr",
     "output_type": "stream",
     "text": [
      "100%|██████████| 2000/2000 [00:27<00:00, 73.33it/s]\n",
      " 11%|█         | 6/56 [02:44<23:42, 28.45s/it]"
     ]
    },
    {
     "name": "stdout",
     "output_type": "stream",
     "text": [
      "--------------------\n",
      " nEvents = 2000\n",
      " nPMTs   = 30912\n",
      " nODPMTs = 0\n",
      "--------------------\n",
      "@@@ Start analysing data\n"
     ]
    },
    {
     "name": "stderr",
     "output_type": "stream",
     "text": [
      "100%|██████████| 2000/2000 [00:26<00:00, 74.10it/s]\n",
      " 12%|█▎        | 7/56 [03:14<23:30, 28.79s/it]"
     ]
    },
    {
     "name": "stdout",
     "output_type": "stream",
     "text": [
      "--------------------\n",
      " nEvents = 2000\n",
      " nPMTs   = 30912\n",
      " nODPMTs = 0\n",
      "--------------------\n",
      "@@@ Start analysing data\n"
     ]
    },
    {
     "name": "stderr",
     "output_type": "stream",
     "text": [
      "100%|██████████| 2000/2000 [00:34<00:00, 58.73it/s]\n",
      " 14%|█▍        | 8/56 [03:50<24:54, 31.13s/it]"
     ]
    },
    {
     "name": "stdout",
     "output_type": "stream",
     "text": [
      "--------------------\n",
      " nEvents = 2000\n",
      " nPMTs   = 30912\n",
      " nODPMTs = 0\n",
      "--------------------\n",
      "@@@ Start analysing data\n"
     ]
    },
    {
     "name": "stderr",
     "output_type": "stream",
     "text": [
      "100%|██████████| 2000/2000 [00:28<00:00, 70.76it/s]\n",
      " 16%|█▌        | 9/56 [04:21<24:19, 31.06s/it]"
     ]
    },
    {
     "name": "stdout",
     "output_type": "stream",
     "text": [
      "--------------------\n",
      " nEvents = 2000\n",
      " nPMTs   = 30912\n",
      " nODPMTs = 0\n",
      "--------------------\n",
      "@@@ Start analysing data\n"
     ]
    },
    {
     "name": "stderr",
     "output_type": "stream",
     "text": [
      "100%|██████████| 2000/2000 [00:30<00:00, 65.82it/s]\n",
      " 18%|█▊        | 10/56 [04:53<24:04, 31.40s/it]"
     ]
    },
    {
     "name": "stdout",
     "output_type": "stream",
     "text": [
      "--------------------\n",
      " nEvents = 2000\n",
      " nPMTs   = 30912\n",
      " nODPMTs = 0\n",
      "--------------------\n",
      "@@@ Start analysing data\n"
     ]
    },
    {
     "name": "stderr",
     "output_type": "stream",
     "text": [
      "100%|██████████| 2000/2000 [00:33<00:00, 59.66it/s]\n",
      " 20%|█▉        | 11/56 [05:29<24:39, 32.88s/it]"
     ]
    },
    {
     "name": "stdout",
     "output_type": "stream",
     "text": [
      "--------------------\n",
      " nEvents = 2000\n",
      " nPMTs   = 30912\n",
      " nODPMTs = 0\n",
      "--------------------\n",
      "@@@ Start analysing data\n"
     ]
    },
    {
     "name": "stderr",
     "output_type": "stream",
     "text": [
      "100%|██████████| 2000/2000 [00:27<00:00, 73.30it/s]\n",
      " 21%|██▏       | 12/56 [05:58<23:16, 31.75s/it]"
     ]
    },
    {
     "name": "stdout",
     "output_type": "stream",
     "text": [
      "--------------------\n",
      " nEvents = 2000\n",
      " nPMTs   = 30912\n",
      " nODPMTs = 0\n",
      "--------------------\n",
      "@@@ Start analysing data\n"
     ]
    },
    {
     "name": "stderr",
     "output_type": "stream",
     "text": [
      "100%|██████████| 2000/2000 [00:22<00:00, 90.07it/s] \n",
      " 23%|██▎       | 13/56 [06:23<21:09, 29.51s/it]"
     ]
    },
    {
     "name": "stdout",
     "output_type": "stream",
     "text": [
      "--------------------\n",
      " nEvents = 2000\n",
      " nPMTs   = 30912\n",
      " nODPMTs = 0\n",
      "--------------------\n",
      "@@@ Start analysing data\n"
     ]
    },
    {
     "name": "stderr",
     "output_type": "stream",
     "text": [
      "100%|██████████| 2000/2000 [00:30<00:00, 66.16it/s]\n",
      " 25%|██▌       | 14/56 [06:55<21:16, 30.39s/it]"
     ]
    },
    {
     "name": "stdout",
     "output_type": "stream",
     "text": [
      "--------------------\n",
      " nEvents = 2000\n",
      " nPMTs   = 30912\n",
      " nODPMTs = 0\n",
      "--------------------\n",
      "@@@ Start analysing data\n"
     ]
    },
    {
     "name": "stderr",
     "output_type": "stream",
     "text": [
      "100%|██████████| 2000/2000 [00:25<00:00, 79.72it/s]\n",
      " 27%|██▋       | 15/56 [07:22<20:09, 29.51s/it]"
     ]
    },
    {
     "name": "stdout",
     "output_type": "stream",
     "text": [
      "--------------------\n",
      " nEvents = 2000\n",
      " nPMTs   = 30912\n",
      " nODPMTs = 0\n",
      "--------------------\n",
      "@@@ Start analysing data\n"
     ]
    },
    {
     "name": "stderr",
     "output_type": "stream",
     "text": [
      "100%|██████████| 2000/2000 [00:33<00:00, 60.11it/s]\n",
      " 29%|██▊       | 16/56 [07:58<20:52, 31.31s/it]"
     ]
    },
    {
     "name": "stdout",
     "output_type": "stream",
     "text": [
      "--------------------\n",
      " nEvents = 2000\n",
      " nPMTs   = 30912\n",
      " nODPMTs = 0\n",
      "--------------------\n",
      "@@@ Start analysing data\n"
     ]
    },
    {
     "name": "stderr",
     "output_type": "stream",
     "text": [
      "100%|██████████| 2000/2000 [00:21<00:00, 91.67it/s] \n",
      " 30%|███       | 17/56 [08:22<18:58, 29.20s/it]"
     ]
    },
    {
     "name": "stdout",
     "output_type": "stream",
     "text": [
      "--------------------\n",
      " nEvents = 2000\n",
      " nPMTs   = 30912\n",
      " nODPMTs = 0\n",
      "--------------------\n",
      "@@@ Start analysing data\n"
     ]
    },
    {
     "name": "stderr",
     "output_type": "stream",
     "text": [
      "100%|██████████| 2000/2000 [00:24<00:00, 80.86it/s]\n",
      " 32%|███▏      | 18/56 [08:49<17:59, 28.40s/it]"
     ]
    },
    {
     "name": "stdout",
     "output_type": "stream",
     "text": [
      "--------------------\n",
      " nEvents = 2000\n",
      " nPMTs   = 30912\n",
      " nODPMTs = 0\n",
      "--------------------\n",
      "@@@ Start analysing data\n"
     ]
    },
    {
     "name": "stderr",
     "output_type": "stream",
     "text": [
      "100%|██████████| 2000/2000 [00:27<00:00, 71.54it/s]\n",
      " 34%|███▍      | 19/56 [09:19<17:52, 28.97s/it]"
     ]
    },
    {
     "name": "stdout",
     "output_type": "stream",
     "text": [
      "--------------------\n",
      " nEvents = 2000\n",
      " nPMTs   = 30912\n",
      " nODPMTs = 0\n",
      "--------------------\n",
      "@@@ Start analysing data\n"
     ]
    },
    {
     "name": "stderr",
     "output_type": "stream",
     "text": [
      "100%|██████████| 2000/2000 [00:21<00:00, 91.46it/s]\n",
      " 36%|███▌      | 20/56 [09:42<16:22, 27.30s/it]"
     ]
    },
    {
     "name": "stdout",
     "output_type": "stream",
     "text": [
      "--------------------\n",
      " nEvents = 2000\n",
      " nPMTs   = 30912\n",
      " nODPMTs = 0\n",
      "--------------------\n",
      "@@@ Start analysing data\n"
     ]
    },
    {
     "name": "stderr",
     "output_type": "stream",
     "text": [
      "100%|██████████| 2000/2000 [00:21<00:00, 94.56it/s] \n",
      " 38%|███▊      | 21/56 [10:05<15:10, 26.01s/it]"
     ]
    },
    {
     "name": "stdout",
     "output_type": "stream",
     "text": [
      "--------------------\n",
      " nEvents = 2000\n",
      " nPMTs   = 30912\n",
      " nODPMTs = 0\n",
      "--------------------\n",
      "@@@ Start analysing data\n"
     ]
    },
    {
     "name": "stderr",
     "output_type": "stream",
     "text": [
      "100%|██████████| 2000/2000 [00:21<00:00, 92.58it/s] \n",
      " 39%|███▉      | 22/56 [10:29<14:18, 25.26s/it]"
     ]
    },
    {
     "name": "stdout",
     "output_type": "stream",
     "text": [
      "--------------------\n",
      " nEvents = 2000\n",
      " nPMTs   = 30912\n",
      " nODPMTs = 0\n",
      "--------------------\n",
      "@@@ Start analysing data\n"
     ]
    },
    {
     "name": "stderr",
     "output_type": "stream",
     "text": [
      "100%|██████████| 2000/2000 [00:29<00:00, 68.50it/s]\n",
      " 41%|████      | 23/56 [11:00<14:50, 27.00s/it]"
     ]
    },
    {
     "name": "stdout",
     "output_type": "stream",
     "text": [
      "--------------------\n",
      " nEvents = 2000\n",
      " nPMTs   = 30912\n",
      " nODPMTs = 0\n",
      "--------------------\n",
      "@@@ Start analysing data\n"
     ]
    },
    {
     "name": "stderr",
     "output_type": "stream",
     "text": [
      "100%|██████████| 2000/2000 [00:18<00:00, 108.26it/s]\n",
      " 43%|████▎     | 24/56 [11:20<13:17, 24.91s/it]"
     ]
    },
    {
     "name": "stdout",
     "output_type": "stream",
     "text": [
      "--------------------\n",
      " nEvents = 2000\n",
      " nPMTs   = 30912\n",
      " nODPMTs = 0\n",
      "--------------------\n",
      "@@@ Start analysing data\n"
     ]
    },
    {
     "name": "stderr",
     "output_type": "stream",
     "text": [
      "100%|██████████| 2000/2000 [00:30<00:00, 66.33it/s]\n",
      " 45%|████▍     | 25/56 [11:53<14:03, 27.21s/it]"
     ]
    },
    {
     "name": "stdout",
     "output_type": "stream",
     "text": [
      "--------------------\n",
      " nEvents = 2000\n",
      " nPMTs   = 30912\n",
      " nODPMTs = 0\n",
      "--------------------\n",
      "@@@ Start analysing data\n"
     ]
    },
    {
     "name": "stderr",
     "output_type": "stream",
     "text": [
      "100%|██████████| 2000/2000 [00:21<00:00, 91.35it/s] \n",
      " 46%|████▋     | 26/56 [12:16<13:02, 26.10s/it]"
     ]
    },
    {
     "name": "stdout",
     "output_type": "stream",
     "text": [
      "--------------------\n",
      " nEvents = 2000\n",
      " nPMTs   = 30912\n",
      " nODPMTs = 0\n",
      "--------------------\n",
      "@@@ Start analysing data\n"
     ]
    },
    {
     "name": "stderr",
     "output_type": "stream",
     "text": [
      "100%|██████████| 2000/2000 [00:34<00:00, 58.05it/s]\n",
      " 48%|████▊     | 27/56 [12:53<14:12, 29.40s/it]"
     ]
    },
    {
     "name": "stdout",
     "output_type": "stream",
     "text": [
      "--------------------\n",
      " nEvents = 2000\n",
      " nPMTs   = 30912\n",
      " nODPMTs = 0\n",
      "--------------------\n",
      "@@@ Start analysing data\n"
     ]
    },
    {
     "name": "stderr",
     "output_type": "stream",
     "text": [
      "100%|██████████| 2000/2000 [00:32<00:00, 61.12it/s]\n",
      " 50%|█████     | 28/56 [13:28<14:30, 31.10s/it]"
     ]
    },
    {
     "name": "stdout",
     "output_type": "stream",
     "text": [
      "--------------------\n",
      " nEvents = 2000\n",
      " nPMTs   = 30912\n",
      " nODPMTs = 0\n",
      "--------------------\n",
      "@@@ Start analysing data\n"
     ]
    },
    {
     "name": "stderr",
     "output_type": "stream",
     "text": [
      "100%|██████████| 2000/2000 [00:18<00:00, 108.08it/s]\n",
      " 52%|█████▏    | 29/56 [13:49<12:34, 27.93s/it]"
     ]
    },
    {
     "name": "stdout",
     "output_type": "stream",
     "text": [
      "--------------------\n",
      " nEvents = 2000\n",
      " nPMTs   = 30912\n",
      " nODPMTs = 0\n",
      "--------------------\n",
      "@@@ Start analysing data\n"
     ]
    },
    {
     "name": "stderr",
     "output_type": "stream",
     "text": [
      "100%|██████████| 2000/2000 [00:30<00:00, 65.97it/s]\n",
      " 54%|█████▎    | 30/56 [14:21<12:39, 29.20s/it]"
     ]
    },
    {
     "name": "stdout",
     "output_type": "stream",
     "text": [
      "--------------------\n",
      " nEvents = 2000\n",
      " nPMTs   = 30912\n",
      " nODPMTs = 0\n",
      "--------------------\n",
      "@@@ Start analysing data\n"
     ]
    },
    {
     "name": "stderr",
     "output_type": "stream",
     "text": [
      "100%|██████████| 2000/2000 [00:27<00:00, 72.62it/s]\n",
      " 55%|█████▌    | 31/56 [14:51<12:18, 29.55s/it]"
     ]
    },
    {
     "name": "stdout",
     "output_type": "stream",
     "text": [
      "--------------------\n",
      " nEvents = 2000\n",
      " nPMTs   = 30912\n",
      " nODPMTs = 0\n",
      "--------------------\n",
      "@@@ Start analysing data\n"
     ]
    },
    {
     "name": "stderr",
     "output_type": "stream",
     "text": [
      "100%|██████████| 2000/2000 [00:33<00:00, 59.93it/s]\n",
      " 57%|█████▋    | 32/56 [15:27<12:31, 31.31s/it]"
     ]
    },
    {
     "name": "stdout",
     "output_type": "stream",
     "text": [
      "--------------------\n",
      " nEvents = 2000\n",
      " nPMTs   = 30912\n",
      " nODPMTs = 0\n",
      "--------------------\n",
      "@@@ Start analysing data\n"
     ]
    },
    {
     "name": "stderr",
     "output_type": "stream",
     "text": [
      "100%|██████████| 2000/2000 [00:33<00:00, 59.92it/s]\n",
      " 59%|█████▉    | 33/56 [16:03<12:35, 32.83s/it]"
     ]
    },
    {
     "name": "stdout",
     "output_type": "stream",
     "text": [
      "--------------------\n",
      " nEvents = 2000\n",
      " nPMTs   = 30912\n",
      " nODPMTs = 0\n",
      "--------------------\n",
      "@@@ Start analysing data\n"
     ]
    },
    {
     "name": "stderr",
     "output_type": "stream",
     "text": [
      "100%|██████████| 2000/2000 [00:30<00:00, 65.92it/s]\n",
      " 61%|██████    | 34/56 [16:36<12:00, 32.76s/it]"
     ]
    },
    {
     "name": "stdout",
     "output_type": "stream",
     "text": [
      "--------------------\n",
      " nEvents = 2000\n",
      " nPMTs   = 30912\n",
      " nODPMTs = 0\n",
      "--------------------\n",
      "@@@ Start analysing data\n"
     ]
    },
    {
     "name": "stderr",
     "output_type": "stream",
     "text": [
      "100%|██████████| 2000/2000 [00:27<00:00, 72.81it/s]\n",
      " 62%|██████▎   | 35/56 [17:06<11:10, 31.91s/it]"
     ]
    },
    {
     "name": "stdout",
     "output_type": "stream",
     "text": [
      "--------------------\n",
      " nEvents = 2000\n",
      " nPMTs   = 30912\n",
      " nODPMTs = 0\n",
      "--------------------\n",
      "@@@ Start analysing data\n"
     ]
    },
    {
     "name": "stderr",
     "output_type": "stream",
     "text": [
      "100%|██████████| 2000/2000 [00:27<00:00, 73.39it/s]\n",
      " 64%|██████▍   | 36/56 [17:35<10:23, 31.19s/it]"
     ]
    },
    {
     "name": "stdout",
     "output_type": "stream",
     "text": [
      "--------------------\n",
      " nEvents = 2000\n",
      " nPMTs   = 30912\n",
      " nODPMTs = 0\n",
      "--------------------\n",
      "@@@ Start analysing data\n"
     ]
    },
    {
     "name": "stderr",
     "output_type": "stream",
     "text": [
      "100%|██████████| 2000/2000 [00:34<00:00, 58.36it/s]\n",
      " 66%|██████▌   | 37/56 [18:12<10:24, 32.89s/it]"
     ]
    },
    {
     "name": "stdout",
     "output_type": "stream",
     "text": [
      "--------------------\n",
      " nEvents = 2000\n",
      " nPMTs   = 30912\n",
      " nODPMTs = 0\n",
      "--------------------\n",
      "@@@ Start analysing data\n"
     ]
    },
    {
     "name": "stderr",
     "output_type": "stream",
     "text": [
      "100%|██████████| 2000/2000 [00:34<00:00, 58.70it/s]\n",
      " 68%|██████▊   | 38/56 [18:49<10:15, 34.19s/it]"
     ]
    },
    {
     "name": "stdout",
     "output_type": "stream",
     "text": [
      "--------------------\n",
      " nEvents = 2000\n",
      " nPMTs   = 30912\n",
      " nODPMTs = 0\n",
      "--------------------\n",
      "@@@ Start analysing data\n"
     ]
    },
    {
     "name": "stderr",
     "output_type": "stream",
     "text": [
      "100%|██████████| 2000/2000 [00:24<00:00, 81.13it/s]\n",
      " 70%|██████▉   | 39/56 [19:16<09:02, 31.93s/it]"
     ]
    },
    {
     "name": "stdout",
     "output_type": "stream",
     "text": [
      "--------------------\n",
      " nEvents = 2000\n",
      " nPMTs   = 30912\n",
      " nODPMTs = 0\n",
      "--------------------\n",
      "@@@ Start analysing data\n"
     ]
    },
    {
     "name": "stderr",
     "output_type": "stream",
     "text": [
      "100%|██████████| 2000/2000 [00:29<00:00, 67.90it/s]\n",
      " 71%|███████▏  | 40/56 [19:48<08:29, 31.82s/it]"
     ]
    },
    {
     "name": "stdout",
     "output_type": "stream",
     "text": [
      "--------------------\n",
      " nEvents = 2000\n",
      " nPMTs   = 30912\n",
      " nODPMTs = 0\n",
      "--------------------\n",
      "@@@ Start analysing data\n"
     ]
    },
    {
     "name": "stderr",
     "output_type": "stream",
     "text": [
      "100%|██████████| 2000/2000 [00:24<00:00, 82.72it/s] \n",
      " 73%|███████▎  | 41/56 [20:14<07:31, 30.10s/it]"
     ]
    },
    {
     "name": "stdout",
     "output_type": "stream",
     "text": [
      "--------------------\n",
      " nEvents = 2000\n",
      " nPMTs   = 30912\n",
      " nODPMTs = 0\n",
      "--------------------\n",
      "@@@ Start analysing data\n"
     ]
    },
    {
     "name": "stderr",
     "output_type": "stream",
     "text": [
      "100%|██████████| 2000/2000 [00:18<00:00, 107.66it/s]\n",
      " 75%|███████▌  | 42/56 [20:34<06:19, 27.09s/it]"
     ]
    },
    {
     "name": "stdout",
     "output_type": "stream",
     "text": [
      "--------------------\n",
      " nEvents = 2000\n",
      " nPMTs   = 30912\n",
      " nODPMTs = 0\n",
      "--------------------\n",
      "@@@ Start analysing data\n"
     ]
    },
    {
     "name": "stderr",
     "output_type": "stream",
     "text": [
      "100%|██████████| 2000/2000 [00:24<00:00, 82.52it/s]\n",
      " 77%|███████▋  | 43/56 [21:00<05:50, 26.94s/it]"
     ]
    },
    {
     "name": "stdout",
     "output_type": "stream",
     "text": [
      "--------------------\n",
      " nEvents = 2000\n",
      " nPMTs   = 30912\n",
      " nODPMTs = 0\n",
      "--------------------\n",
      "@@@ Start analysing data\n"
     ]
    },
    {
     "name": "stderr",
     "output_type": "stream",
     "text": [
      "100%|██████████| 2000/2000 [00:18<00:00, 105.56it/s]\n",
      " 79%|███████▊  | 44/56 [21:21<05:00, 25.06s/it]"
     ]
    },
    {
     "name": "stdout",
     "output_type": "stream",
     "text": [
      "--------------------\n",
      " nEvents = 2000\n",
      " nPMTs   = 30912\n",
      " nODPMTs = 0\n",
      "--------------------\n",
      "@@@ Start analysing data\n"
     ]
    },
    {
     "name": "stderr",
     "output_type": "stream",
     "text": [
      "100%|██████████| 2000/2000 [00:24<00:00, 81.56it/s]\n",
      " 80%|████████  | 45/56 [21:48<04:41, 25.58s/it]"
     ]
    },
    {
     "name": "stdout",
     "output_type": "stream",
     "text": [
      "--------------------\n",
      " nEvents = 2000\n",
      " nPMTs   = 30912\n",
      " nODPMTs = 0\n",
      "--------------------\n",
      "@@@ Start analysing data\n"
     ]
    },
    {
     "name": "stderr",
     "output_type": "stream",
     "text": [
      "100%|██████████| 2000/2000 [00:25<00:00, 79.98it/s]\n",
      " 82%|████████▏ | 46/56 [22:15<04:19, 25.99s/it]"
     ]
    },
    {
     "name": "stdout",
     "output_type": "stream",
     "text": [
      "--------------------\n",
      " nEvents = 2000\n",
      " nPMTs   = 30912\n",
      " nODPMTs = 0\n",
      "--------------------\n",
      "@@@ Start analysing data\n"
     ]
    },
    {
     "name": "stderr",
     "output_type": "stream",
     "text": [
      "100%|██████████| 2000/2000 [00:29<00:00, 68.02it/s]\n",
      " 84%|████████▍ | 47/56 [22:46<04:09, 27.68s/it]"
     ]
    },
    {
     "name": "stdout",
     "output_type": "stream",
     "text": [
      "--------------------\n",
      " nEvents = 2000\n",
      " nPMTs   = 30912\n",
      " nODPMTs = 0\n",
      "--------------------\n",
      "@@@ Start analysing data\n"
     ]
    },
    {
     "name": "stderr",
     "output_type": "stream",
     "text": [
      "100%|██████████| 2000/2000 [00:25<00:00, 79.64it/s] \n",
      " 86%|████████▌ | 48/56 [23:13<03:39, 27.46s/it]"
     ]
    },
    {
     "name": "stdout",
     "output_type": "stream",
     "text": [
      "--------------------\n",
      " nEvents = 2000\n",
      " nPMTs   = 30912\n",
      " nODPMTs = 0\n",
      "--------------------\n",
      "@@@ Start analysing data\n"
     ]
    },
    {
     "name": "stderr",
     "output_type": "stream",
     "text": [
      "100%|██████████| 2000/2000 [00:27<00:00, 72.00it/s]\n",
      " 88%|████████▊ | 49/56 [23:43<03:17, 28.23s/it]"
     ]
    },
    {
     "name": "stdout",
     "output_type": "stream",
     "text": [
      "--------------------\n",
      " nEvents = 2000\n",
      " nPMTs   = 30912\n",
      " nODPMTs = 0\n",
      "--------------------\n",
      "@@@ Start analysing data\n"
     ]
    },
    {
     "name": "stderr",
     "output_type": "stream",
     "text": [
      "100%|██████████| 2000/2000 [00:22<00:00, 90.36it/s] \n",
      " 89%|████████▉ | 50/56 [24:07<02:41, 26.94s/it]"
     ]
    },
    {
     "name": "stdout",
     "output_type": "stream",
     "text": [
      "--------------------\n",
      " nEvents = 2000\n",
      " nPMTs   = 30912\n",
      " nODPMTs = 0\n",
      "--------------------\n",
      "@@@ Start analysing data\n"
     ]
    },
    {
     "name": "stderr",
     "output_type": "stream",
     "text": [
      "100%|██████████| 2000/2000 [00:33<00:00, 59.03it/s]\n",
      " 91%|█████████ | 51/56 [24:43<02:28, 29.68s/it]"
     ]
    },
    {
     "name": "stdout",
     "output_type": "stream",
     "text": [
      "--------------------\n",
      " nEvents = 2000\n",
      " nPMTs   = 30912\n",
      " nODPMTs = 0\n",
      "--------------------\n",
      "@@@ Start analysing data\n"
     ]
    },
    {
     "name": "stderr",
     "output_type": "stream",
     "text": [
      "100%|██████████| 2000/2000 [00:30<00:00, 65.69it/s]\n",
      " 93%|█████████▎| 52/56 [25:16<02:01, 30.47s/it]"
     ]
    },
    {
     "name": "stdout",
     "output_type": "stream",
     "text": [
      "--------------------\n",
      " nEvents = 2000\n",
      " nPMTs   = 30912\n",
      " nODPMTs = 0\n",
      "--------------------\n",
      "@@@ Start analysing data\n"
     ]
    },
    {
     "name": "stderr",
     "output_type": "stream",
     "text": [
      "100%|██████████| 2000/2000 [00:19<00:00, 101.31it/s]\n",
      " 95%|█████████▍| 53/56 [25:37<01:23, 27.71s/it]"
     ]
    },
    {
     "name": "stdout",
     "output_type": "stream",
     "text": [
      "--------------------\n",
      " nEvents = 2000\n",
      " nPMTs   = 30912\n",
      " nODPMTs = 0\n",
      "--------------------\n",
      "@@@ Start analysing data\n"
     ]
    },
    {
     "name": "stderr",
     "output_type": "stream",
     "text": [
      "100%|██████████| 2000/2000 [00:22<00:00, 89.69it/s] \n",
      " 96%|█████████▋| 54/56 [26:01<00:53, 26.77s/it]"
     ]
    },
    {
     "name": "stdout",
     "output_type": "stream",
     "text": [
      "--------------------\n",
      " nEvents = 2000\n",
      " nPMTs   = 30912\n",
      " nODPMTs = 0\n",
      "--------------------\n",
      "@@@ Start analysing data\n"
     ]
    },
    {
     "name": "stderr",
     "output_type": "stream",
     "text": [
      "100%|██████████| 2000/2000 [00:25<00:00, 79.56it/s]\n",
      " 98%|█████████▊| 55/56 [26:29<00:26, 26.96s/it]"
     ]
    },
    {
     "name": "stdout",
     "output_type": "stream",
     "text": [
      "--------------------\n",
      " nEvents = 2000\n",
      " nPMTs   = 30912\n",
      " nODPMTs = 0\n",
      "--------------------\n",
      "@@@ Start analysing data\n"
     ]
    },
    {
     "name": "stderr",
     "output_type": "stream",
     "text": [
      "100%|██████████| 2000/2000 [00:19<00:00, 104.43it/s]\n",
      "100%|██████████| 56/56 [26:50<00:00, 28.75s/it]\n",
      "Warning in <TClassTable::Add>: class WCSimRootCherenkovHit already in TClassTable\n",
      "Warning in <TClassTable::Add>: class WCSimRootCherenkovDigiHit already in TClassTable\n",
      "Warning in <TClassTable::Add>: class WCSimRootPi0 already in TClassTable\n",
      "Warning in <TClassTable::Add>: class WCSimRootTrigger already in TClassTable\n",
      "Warning in <TClassTable::Add>: class WCSimRootEvent already in TClassTable\n",
      "Warning in <TClassTable::Add>: class WCSimRootGeom already in TClassTable\n",
      "Warning in <TFile::Init>: no StreamerInfo found in /users/yewzzang/WCSim_KNO/WCSim_v1.8.0-build/libWCSimRootDict_rdict.pcm therefore preventing schema evolution when reading this file. The file was produced with version 6.28/04 of ROOT.\n",
      "Error in <TUnixSystem::Load>: version mismatch, /users/yewzzang/WCSim_KNO/WCSim_v1.8.0-build/libWCSimRoot.so = 62804, ROOT = 63002\n",
      "Warning in <TClassTable::Add>: class WCSimRootTrigger already in TClassTable\n",
      "Warning in <TClassTable::Add>: class WCSimRootEventHeader already in TClassTable\n",
      "Warning in <TClassTable::Add>: class WCSimRootPi0 already in TClassTable\n",
      "Warning in <TClassTable::Add>: class WCSimRootPMT already in TClassTable\n",
      "Warning in <TClassTable::Add>: class WCSimRootOptions already in TClassTable\n",
      "Warning in <TClassTable::Add>: class WCSimRootTrack already in TClassTable\n",
      "Warning in <TClassTable::Add>: class WCSimRootCherenkovHitTime already in TClassTable\n",
      "Warning in <TClassTable::Add>: class WCSimRootCherenkovDigiHit already in TClassTable\n",
      "Warning in <TClassTable::Add>: class WCSimDarkNoiseOptions already in TClassTable\n"
     ]
    }
   ],
   "source": [
    "for files in tqdm(range(len(list_file))):\n",
    "\n",
    "    file_name = input_path + list_file[files]\n",
    "    output_file = output_path + list_file[files][:-5] + '.h5'\n",
    "\n",
    "    ROOT.gSystem.Load(\"/users/yewzzang/WCSim_KNO/WCSim_v1.8.0-build/libWCSimRoot.so\")\n",
    "    fin = ROOT.TFile(file_name)\n",
    "\n",
    "    eventT = fin.Get(\"wcsimT\")\n",
    "    event = ROOT.WCSimRootEvent()\n",
    "    eventT.SetBranchAddress(\"wcsimrootevent\", event)\n",
    "    eventT.GetBranch(\"wcsimrootevent\").SetAutoDelete(1)\n",
    "    eventT.GetEntry(0)\n",
    "    nEvents = eventT.GetEntries()\n",
    "\n",
    "    ## Load the geometry\n",
    "    geomT = fin.Get(\"wcsimGeoT\")\n",
    "    geom = ROOT.WCSimRootGeom()\n",
    "    geomT.SetBranchAddress(\"wcsimrootgeom\", geom)\n",
    "    geomT.GetEntry(0)\n",
    "    nODPMTs = geom.GetODWCNumPMT()\n",
    "    nPMTs = geom.GetWCNumPMT()\n",
    "\n",
    "    print(\"--------------------\")\n",
    "    print(f\" nEvents = {nEvents}\")\n",
    "    print(f\" nPMTs   = {nPMTs}\")\n",
    "    print(f\" nODPMTs = {nODPMTs}\")\n",
    "    print(\"--------------------\")\n",
    "\n",
    "    out_pmt_x = np.zeros(nPMTs)\n",
    "    out_pmt_y = np.zeros(nPMTs)\n",
    "    out_pmt_z = np.zeros(nPMTs)\n",
    "\n",
    "    out_pmt_px = np.zeros(nPMTs)\n",
    "    out_pmt_py = np.zeros(nPMTs)\n",
    "    out_pmt_pz = np.zeros(nPMTs)\n",
    "\n",
    "    for iPMT in range(nPMTs):\n",
    "        pmt = geom.GetPMT(iPMT)\n",
    "        out_pmt_x[iPMT] = pmt.GetPosition(0)\n",
    "        out_pmt_y[iPMT] = pmt.GetPosition(1)\n",
    "        out_pmt_z[iPMT] = pmt.GetPosition(2)\n",
    "        out_pmt_px[iPMT] = pmt.GetOrientation(0)\n",
    "        out_pmt_py[iPMT] = pmt.GetOrientation(1)\n",
    "        out_pmt_pz[iPMT] = pmt.GetOrientation(2)\n",
    "\n",
    "    print(\"@@@ Start analysing data\")\n",
    "    out_vtx_x = np.zeros(nEvents)\n",
    "    out_vtx_y = np.zeros(nEvents)\n",
    "    out_vtx_z = np.zeros(nEvents)\n",
    "    out_vtx_t = np.zeros(nEvents)\n",
    "\n",
    "    out_vtx_px = np.zeros(nEvents)\n",
    "    out_vtx_py = np.zeros(nEvents)\n",
    "    out_vtx_pz = np.zeros(nEvents)\n",
    "    out_vtx_ke = np.zeros(nEvents)\n",
    "\n",
    "    out_pmt_q = np.zeros((nEvents, nPMTs))\n",
    "    out_pmt_t = np.zeros((nEvents, nPMTs))\n",
    "\n",
    "    for iEvent in tqdm(range(nEvents)):\n",
    "        eventT.GetEvent(iEvent)\n",
    "        trigger = event.GetTrigger(0)\n",
    "\n",
    "        nVtxs = trigger.GetNvtxs()\n",
    "        if nVtxs < 1: continue\n",
    "        out_vtx_x[iEvent] = trigger.GetVtx(0)\n",
    "        out_vtx_y[iEvent] = trigger.GetVtx(1)\n",
    "        out_vtx_z[iEvent] = trigger.GetVtx(2)\n",
    "        out_vtx_t[iEvent] = 0\n",
    "\n",
    "        out_vtx_px[iEvent] = 0\n",
    "        out_vtx_py[iEvent] = 0\n",
    "        out_vtx_pz[iEvent] = 0\n",
    "        out_vtx_ke[iEvent] = 0\n",
    "\n",
    "        nHitsC = trigger.GetNcherenkovdigihits()\n",
    "        for iHit in range(nHitsC):\n",
    "            hit = trigger.GetCherenkovDigiHits().At(iHit)\n",
    "            iPMT = hit.GetTubeId()-1\n",
    "            out_pmt_q[iEvent, iPMT] = hit.GetQ()\n",
    "            out_pmt_t[iEvent, iPMT] = hit.GetT()\n",
    "\n",
    "    pmts_num = (np.sum(out_pmt_q>0,axis=1) > 500)\n",
    "    dis = (np.linalg.norm(np.zeros((3,2000))-[out_vtx_x,out_vtx_y,out_vtx_z],axis=0)<3500)\n",
    "\n",
    "    # out_pmt_x = out_pmt_x[pmts_num & dis]\n",
    "    # out_pmt_y = out_pmt_y[pmts_num & dis]\n",
    "    # out_pmt_z = out_pmt_z[pmts_num & dis]\n",
    "\n",
    "    # out_pmt_px = out_pmt_px[pmts_num & dis]\n",
    "    # out_pmt_py = out_pmt_py[pmts_num & dis]\n",
    "    # out_pmt_pz = out_pmt_pz[pmts_num & dis]\n",
    "\n",
    "    out_vtx_x = out_vtx_x[pmts_num & dis]\n",
    "    out_vtx_y = out_vtx_y[pmts_num & dis]\n",
    "    out_vtx_z = out_vtx_z[pmts_num & dis]\n",
    "    out_vtx_t = out_vtx_t[pmts_num & dis]\n",
    "\n",
    "    out_vtx_px = out_vtx_px[pmts_num & dis]\n",
    "    out_vtx_py = out_vtx_py[pmts_num & dis]\n",
    "    out_vtx_pz = out_vtx_pz[pmts_num & dis]\n",
    "    out_vtx_ke = out_vtx_ke[pmts_num & dis]\n",
    "\n",
    "    out_pmt_t = out_pmt_t[pmts_num & dis]\n",
    "    out_pmt_q = out_pmt_q[pmts_num & dis]\n",
    "\n",
    "    kwargs = {'dtype':'f4', 'compression':'lzf'}\n",
    "    with h5py.File(output_file, 'w', libver='latest') as fout:\n",
    "        gGeom = fout.create_group('geom')\n",
    "        gGeom.create_dataset('pmt_x', data=out_pmt_x, **kwargs)\n",
    "        gGeom.create_dataset('pmt_y', data=out_pmt_y, **kwargs)\n",
    "        gGeom.create_dataset('pmt_z', data=out_pmt_z, **kwargs)\n",
    "\n",
    "        gGeom.create_dataset('pmt_px', data=out_pmt_px, **kwargs)\n",
    "        gGeom.create_dataset('pmt_py', data=out_pmt_py, **kwargs)\n",
    "        gGeom.create_dataset('pmt_pz', data=out_pmt_pz, **kwargs)\n",
    "\n",
    "        gEvent = fout.create_group('event')\n",
    "        gEvent.create_dataset('vtx_x', data=out_vtx_x, **kwargs)\n",
    "        gEvent.create_dataset('vtx_y', data=out_vtx_y, **kwargs)\n",
    "        gEvent.create_dataset('vtx_z', data=out_vtx_z, **kwargs)\n",
    "        gEvent.create_dataset('vtx_t', data=out_vtx_t, **kwargs)\n",
    "\n",
    "        gEvent.create_dataset('vtx_px', data=out_vtx_px, **kwargs)\n",
    "        gEvent.create_dataset('vtx_py', data=out_vtx_py, **kwargs)\n",
    "        gEvent.create_dataset('vtx_pz', data=out_vtx_pz, **kwargs)\n",
    "        gEvent.create_dataset('vtx_ke', data=out_vtx_ke, **kwargs)\n",
    "\n",
    "        gEvent.create_dataset('pmt_q', data=out_pmt_q, **kwargs)\n",
    "        gEvent.create_dataset('pmt_t', data=out_pmt_t, **kwargs)"
   ]
  },
  {
   "cell_type": "code",
   "execution_count": 5,
   "metadata": {},
   "outputs": [
    {
     "data": {
      "text/plain": [
       "(2000,)"
      ]
     },
     "execution_count": 5,
     "metadata": {},
     "output_type": "execute_result"
    }
   ],
   "source": [
    "dis.shape"
   ]
  },
  {
   "cell_type": "code",
   "execution_count": 6,
   "metadata": {},
   "outputs": [
    {
     "data": {
      "text/plain": [
       "(2000,)"
      ]
     },
     "execution_count": 6,
     "metadata": {},
     "output_type": "execute_result"
    }
   ],
   "source": [
    "pmts_num.shape"
   ]
  },
  {
   "cell_type": "code",
   "execution_count": 7,
   "metadata": {},
   "outputs": [
    {
     "data": {
      "text/plain": [
       "(30912,)"
      ]
     },
     "execution_count": 7,
     "metadata": {},
     "output_type": "execute_result"
    }
   ],
   "source": [
    "out_pmt_x.shape"
   ]
  }
 ],
 "metadata": {
  "kernelspec": {
   "display_name": "Python 3",
   "language": "python",
   "name": "python3"
  },
  "language_info": {
   "codemirror_mode": {
    "name": "ipython",
    "version": 3
   },
   "file_extension": ".py",
   "mimetype": "text/x-python",
   "name": "python",
   "nbconvert_exporter": "python",
   "pygments_lexer": "ipython3",
   "version": "3.11.0"
  }
 },
 "nbformat": 4,
 "nbformat_minor": 2
}
