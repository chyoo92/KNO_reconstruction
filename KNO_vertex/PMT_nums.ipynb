{
 "cells": [
  {
   "cell_type": "code",
   "execution_count": 1,
   "metadata": {},
   "outputs": [],
   "source": [
    "import torch\n",
    "import numpy as np\n",
    "import matplotlib.pyplot as plt\n",
    "\n",
    "from mpl_toolkits.mplot3d import Axes3D\n",
    "import os\n",
    "import h5py"
   ]
  },
  {
   "cell_type": "code",
   "execution_count": 2,
   "metadata": {},
   "outputs": [
    {
     "name": "stdout",
     "output_type": "stream",
     "text": [
      "mu_500MeV_7.h5\n",
      "mu_500MeV_73.h5\n",
      "mu_500MeV_72.h5\n",
      "mu_500MeV_70.h5\n",
      "mu_500MeV_71.h5\n",
      "mu_500MeV_79.h5\n",
      "mu_500MeV_76.h5\n",
      "mu_500MeV_77.h5\n",
      "mu_500MeV_78.h5\n",
      "mu_500MeV_75.h5\n",
      "mu_500MeV_74.h5\n",
      "mu_500MeV_706.h5\n",
      "mu_500MeV_701.h5\n",
      "mu_500MeV_705.h5\n",
      "mu_500MeV_703.h5\n",
      "mu_500MeV_702.h5\n",
      "mu_500MeV_700.h5\n",
      "mu_500MeV_704.h5\n",
      "mu_500MeV_708.h5\n",
      "mu_500MeV_711.h5\n",
      "mu_500MeV_712.h5\n",
      "mu_500MeV_707.h5\n",
      "mu_500MeV_710.h5\n",
      "mu_500MeV_714.h5\n",
      "mu_500MeV_735.h5\n",
      "mu_500MeV_725.h5\n",
      "mu_500MeV_722.h5\n",
      "mu_500MeV_733.h5\n",
      "mu_500MeV_709.h5\n",
      "mu_500MeV_713.h5\n",
      "mu_500MeV_740.h5\n",
      "mu_500MeV_717.h5\n",
      "mu_500MeV_716.h5\n",
      "mu_500MeV_736.h5\n",
      "mu_500MeV_726.h5\n",
      "mu_500MeV_715.h5\n",
      "mu_500MeV_723.h5\n",
      "mu_500MeV_732.h5\n",
      "mu_500MeV_718.h5\n",
      "mu_500MeV_741.h5\n",
      "mu_500MeV_734.h5\n",
      "mu_500MeV_727.h5\n",
      "mu_500MeV_728.h5\n",
      "mu_500MeV_721.h5\n",
      "mu_500MeV_731.h5\n",
      "mu_500MeV_730.h5\n",
      "mu_500MeV_724.h5\n",
      "mu_500MeV_719.h5\n",
      "mu_500MeV_720.h5\n",
      "mu_500MeV_739.h5\n",
      "mu_500MeV_742.h5\n",
      "mu_500MeV_737.h5\n",
      "mu_500MeV_738.h5\n",
      "mu_500MeV_729.h5\n",
      "mu_500MeV_744.h5\n",
      "mu_500MeV_743.h5\n",
      "mu_500MeV_751.h5\n",
      "mu_500MeV_784.h5\n",
      "mu_500MeV_752.h5\n",
      "mu_500MeV_793.h5\n",
      "mu_500MeV_765.h5\n",
      "mu_500MeV_761.h5\n",
      "mu_500MeV_763.h5\n",
      "mu_500MeV_782.h5\n",
      "mu_500MeV_759.h5\n",
      "mu_500MeV_770.h5\n",
      "mu_500MeV_779.h5\n",
      "mu_500MeV_773.h5\n",
      "mu_500MeV_783.h5\n",
      "mu_500MeV_778.h5\n",
      "mu_500MeV_774.h5\n",
      "mu_500MeV_754.h5\n",
      "mu_500MeV_775.h5\n",
      "mu_500MeV_776.h5\n",
      "mu_500MeV_777.h5\n",
      "mu_500MeV_753.h5\n",
      "mu_500MeV_747.h5\n",
      "mu_500MeV_787.h5\n",
      "mu_500MeV_785.h5\n",
      "mu_500MeV_786.h5\n",
      "mu_500MeV_788.h5\n",
      "mu_500MeV_792.h5\n",
      "mu_500MeV_756.h5\n",
      "mu_500MeV_789.h5\n",
      "mu_500MeV_745.h5\n",
      "mu_500MeV_748.h5\n",
      "mu_500MeV_749.h5\n",
      "mu_500MeV_758.h5\n",
      "mu_500MeV_755.h5\n",
      "mu_500MeV_767.h5\n",
      "mu_500MeV_760.h5\n",
      "mu_500MeV_764.h5\n",
      "mu_500MeV_750.h5\n",
      "mu_500MeV_757.h5\n",
      "mu_500MeV_766.h5\n",
      "mu_500MeV_762.h5\n",
      "mu_500MeV_746.h5\n",
      "mu_500MeV_771.h5\n",
      "mu_500MeV_796.h5\n",
      "mu_500MeV_790.h5\n",
      "mu_500MeV_791.h5\n",
      "mu_500MeV_797.h5\n",
      "mu_500MeV_781.h5\n",
      "mu_500MeV_780.h5\n",
      "mu_500MeV_795.h5\n",
      "mu_500MeV_794.h5\n",
      "mu_500MeV_798.h5\n",
      "mu_500MeV_772.h5\n",
      "mu_500MeV_799.h5\n",
      "mu_500MeV_769.h5\n",
      "mu_500MeV_768.h5\n"
     ]
    },
    {
     "data": {
      "text/plain": [
       "111"
      ]
     },
     "execution_count": 2,
     "metadata": {},
     "output_type": "execute_result"
    }
   ],
   "source": [
    "\n",
    "\n",
    "folder_path = \"/store/cpnr/users/yewzzang/KNO_mu_500/h5_v2\"\n",
    "\n",
    "\n",
    "files = os.listdir(folder_path)\n",
    "files_list = []\n",
    "\n",
    "for file in files:\n",
    "    if file.startswith(\"mu_500MeV_7\"):\n",
    "        print(file)\n",
    "        files_list.append(file)\n",
    "len(files_list)"
   ]
  },
  {
   "cell_type": "code",
   "execution_count": 3,
   "metadata": {},
   "outputs": [
    {
     "ename": "FileNotFoundError",
     "evalue": "[Errno 2] Unable to synchronously open file (unable to open file: name = '/home/chyoo/KNO_data/mu_500_h5_v2/mu_500MeV_7.h5', errno = 2, error message = 'No such file or directory', flags = 40, o_flags = 0)",
     "output_type": "error",
     "traceback": [
      "\u001b[0;31m---------------------------------------------------------------------------\u001b[0m",
      "\u001b[0;31mFileNotFoundError\u001b[0m                         Traceback (most recent call last)",
      "Cell \u001b[0;32mIn[3], line 5\u001b[0m\n\u001b[1;32m      2\u001b[0m num_events \u001b[38;5;241m=\u001b[39m \u001b[38;5;241m0\u001b[39m\n\u001b[1;32m      3\u001b[0m \u001b[38;5;28;01mfor\u001b[39;00m files \u001b[38;5;129;01min\u001b[39;00m \u001b[38;5;28mrange\u001b[39m(\u001b[38;5;28mlen\u001b[39m(files_list)):\n\u001b[0;32m----> 5\u001b[0m     f \u001b[38;5;241m=\u001b[39m \u001b[43mh5py\u001b[49m\u001b[38;5;241;43m.\u001b[39;49m\u001b[43mFile\u001b[49m\u001b[43m(\u001b[49m\u001b[38;5;124;43m'\u001b[39;49m\u001b[38;5;124;43m/home/chyoo/KNO_data/mu_500_h5_v2/\u001b[39;49m\u001b[38;5;124;43m'\u001b[39;49m\u001b[38;5;241;43m+\u001b[39;49m\u001b[43mfiles_list\u001b[49m\u001b[43m[\u001b[49m\u001b[43mfiles\u001b[49m\u001b[43m]\u001b[49m\u001b[43m,\u001b[49m\u001b[38;5;124;43m'\u001b[39;49m\u001b[38;5;124;43mr\u001b[39;49m\u001b[38;5;124;43m'\u001b[39;49m\u001b[43m,\u001b[49m\u001b[43m \u001b[49m\u001b[43mlibver\u001b[49m\u001b[38;5;241;43m=\u001b[39;49m\u001b[38;5;124;43m'\u001b[39;49m\u001b[38;5;124;43mlatest\u001b[39;49m\u001b[38;5;124;43m'\u001b[39;49m\u001b[43m,\u001b[49m\u001b[43m \u001b[49m\u001b[43mswmr\u001b[49m\u001b[38;5;241;43m=\u001b[39;49m\u001b[38;5;28;43;01mTrue\u001b[39;49;00m\u001b[43m)\u001b[49m\n\u001b[1;32m      6\u001b[0m     num_events \u001b[38;5;241m+\u001b[39m\u001b[38;5;241m=\u001b[39m f[\u001b[38;5;124m'\u001b[39m\u001b[38;5;124mevent\u001b[39m\u001b[38;5;124m'\u001b[39m][\u001b[38;5;124m'\u001b[39m\u001b[38;5;124mpmt_q\u001b[39m\u001b[38;5;124m'\u001b[39m]\u001b[38;5;241m.\u001b[39mshape[\u001b[38;5;241m0\u001b[39m]\n",
      "File \u001b[0;32m~/.conda/envs/pyg24/lib/python3.11/site-packages/h5py/_hl/files.py:562\u001b[0m, in \u001b[0;36mFile.__init__\u001b[0;34m(self, name, mode, driver, libver, userblock_size, swmr, rdcc_nslots, rdcc_nbytes, rdcc_w0, track_order, fs_strategy, fs_persist, fs_threshold, fs_page_size, page_buf_size, min_meta_keep, min_raw_keep, locking, alignment_threshold, alignment_interval, meta_block_size, **kwds)\u001b[0m\n\u001b[1;32m    553\u001b[0m     fapl \u001b[38;5;241m=\u001b[39m make_fapl(driver, libver, rdcc_nslots, rdcc_nbytes, rdcc_w0,\n\u001b[1;32m    554\u001b[0m                      locking, page_buf_size, min_meta_keep, min_raw_keep,\n\u001b[1;32m    555\u001b[0m                      alignment_threshold\u001b[38;5;241m=\u001b[39malignment_threshold,\n\u001b[1;32m    556\u001b[0m                      alignment_interval\u001b[38;5;241m=\u001b[39malignment_interval,\n\u001b[1;32m    557\u001b[0m                      meta_block_size\u001b[38;5;241m=\u001b[39mmeta_block_size,\n\u001b[1;32m    558\u001b[0m                      \u001b[38;5;241m*\u001b[39m\u001b[38;5;241m*\u001b[39mkwds)\n\u001b[1;32m    559\u001b[0m     fcpl \u001b[38;5;241m=\u001b[39m make_fcpl(track_order\u001b[38;5;241m=\u001b[39mtrack_order, fs_strategy\u001b[38;5;241m=\u001b[39mfs_strategy,\n\u001b[1;32m    560\u001b[0m                      fs_persist\u001b[38;5;241m=\u001b[39mfs_persist, fs_threshold\u001b[38;5;241m=\u001b[39mfs_threshold,\n\u001b[1;32m    561\u001b[0m                      fs_page_size\u001b[38;5;241m=\u001b[39mfs_page_size)\n\u001b[0;32m--> 562\u001b[0m     fid \u001b[38;5;241m=\u001b[39m \u001b[43mmake_fid\u001b[49m\u001b[43m(\u001b[49m\u001b[43mname\u001b[49m\u001b[43m,\u001b[49m\u001b[43m \u001b[49m\u001b[43mmode\u001b[49m\u001b[43m,\u001b[49m\u001b[43m \u001b[49m\u001b[43muserblock_size\u001b[49m\u001b[43m,\u001b[49m\u001b[43m \u001b[49m\u001b[43mfapl\u001b[49m\u001b[43m,\u001b[49m\u001b[43m \u001b[49m\u001b[43mfcpl\u001b[49m\u001b[43m,\u001b[49m\u001b[43m \u001b[49m\u001b[43mswmr\u001b[49m\u001b[38;5;241;43m=\u001b[39;49m\u001b[43mswmr\u001b[49m\u001b[43m)\u001b[49m\n\u001b[1;32m    564\u001b[0m \u001b[38;5;28;01mif\u001b[39;00m \u001b[38;5;28misinstance\u001b[39m(libver, \u001b[38;5;28mtuple\u001b[39m):\n\u001b[1;32m    565\u001b[0m     \u001b[38;5;28mself\u001b[39m\u001b[38;5;241m.\u001b[39m_libver \u001b[38;5;241m=\u001b[39m libver\n",
      "File \u001b[0;32m~/.conda/envs/pyg24/lib/python3.11/site-packages/h5py/_hl/files.py:235\u001b[0m, in \u001b[0;36mmake_fid\u001b[0;34m(name, mode, userblock_size, fapl, fcpl, swmr)\u001b[0m\n\u001b[1;32m    233\u001b[0m     \u001b[38;5;28;01mif\u001b[39;00m swmr \u001b[38;5;129;01mand\u001b[39;00m swmr_support:\n\u001b[1;32m    234\u001b[0m         flags \u001b[38;5;241m|\u001b[39m\u001b[38;5;241m=\u001b[39m h5f\u001b[38;5;241m.\u001b[39mACC_SWMR_READ\n\u001b[0;32m--> 235\u001b[0m     fid \u001b[38;5;241m=\u001b[39m \u001b[43mh5f\u001b[49m\u001b[38;5;241;43m.\u001b[39;49m\u001b[43mopen\u001b[49m\u001b[43m(\u001b[49m\u001b[43mname\u001b[49m\u001b[43m,\u001b[49m\u001b[43m \u001b[49m\u001b[43mflags\u001b[49m\u001b[43m,\u001b[49m\u001b[43m \u001b[49m\u001b[43mfapl\u001b[49m\u001b[38;5;241;43m=\u001b[39;49m\u001b[43mfapl\u001b[49m\u001b[43m)\u001b[49m\n\u001b[1;32m    236\u001b[0m \u001b[38;5;28;01melif\u001b[39;00m mode \u001b[38;5;241m==\u001b[39m \u001b[38;5;124m'\u001b[39m\u001b[38;5;124mr+\u001b[39m\u001b[38;5;124m'\u001b[39m:\n\u001b[1;32m    237\u001b[0m     fid \u001b[38;5;241m=\u001b[39m h5f\u001b[38;5;241m.\u001b[39mopen(name, h5f\u001b[38;5;241m.\u001b[39mACC_RDWR, fapl\u001b[38;5;241m=\u001b[39mfapl)\n",
      "File \u001b[0;32mh5py/_objects.pyx:54\u001b[0m, in \u001b[0;36mh5py._objects.with_phil.wrapper\u001b[0;34m()\u001b[0m\n",
      "File \u001b[0;32mh5py/_objects.pyx:55\u001b[0m, in \u001b[0;36mh5py._objects.with_phil.wrapper\u001b[0;34m()\u001b[0m\n",
      "File \u001b[0;32mh5py/h5f.pyx:102\u001b[0m, in \u001b[0;36mh5py.h5f.open\u001b[0;34m()\u001b[0m\n",
      "\u001b[0;31mFileNotFoundError\u001b[0m: [Errno 2] Unable to synchronously open file (unable to open file: name = '/home/chyoo/KNO_data/mu_500_h5_v2/mu_500MeV_7.h5', errno = 2, error message = 'No such file or directory', flags = 40, o_flags = 0)"
     ]
    }
   ],
   "source": [
    "# files = 1\n",
    "num_events = 0\n",
    "for files in range(len(files_list)):\n",
    "    \n",
    "    f = h5py.File('/home/chyoo/KNO_data/mu_500_h5_v2/'+files_list[files],'r', libver='latest', swmr=True)\n",
    "    num_events += f['event']['pmt_q'].shape[0]"
   ]
  },
  {
   "cell_type": "code",
   "execution_count": null,
   "metadata": {},
   "outputs": [],
   "source": []
  },
  {
   "cell_type": "code",
   "execution_count": null,
   "metadata": {},
   "outputs": [],
   "source": []
  }
 ],
 "metadata": {
  "kernelspec": {
   "display_name": "Python 3",
   "language": "python",
   "name": "python3"
  },
  "language_info": {
   "codemirror_mode": {
    "name": "ipython",
    "version": 3
   },
   "file_extension": ".py",
   "mimetype": "text/x-python",
   "name": "python",
   "nbconvert_exporter": "python",
   "pygments_lexer": "ipython3",
   "version": "3.11.0"
  }
 },
 "nbformat": 4,
 "nbformat_minor": 4
}
