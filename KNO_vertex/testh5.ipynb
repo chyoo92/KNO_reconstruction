{
 "cells": [
  {
   "cell_type": "code",
   "execution_count": 1,
   "metadata": {},
   "outputs": [
    {
     "name": "stdout",
     "output_type": "stream",
     "text": [
      "Welcome to JupyROOT 6.30/02\n"
     ]
    }
   ],
   "source": [
    "import os\n",
    "import ROOT\n",
    "import numpy as np\n",
    "import h5py\n",
    "from tqdm import tqdm"
   ]
  },
  {
   "cell_type": "code",
   "execution_count": 2,
   "metadata": {},
   "outputs": [],
   "source": [
    "input_path = \"/store/hep/users/yewzzang/KNO/elec_500/\"\n",
    "output_path = \"/store/cpnr/users/yewzzang/KNO_h5/pi0_100to1000/\""
   ]
  },
  {
   "cell_type": "code",
   "execution_count": 3,
   "metadata": {},
   "outputs": [],
   "source": [
    "list_file = os.listdir(input_path)"
   ]
  },
  {
   "cell_type": "code",
   "execution_count": 4,
   "metadata": {},
   "outputs": [
    {
     "name": "stderr",
     "output_type": "stream",
     "text": [
      "  0%|          | 0/500 [00:00<?, ?it/s]"
     ]
    },
    {
     "name": "stdout",
     "output_type": "stream",
     "text": [
      "--------------------\n",
      " nEvents = 2000\n",
      " nPMTs   = 30912\n",
      " nODPMTs = 0\n",
      "--------------------\n",
      "@@@ Start analysing data\n"
     ]
    },
    {
     "name": "stderr",
     "output_type": "stream",
     "text": [
      "100%|██████████| 2000/2000 [00:16<00:00, 121.95it/s]\n",
      "  0%|          | 1/500 [00:18<2:31:24, 18.20s/it]"
     ]
    },
    {
     "name": "stdout",
     "output_type": "stream",
     "text": [
      "--------------------\n",
      " nEvents = 2000\n",
      " nPMTs   = 30912\n",
      " nODPMTs = 0\n",
      "--------------------\n",
      "@@@ Start analysing data\n"
     ]
    },
    {
     "name": "stderr",
     "output_type": "stream",
     "text": [
      "100%|██████████| 2000/2000 [00:16<00:00, 119.99it/s]\n",
      "  0%|          | 2/500 [00:36<2:31:19, 18.23s/it]"
     ]
    },
    {
     "name": "stdout",
     "output_type": "stream",
     "text": [
      "--------------------\n",
      " nEvents = 2000\n",
      " nPMTs   = 30912\n",
      " nODPMTs = 0\n",
      "--------------------\n",
      "@@@ Start analysing data\n"
     ]
    },
    {
     "name": "stderr",
     "output_type": "stream",
     "text": [
      "100%|██████████| 2000/2000 [00:16<00:00, 120.06it/s]\n",
      "  1%|          | 3/500 [00:54<2:31:02, 18.24s/it]"
     ]
    },
    {
     "name": "stdout",
     "output_type": "stream",
     "text": [
      "--------------------\n",
      " nEvents = 2000\n",
      " nPMTs   = 30912\n",
      " nODPMTs = 0\n",
      "--------------------\n",
      "@@@ Start analysing data\n"
     ]
    },
    {
     "name": "stderr",
     "output_type": "stream",
     "text": [
      "100%|██████████| 2000/2000 [00:16<00:00, 118.89it/s]\n",
      "  1%|          | 4/500 [01:13<2:31:16, 18.30s/it]"
     ]
    },
    {
     "name": "stdout",
     "output_type": "stream",
     "text": [
      "--------------------\n",
      " nEvents = 2000\n",
      " nPMTs   = 30912\n",
      " nODPMTs = 0\n",
      "--------------------\n",
      "@@@ Start analysing data\n"
     ]
    },
    {
     "name": "stderr",
     "output_type": "stream",
     "text": [
      "100%|██████████| 2000/2000 [00:17<00:00, 112.06it/s]\n",
      "  1%|          | 5/500 [01:32<2:34:19, 18.71s/it]"
     ]
    },
    {
     "name": "stdout",
     "output_type": "stream",
     "text": [
      "--------------------\n",
      " nEvents = 2000\n",
      " nPMTs   = 30912\n",
      " nODPMTs = 0\n",
      "--------------------\n",
      "@@@ Start analysing data\n"
     ]
    },
    {
     "name": "stderr",
     "output_type": "stream",
     "text": [
      "100%|██████████| 2000/2000 [00:21<00:00, 94.76it/s] \n",
      "  1%|          | 6/500 [01:55<2:46:16, 20.19s/it]"
     ]
    },
    {
     "name": "stdout",
     "output_type": "stream",
     "text": [
      "--------------------\n",
      " nEvents = 2000\n",
      " nPMTs   = 30912\n",
      " nODPMTs = 0\n",
      "--------------------\n",
      "@@@ Start analysing data\n"
     ]
    },
    {
     "name": "stderr",
     "output_type": "stream",
     "text": [
      "100%|██████████| 2000/2000 [00:20<00:00, 95.57it/s] \n",
      "  1%|▏         | 7/500 [02:18<2:53:11, 21.08s/it]"
     ]
    },
    {
     "name": "stdout",
     "output_type": "stream",
     "text": [
      "--------------------\n",
      " nEvents = 2000\n",
      " nPMTs   = 30912\n",
      " nODPMTs = 0\n",
      "--------------------\n",
      "@@@ Start analysing data\n"
     ]
    },
    {
     "name": "stderr",
     "output_type": "stream",
     "text": [
      "100%|██████████| 2000/2000 [00:21<00:00, 94.31it/s] \n",
      "  2%|▏         | 8/500 [02:41<2:58:10, 21.73s/it]"
     ]
    },
    {
     "name": "stdout",
     "output_type": "stream",
     "text": [
      "--------------------\n",
      " nEvents = 2000\n",
      " nPMTs   = 30912\n",
      " nODPMTs = 0\n",
      "--------------------\n",
      "@@@ Start analysing data\n"
     ]
    },
    {
     "name": "stderr",
     "output_type": "stream",
     "text": [
      "100%|██████████| 2000/2000 [00:20<00:00, 97.05it/s] \n",
      "  2%|▏         | 9/500 [03:04<2:59:58, 21.99s/it]"
     ]
    },
    {
     "name": "stdout",
     "output_type": "stream",
     "text": [
      "--------------------\n",
      " nEvents = 2000\n",
      " nPMTs   = 30912\n",
      " nODPMTs = 0\n",
      "--------------------\n",
      "@@@ Start analysing data\n"
     ]
    },
    {
     "name": "stderr",
     "output_type": "stream",
     "text": [
      "100%|██████████| 2000/2000 [00:21<00:00, 94.27it/s] \n",
      "  2%|▏         | 10/500 [03:27<3:02:34, 22.36s/it]"
     ]
    },
    {
     "name": "stdout",
     "output_type": "stream",
     "text": [
      "--------------------\n",
      " nEvents = 2000\n",
      " nPMTs   = 30912\n",
      " nODPMTs = 0\n",
      "--------------------\n",
      "@@@ Start analysing data\n"
     ]
    },
    {
     "name": "stderr",
     "output_type": "stream",
     "text": [
      "100%|██████████| 2000/2000 [00:20<00:00, 95.84it/s] \n",
      "  2%|▏         | 11/500 [03:50<3:03:22, 22.50s/it]"
     ]
    },
    {
     "name": "stdout",
     "output_type": "stream",
     "text": [
      "--------------------\n",
      " nEvents = 2000\n",
      " nPMTs   = 30912\n",
      " nODPMTs = 0\n",
      "--------------------\n",
      "@@@ Start analysing data\n"
     ]
    },
    {
     "name": "stderr",
     "output_type": "stream",
     "text": [
      "100%|██████████| 2000/2000 [00:20<00:00, 97.39it/s] \n",
      "  2%|▏         | 12/500 [04:12<3:03:07, 22.52s/it]"
     ]
    },
    {
     "name": "stdout",
     "output_type": "stream",
     "text": [
      "--------------------\n",
      " nEvents = 2000\n",
      " nPMTs   = 30912\n",
      " nODPMTs = 0\n",
      "--------------------\n",
      "@@@ Start analysing data\n"
     ]
    },
    {
     "name": "stderr",
     "output_type": "stream",
     "text": [
      "100%|██████████| 2000/2000 [00:20<00:00, 95.42it/s] \n",
      "  3%|▎         | 13/500 [04:35<3:04:11, 22.69s/it]"
     ]
    },
    {
     "name": "stdout",
     "output_type": "stream",
     "text": [
      "--------------------\n",
      " nEvents = 2000\n",
      " nPMTs   = 30912\n",
      " nODPMTs = 0\n",
      "--------------------\n",
      "@@@ Start analysing data\n"
     ]
    },
    {
     "name": "stderr",
     "output_type": "stream",
     "text": [
      "100%|██████████| 2000/2000 [00:20<00:00, 95.46it/s] \n",
      "  3%|▎         | 14/500 [04:58<3:04:16, 22.75s/it]"
     ]
    },
    {
     "name": "stdout",
     "output_type": "stream",
     "text": [
      "--------------------\n",
      " nEvents = 2000\n",
      " nPMTs   = 30912\n",
      " nODPMTs = 0\n",
      "--------------------\n",
      "@@@ Start analysing data\n"
     ]
    },
    {
     "name": "stderr",
     "output_type": "stream",
     "text": [
      "100%|██████████| 2000/2000 [00:20<00:00, 96.04it/s] \n",
      "  3%|▎         | 15/500 [05:21<3:04:07, 22.78s/it]"
     ]
    },
    {
     "name": "stdout",
     "output_type": "stream",
     "text": [
      "--------------------\n",
      " nEvents = 2000\n",
      " nPMTs   = 30912\n",
      " nODPMTs = 0\n",
      "--------------------\n",
      "@@@ Start analysing data\n"
     ]
    },
    {
     "name": "stderr",
     "output_type": "stream",
     "text": [
      "100%|██████████| 2000/2000 [00:21<00:00, 94.95it/s] \n",
      "  3%|▎         | 16/500 [05:44<3:04:03, 22.82s/it]"
     ]
    },
    {
     "name": "stdout",
     "output_type": "stream",
     "text": [
      "--------------------\n",
      " nEvents = 2000\n",
      " nPMTs   = 30912\n",
      " nODPMTs = 0\n",
      "--------------------\n",
      "@@@ Start analysing data\n"
     ]
    },
    {
     "name": "stderr",
     "output_type": "stream",
     "text": [
      "100%|██████████| 2000/2000 [00:20<00:00, 95.86it/s] \n",
      "  3%|▎         | 17/500 [06:07<3:03:41, 22.82s/it]"
     ]
    },
    {
     "name": "stdout",
     "output_type": "stream",
     "text": [
      "--------------------\n",
      " nEvents = 2000\n",
      " nPMTs   = 30912\n",
      " nODPMTs = 0\n",
      "--------------------\n",
      "@@@ Start analysing data\n"
     ]
    },
    {
     "name": "stderr",
     "output_type": "stream",
     "text": [
      "100%|██████████| 2000/2000 [00:20<00:00, 98.09it/s] \n",
      "  4%|▎         | 18/500 [06:29<3:02:02, 22.66s/it]"
     ]
    },
    {
     "name": "stdout",
     "output_type": "stream",
     "text": [
      "--------------------\n",
      " nEvents = 2000\n",
      " nPMTs   = 30912\n",
      " nODPMTs = 0\n",
      "--------------------\n",
      "@@@ Start analysing data\n"
     ]
    },
    {
     "name": "stderr",
     "output_type": "stream",
     "text": [
      "100%|██████████| 2000/2000 [00:20<00:00, 96.02it/s] \n",
      "  4%|▍         | 19/500 [06:52<3:02:29, 22.76s/it]"
     ]
    },
    {
     "name": "stdout",
     "output_type": "stream",
     "text": [
      "--------------------\n",
      " nEvents = 2000\n",
      " nPMTs   = 30912\n",
      " nODPMTs = 0\n",
      "--------------------\n",
      "@@@ Start analysing data\n"
     ]
    },
    {
     "name": "stderr",
     "output_type": "stream",
     "text": [
      "100%|██████████| 2000/2000 [00:20<00:00, 96.25it/s] \n",
      "  4%|▍         | 20/500 [07:15<3:02:01, 22.75s/it]"
     ]
    },
    {
     "name": "stdout",
     "output_type": "stream",
     "text": [
      "--------------------\n",
      " nEvents = 2000\n",
      " nPMTs   = 30912\n",
      " nODPMTs = 0\n",
      "--------------------\n",
      "@@@ Start analysing data\n"
     ]
    },
    {
     "name": "stderr",
     "output_type": "stream",
     "text": [
      "100%|██████████| 2000/2000 [00:21<00:00, 95.19it/s] \n",
      "  4%|▍         | 21/500 [07:38<3:02:13, 22.83s/it]"
     ]
    },
    {
     "name": "stdout",
     "output_type": "stream",
     "text": [
      "--------------------\n",
      " nEvents = 2000\n",
      " nPMTs   = 30912\n",
      " nODPMTs = 0\n",
      "--------------------\n",
      "@@@ Start analysing data\n"
     ]
    },
    {
     "name": "stderr",
     "output_type": "stream",
     "text": [
      "100%|██████████| 2000/2000 [00:20<00:00, 98.63it/s] \n",
      "  4%|▍         | 22/500 [08:00<3:00:23, 22.64s/it]"
     ]
    },
    {
     "name": "stdout",
     "output_type": "stream",
     "text": [
      "--------------------\n",
      " nEvents = 2000\n",
      " nPMTs   = 30912\n",
      " nODPMTs = 0\n",
      "--------------------\n",
      "@@@ Start analysing data\n"
     ]
    },
    {
     "name": "stderr",
     "output_type": "stream",
     "text": [
      "100%|██████████| 2000/2000 [00:21<00:00, 94.64it/s] \n",
      "  5%|▍         | 23/500 [08:23<3:01:06, 22.78s/it]"
     ]
    },
    {
     "name": "stdout",
     "output_type": "stream",
     "text": [
      "--------------------\n",
      " nEvents = 2000\n",
      " nPMTs   = 30912\n",
      " nODPMTs = 0\n",
      "--------------------\n",
      "@@@ Start analysing data\n"
     ]
    },
    {
     "name": "stderr",
     "output_type": "stream",
     "text": [
      "100%|██████████| 2000/2000 [00:20<00:00, 96.68it/s] \n",
      "  5%|▍         | 24/500 [08:46<3:00:19, 22.73s/it]"
     ]
    },
    {
     "name": "stdout",
     "output_type": "stream",
     "text": [
      "--------------------\n",
      " nEvents = 2000\n",
      " nPMTs   = 30912\n",
      " nODPMTs = 0\n",
      "--------------------\n",
      "@@@ Start analysing data\n"
     ]
    },
    {
     "name": "stderr",
     "output_type": "stream",
     "text": [
      "100%|██████████| 2000/2000 [00:21<00:00, 94.85it/s] \n",
      "  5%|▌         | 25/500 [09:09<3:00:49, 22.84s/it]"
     ]
    },
    {
     "name": "stdout",
     "output_type": "stream",
     "text": [
      "--------------------\n",
      " nEvents = 2000\n",
      " nPMTs   = 30912\n",
      " nODPMTs = 0\n",
      "--------------------\n",
      "@@@ Start analysing data\n"
     ]
    },
    {
     "name": "stderr",
     "output_type": "stream",
     "text": [
      "100%|██████████| 2000/2000 [00:21<00:00, 92.47it/s] \n",
      "  5%|▌         | 26/500 [09:32<3:02:14, 23.07s/it]"
     ]
    },
    {
     "name": "stdout",
     "output_type": "stream",
     "text": [
      "--------------------\n",
      " nEvents = 2000\n",
      " nPMTs   = 30912\n",
      " nODPMTs = 0\n",
      "--------------------\n",
      "@@@ Start analysing data\n"
     ]
    },
    {
     "name": "stderr",
     "output_type": "stream",
     "text": [
      "100%|██████████| 2000/2000 [00:20<00:00, 96.44it/s] \n",
      "  5%|▌         | 27/500 [09:55<3:01:15, 22.99s/it]"
     ]
    },
    {
     "name": "stdout",
     "output_type": "stream",
     "text": [
      "--------------------\n",
      " nEvents = 2000\n",
      " nPMTs   = 30912\n",
      " nODPMTs = 0\n",
      "--------------------\n",
      "@@@ Start analysing data\n"
     ]
    },
    {
     "name": "stderr",
     "output_type": "stream",
     "text": [
      "100%|██████████| 2000/2000 [00:20<00:00, 96.27it/s] \n",
      "  6%|▌         | 28/500 [10:18<3:00:10, 22.90s/it]"
     ]
    },
    {
     "name": "stdout",
     "output_type": "stream",
     "text": [
      "--------------------\n",
      " nEvents = 2000\n",
      " nPMTs   = 30912\n",
      " nODPMTs = 0\n",
      "--------------------\n",
      "@@@ Start analysing data\n"
     ]
    },
    {
     "name": "stderr",
     "output_type": "stream",
     "text": [
      "100%|██████████| 2000/2000 [00:20<00:00, 96.18it/s] \n",
      "  6%|▌         | 29/500 [10:41<2:59:26, 22.86s/it]"
     ]
    },
    {
     "name": "stdout",
     "output_type": "stream",
     "text": [
      "--------------------\n",
      " nEvents = 2000\n",
      " nPMTs   = 30912\n",
      " nODPMTs = 0\n",
      "--------------------\n",
      "@@@ Start analysing data\n"
     ]
    },
    {
     "name": "stderr",
     "output_type": "stream",
     "text": [
      "100%|██████████| 2000/2000 [00:20<00:00, 96.10it/s] \n",
      "  6%|▌         | 30/500 [11:04<2:58:55, 22.84s/it]"
     ]
    },
    {
     "name": "stdout",
     "output_type": "stream",
     "text": [
      "--------------------\n",
      " nEvents = 2000\n",
      " nPMTs   = 30912\n",
      " nODPMTs = 0\n",
      "--------------------\n",
      "@@@ Start analysing data\n"
     ]
    },
    {
     "name": "stderr",
     "output_type": "stream",
     "text": [
      "100%|██████████| 2000/2000 [00:20<00:00, 95.92it/s] \n",
      "  6%|▌         | 31/500 [11:26<2:58:37, 22.85s/it]"
     ]
    },
    {
     "name": "stdout",
     "output_type": "stream",
     "text": [
      "--------------------\n",
      " nEvents = 2000\n",
      " nPMTs   = 30912\n",
      " nODPMTs = 0\n",
      "--------------------\n",
      "@@@ Start analysing data\n"
     ]
    },
    {
     "name": "stderr",
     "output_type": "stream",
     "text": [
      "100%|██████████| 2000/2000 [00:20<00:00, 95.73it/s] \n",
      "  6%|▋         | 32/500 [11:49<2:58:02, 22.83s/it]"
     ]
    },
    {
     "name": "stdout",
     "output_type": "stream",
     "text": [
      "--------------------\n",
      " nEvents = 2000\n",
      " nPMTs   = 30912\n",
      " nODPMTs = 0\n",
      "--------------------\n",
      "@@@ Start analysing data\n"
     ]
    },
    {
     "name": "stderr",
     "output_type": "stream",
     "text": [
      "100%|██████████| 2000/2000 [00:20<00:00, 96.96it/s] \n",
      "  7%|▋         | 33/500 [12:12<2:57:29, 22.81s/it]"
     ]
    },
    {
     "name": "stdout",
     "output_type": "stream",
     "text": [
      "--------------------\n",
      " nEvents = 2000\n",
      " nPMTs   = 30912\n",
      " nODPMTs = 0\n",
      "--------------------\n",
      "@@@ Start analysing data\n"
     ]
    },
    {
     "name": "stderr",
     "output_type": "stream",
     "text": [
      "100%|██████████| 2000/2000 [00:21<00:00, 94.54it/s] \n",
      "  7%|▋         | 34/500 [12:35<2:57:48, 22.89s/it]"
     ]
    },
    {
     "name": "stdout",
     "output_type": "stream",
     "text": [
      "--------------------\n",
      " nEvents = 2000\n",
      " nPMTs   = 30912\n",
      " nODPMTs = 0\n",
      "--------------------\n",
      "@@@ Start analysing data\n"
     ]
    },
    {
     "name": "stderr",
     "output_type": "stream",
     "text": [
      "100%|██████████| 2000/2000 [00:20<00:00, 96.37it/s] \n",
      "  7%|▋         | 35/500 [12:58<2:56:57, 22.83s/it]"
     ]
    },
    {
     "name": "stdout",
     "output_type": "stream",
     "text": [
      "--------------------\n",
      " nEvents = 2000\n",
      " nPMTs   = 30912\n",
      " nODPMTs = 0\n",
      "--------------------\n",
      "@@@ Start analysing data\n"
     ]
    },
    {
     "name": "stderr",
     "output_type": "stream",
     "text": [
      "100%|██████████| 2000/2000 [00:20<00:00, 97.17it/s] \n",
      "  7%|▋         | 36/500 [13:20<2:55:59, 22.76s/it]"
     ]
    },
    {
     "name": "stdout",
     "output_type": "stream",
     "text": [
      "--------------------\n",
      " nEvents = 2000\n",
      " nPMTs   = 30912\n",
      " nODPMTs = 0\n",
      "--------------------\n",
      "@@@ Start analysing data\n"
     ]
    },
    {
     "name": "stderr",
     "output_type": "stream",
     "text": [
      "100%|██████████| 2000/2000 [00:20<00:00, 95.36it/s] \n",
      "  7%|▋         | 37/500 [13:43<2:55:57, 22.80s/it]"
     ]
    },
    {
     "name": "stdout",
     "output_type": "stream",
     "text": [
      "--------------------\n",
      " nEvents = 2000\n",
      " nPMTs   = 30912\n",
      " nODPMTs = 0\n",
      "--------------------\n",
      "@@@ Start analysing data\n"
     ]
    },
    {
     "name": "stderr",
     "output_type": "stream",
     "text": [
      "100%|██████████| 2000/2000 [00:21<00:00, 95.22it/s] \n",
      "  8%|▊         | 38/500 [14:06<2:55:54, 22.84s/it]"
     ]
    },
    {
     "name": "stdout",
     "output_type": "stream",
     "text": [
      "--------------------\n",
      " nEvents = 2000\n",
      " nPMTs   = 30912\n",
      " nODPMTs = 0\n",
      "--------------------\n",
      "@@@ Start analysing data\n"
     ]
    },
    {
     "name": "stderr",
     "output_type": "stream",
     "text": [
      "100%|██████████| 2000/2000 [00:20<00:00, 95.76it/s] \n",
      "  8%|▊         | 39/500 [14:29<2:55:10, 22.80s/it]"
     ]
    },
    {
     "name": "stdout",
     "output_type": "stream",
     "text": [
      "--------------------\n",
      " nEvents = 2000\n",
      " nPMTs   = 30912\n",
      " nODPMTs = 0\n",
      "--------------------\n",
      "@@@ Start analysing data\n"
     ]
    },
    {
     "name": "stderr",
     "output_type": "stream",
     "text": [
      "100%|██████████| 2000/2000 [00:21<00:00, 94.00it/s] \n",
      "  8%|▊         | 40/500 [14:52<2:55:52, 22.94s/it]"
     ]
    },
    {
     "name": "stdout",
     "output_type": "stream",
     "text": [
      "--------------------\n",
      " nEvents = 2000\n",
      " nPMTs   = 30912\n",
      " nODPMTs = 0\n",
      "--------------------\n",
      "@@@ Start analysing data\n"
     ]
    },
    {
     "name": "stderr",
     "output_type": "stream",
     "text": [
      "100%|██████████| 2000/2000 [00:20<00:00, 96.25it/s] \n",
      "  8%|▊         | 41/500 [15:15<2:54:47, 22.85s/it]"
     ]
    },
    {
     "name": "stdout",
     "output_type": "stream",
     "text": [
      "--------------------\n",
      " nEvents = 2000\n",
      " nPMTs   = 30912\n",
      " nODPMTs = 0\n",
      "--------------------\n",
      "@@@ Start analysing data\n"
     ]
    },
    {
     "name": "stderr",
     "output_type": "stream",
     "text": [
      "100%|██████████| 2000/2000 [00:21<00:00, 93.79it/s] \n",
      "  8%|▊         | 42/500 [15:38<2:55:35, 23.00s/it]"
     ]
    },
    {
     "name": "stdout",
     "output_type": "stream",
     "text": [
      "--------------------\n",
      " nEvents = 2000\n",
      " nPMTs   = 30912\n",
      " nODPMTs = 0\n",
      "--------------------\n",
      "@@@ Start analysing data\n"
     ]
    },
    {
     "name": "stderr",
     "output_type": "stream",
     "text": [
      "100%|██████████| 2000/2000 [00:21<00:00, 94.95it/s] \n",
      "  9%|▊         | 43/500 [16:01<2:55:19, 23.02s/it]"
     ]
    },
    {
     "name": "stdout",
     "output_type": "stream",
     "text": [
      "--------------------\n",
      " nEvents = 2000\n",
      " nPMTs   = 30912\n",
      " nODPMTs = 0\n",
      "--------------------\n",
      "@@@ Start analysing data\n"
     ]
    },
    {
     "name": "stderr",
     "output_type": "stream",
     "text": [
      "100%|██████████| 2000/2000 [00:21<00:00, 94.96it/s] \n",
      "  9%|▉         | 44/500 [16:24<2:55:27, 23.09s/it]"
     ]
    },
    {
     "name": "stdout",
     "output_type": "stream",
     "text": [
      "--------------------\n",
      " nEvents = 2000\n",
      " nPMTs   = 30912\n",
      " nODPMTs = 0\n",
      "--------------------\n",
      "@@@ Start analysing data\n"
     ]
    },
    {
     "name": "stderr",
     "output_type": "stream",
     "text": [
      "100%|██████████| 2000/2000 [00:20<00:00, 95.69it/s] \n",
      "  9%|▉         | 45/500 [16:47<2:54:23, 23.00s/it]"
     ]
    },
    {
     "name": "stdout",
     "output_type": "stream",
     "text": [
      "--------------------\n",
      " nEvents = 2000\n",
      " nPMTs   = 30912\n",
      " nODPMTs = 0\n",
      "--------------------\n",
      "@@@ Start analysing data\n"
     ]
    },
    {
     "name": "stderr",
     "output_type": "stream",
     "text": [
      "100%|██████████| 2000/2000 [00:20<00:00, 95.74it/s] \n",
      "  9%|▉         | 46/500 [17:10<2:53:39, 22.95s/it]"
     ]
    },
    {
     "name": "stdout",
     "output_type": "stream",
     "text": [
      "--------------------\n",
      " nEvents = 2000\n",
      " nPMTs   = 30912\n",
      " nODPMTs = 0\n",
      "--------------------\n",
      "@@@ Start analysing data\n"
     ]
    },
    {
     "name": "stderr",
     "output_type": "stream",
     "text": [
      "100%|██████████| 2000/2000 [00:21<00:00, 92.85it/s]\n",
      "  9%|▉         | 47/500 [17:34<2:54:39, 23.13s/it]"
     ]
    },
    {
     "name": "stdout",
     "output_type": "stream",
     "text": [
      "--------------------\n",
      " nEvents = 2000\n",
      " nPMTs   = 30912\n",
      " nODPMTs = 0\n",
      "--------------------\n",
      "@@@ Start analysing data\n"
     ]
    },
    {
     "name": "stderr",
     "output_type": "stream",
     "text": [
      "100%|██████████| 2000/2000 [00:21<00:00, 93.45it/s] \n",
      " 10%|▉         | 48/500 [17:57<2:54:44, 23.20s/it]"
     ]
    },
    {
     "name": "stdout",
     "output_type": "stream",
     "text": [
      "--------------------\n",
      " nEvents = 2000\n",
      " nPMTs   = 30912\n",
      " nODPMTs = 0\n",
      "--------------------\n",
      "@@@ Start analysing data\n"
     ]
    },
    {
     "name": "stderr",
     "output_type": "stream",
     "text": [
      "100%|██████████| 2000/2000 [00:20<00:00, 98.02it/s] \n",
      " 10%|▉         | 49/500 [18:19<2:52:22, 22.93s/it]"
     ]
    },
    {
     "name": "stdout",
     "output_type": "stream",
     "text": [
      "--------------------\n",
      " nEvents = 2000\n",
      " nPMTs   = 30912\n",
      " nODPMTs = 0\n",
      "--------------------\n",
      "@@@ Start analysing data\n"
     ]
    },
    {
     "name": "stderr",
     "output_type": "stream",
     "text": [
      "100%|██████████| 2000/2000 [00:21<00:00, 94.22it/s] \n",
      " 10%|█         | 50/500 [18:42<2:52:19, 22.98s/it]"
     ]
    },
    {
     "name": "stdout",
     "output_type": "stream",
     "text": [
      "--------------------\n",
      " nEvents = 2000\n",
      " nPMTs   = 30912\n",
      " nODPMTs = 0\n",
      "--------------------\n",
      "@@@ Start analysing data\n"
     ]
    },
    {
     "name": "stderr",
     "output_type": "stream",
     "text": [
      "100%|██████████| 2000/2000 [00:20<00:00, 96.21it/s] \n",
      " 10%|█         | 51/500 [19:05<2:51:28, 22.91s/it]"
     ]
    },
    {
     "name": "stdout",
     "output_type": "stream",
     "text": [
      "--------------------\n",
      " nEvents = 2000\n",
      " nPMTs   = 30912\n",
      " nODPMTs = 0\n",
      "--------------------\n",
      "@@@ Start analysing data\n"
     ]
    },
    {
     "name": "stderr",
     "output_type": "stream",
     "text": [
      "100%|██████████| 2000/2000 [00:20<00:00, 95.80it/s] \n",
      " 10%|█         | 52/500 [19:28<2:50:40, 22.86s/it]"
     ]
    },
    {
     "name": "stdout",
     "output_type": "stream",
     "text": [
      "--------------------\n",
      " nEvents = 2000\n",
      " nPMTs   = 30912\n",
      " nODPMTs = 0\n",
      "--------------------\n",
      "@@@ Start analysing data\n"
     ]
    },
    {
     "name": "stderr",
     "output_type": "stream",
     "text": [
      "100%|██████████| 2000/2000 [00:20<00:00, 96.59it/s] \n",
      " 11%|█         | 53/500 [19:51<2:49:55, 22.81s/it]"
     ]
    },
    {
     "name": "stdout",
     "output_type": "stream",
     "text": [
      "--------------------\n",
      " nEvents = 2000\n",
      " nPMTs   = 30912\n",
      " nODPMTs = 0\n",
      "--------------------\n",
      "@@@ Start analysing data\n"
     ]
    },
    {
     "name": "stderr",
     "output_type": "stream",
     "text": [
      "100%|██████████| 2000/2000 [00:20<00:00, 96.53it/s] \n",
      " 11%|█         | 54/500 [20:13<2:49:11, 22.76s/it]"
     ]
    },
    {
     "name": "stdout",
     "output_type": "stream",
     "text": [
      "--------------------\n",
      " nEvents = 2000\n",
      " nPMTs   = 30912\n",
      " nODPMTs = 0\n",
      "--------------------\n",
      "@@@ Start analysing data\n"
     ]
    },
    {
     "name": "stderr",
     "output_type": "stream",
     "text": [
      "100%|██████████| 2000/2000 [00:20<00:00, 96.74it/s] \n",
      " 11%|█         | 55/500 [20:36<2:48:38, 22.74s/it]"
     ]
    },
    {
     "name": "stdout",
     "output_type": "stream",
     "text": [
      "--------------------\n",
      " nEvents = 2000\n",
      " nPMTs   = 30912\n",
      " nODPMTs = 0\n",
      "--------------------\n",
      "@@@ Start analysing data\n"
     ]
    },
    {
     "name": "stderr",
     "output_type": "stream",
     "text": [
      "100%|██████████| 2000/2000 [00:20<00:00, 97.46it/s] \n",
      " 11%|█         | 56/500 [20:58<2:47:36, 22.65s/it]"
     ]
    },
    {
     "name": "stdout",
     "output_type": "stream",
     "text": [
      "--------------------\n",
      " nEvents = 2000\n",
      " nPMTs   = 30912\n",
      " nODPMTs = 0\n",
      "--------------------\n",
      "@@@ Start analysing data\n"
     ]
    },
    {
     "name": "stderr",
     "output_type": "stream",
     "text": [
      "100%|██████████| 2000/2000 [00:21<00:00, 94.69it/s] \n",
      " 11%|█▏        | 57/500 [21:21<2:48:11, 22.78s/it]"
     ]
    },
    {
     "name": "stdout",
     "output_type": "stream",
     "text": [
      "--------------------\n",
      " nEvents = 2000\n",
      " nPMTs   = 30912\n",
      " nODPMTs = 0\n",
      "--------------------\n",
      "@@@ Start analysing data\n"
     ]
    },
    {
     "name": "stderr",
     "output_type": "stream",
     "text": [
      "100%|██████████| 2000/2000 [00:20<00:00, 98.03it/s] \n",
      " 12%|█▏        | 58/500 [21:44<2:47:29, 22.74s/it]"
     ]
    },
    {
     "name": "stdout",
     "output_type": "stream",
     "text": [
      "--------------------\n",
      " nEvents = 2000\n",
      " nPMTs   = 30912\n",
      " nODPMTs = 0\n",
      "--------------------\n",
      "@@@ Start analysing data\n"
     ]
    },
    {
     "name": "stderr",
     "output_type": "stream",
     "text": [
      "100%|██████████| 2000/2000 [00:20<00:00, 96.39it/s] \n",
      " 12%|█▏        | 59/500 [22:07<2:47:00, 22.72s/it]"
     ]
    },
    {
     "name": "stdout",
     "output_type": "stream",
     "text": [
      "--------------------\n",
      " nEvents = 2000\n",
      " nPMTs   = 30912\n",
      " nODPMTs = 0\n",
      "--------------------\n",
      "@@@ Start analysing data\n"
     ]
    },
    {
     "name": "stderr",
     "output_type": "stream",
     "text": [
      "100%|██████████| 2000/2000 [00:20<00:00, 96.96it/s] \n",
      " 12%|█▏        | 60/500 [22:29<2:46:12, 22.66s/it]"
     ]
    },
    {
     "name": "stdout",
     "output_type": "stream",
     "text": [
      "--------------------\n",
      " nEvents = 2000\n",
      " nPMTs   = 30912\n",
      " nODPMTs = 0\n",
      "--------------------\n",
      "@@@ Start analysing data\n"
     ]
    },
    {
     "name": "stderr",
     "output_type": "stream",
     "text": [
      "100%|██████████| 2000/2000 [00:21<00:00, 94.07it/s] \n",
      " 12%|█▏        | 61/500 [22:52<2:46:42, 22.78s/it]"
     ]
    },
    {
     "name": "stdout",
     "output_type": "stream",
     "text": [
      "--------------------\n",
      " nEvents = 2000\n",
      " nPMTs   = 30912\n",
      " nODPMTs = 0\n",
      "--------------------\n",
      "@@@ Start analysing data\n"
     ]
    },
    {
     "name": "stderr",
     "output_type": "stream",
     "text": [
      "100%|██████████| 2000/2000 [00:20<00:00, 96.69it/s] \n",
      " 12%|█▏        | 62/500 [23:15<2:46:03, 22.75s/it]"
     ]
    },
    {
     "name": "stdout",
     "output_type": "stream",
     "text": [
      "--------------------\n",
      " nEvents = 2000\n",
      " nPMTs   = 30912\n",
      " nODPMTs = 0\n",
      "--------------------\n",
      "@@@ Start analysing data\n"
     ]
    },
    {
     "name": "stderr",
     "output_type": "stream",
     "text": [
      "100%|██████████| 2000/2000 [00:21<00:00, 94.72it/s] \n",
      " 13%|█▎        | 63/500 [23:38<2:46:26, 22.85s/it]"
     ]
    },
    {
     "name": "stdout",
     "output_type": "stream",
     "text": [
      "--------------------\n",
      " nEvents = 2000\n",
      " nPMTs   = 30912\n",
      " nODPMTs = 0\n",
      "--------------------\n",
      "@@@ Start analysing data\n"
     ]
    },
    {
     "name": "stderr",
     "output_type": "stream",
     "text": [
      "100%|██████████| 2000/2000 [00:20<00:00, 95.70it/s] \n",
      " 13%|█▎        | 64/500 [24:01<2:46:02, 22.85s/it]"
     ]
    },
    {
     "name": "stdout",
     "output_type": "stream",
     "text": [
      "--------------------\n",
      " nEvents = 2000\n",
      " nPMTs   = 30912\n",
      " nODPMTs = 0\n",
      "--------------------\n",
      "@@@ Start analysing data\n"
     ]
    },
    {
     "name": "stderr",
     "output_type": "stream",
     "text": [
      "100%|██████████| 2000/2000 [00:20<00:00, 95.79it/s] \n",
      " 13%|█▎        | 65/500 [24:24<2:45:33, 22.84s/it]"
     ]
    },
    {
     "name": "stdout",
     "output_type": "stream",
     "text": [
      "--------------------\n",
      " nEvents = 2000\n",
      " nPMTs   = 30912\n",
      " nODPMTs = 0\n",
      "--------------------\n",
      "@@@ Start analysing data\n"
     ]
    },
    {
     "name": "stderr",
     "output_type": "stream",
     "text": [
      "100%|██████████| 2000/2000 [00:21<00:00, 93.50it/s] \n",
      " 13%|█▎        | 66/500 [24:47<2:46:22, 23.00s/it]"
     ]
    },
    {
     "name": "stdout",
     "output_type": "stream",
     "text": [
      "--------------------\n",
      " nEvents = 2000\n",
      " nPMTs   = 30912\n",
      " nODPMTs = 0\n",
      "--------------------\n",
      "@@@ Start analysing data\n"
     ]
    },
    {
     "name": "stderr",
     "output_type": "stream",
     "text": [
      "100%|██████████| 2000/2000 [00:20<00:00, 96.13it/s] \n",
      " 13%|█▎        | 67/500 [25:10<2:45:12, 22.89s/it]"
     ]
    },
    {
     "name": "stdout",
     "output_type": "stream",
     "text": [
      "--------------------\n",
      " nEvents = 2000\n",
      " nPMTs   = 30912\n",
      " nODPMTs = 0\n",
      "--------------------\n",
      "@@@ Start analysing data\n"
     ]
    },
    {
     "name": "stderr",
     "output_type": "stream",
     "text": [
      "100%|██████████| 2000/2000 [00:20<00:00, 96.50it/s] \n",
      " 14%|█▎        | 68/500 [25:32<2:44:22, 22.83s/it]"
     ]
    },
    {
     "name": "stdout",
     "output_type": "stream",
     "text": [
      "--------------------\n",
      " nEvents = 2000\n",
      " nPMTs   = 30912\n",
      " nODPMTs = 0\n",
      "--------------------\n",
      "@@@ Start analysing data\n"
     ]
    },
    {
     "name": "stderr",
     "output_type": "stream",
     "text": [
      "100%|██████████| 2000/2000 [00:21<00:00, 94.07it/s] \n",
      " 14%|█▍        | 69/500 [25:56<2:44:47, 22.94s/it]"
     ]
    },
    {
     "name": "stdout",
     "output_type": "stream",
     "text": [
      "--------------------\n",
      " nEvents = 2000\n",
      " nPMTs   = 30912\n",
      " nODPMTs = 0\n",
      "--------------------\n",
      "@@@ Start analysing data\n"
     ]
    },
    {
     "name": "stderr",
     "output_type": "stream",
     "text": [
      "100%|██████████| 2000/2000 [00:20<00:00, 95.78it/s] \n",
      " 14%|█▍        | 70/500 [26:18<2:44:09, 22.91s/it]"
     ]
    },
    {
     "name": "stdout",
     "output_type": "stream",
     "text": [
      "--------------------\n",
      " nEvents = 2000\n",
      " nPMTs   = 30912\n",
      " nODPMTs = 0\n",
      "--------------------\n",
      "@@@ Start analysing data\n"
     ]
    },
    {
     "name": "stderr",
     "output_type": "stream",
     "text": [
      "100%|██████████| 2000/2000 [00:20<00:00, 95.90it/s] \n",
      " 14%|█▍        | 71/500 [26:41<2:43:34, 22.88s/it]"
     ]
    },
    {
     "name": "stdout",
     "output_type": "stream",
     "text": [
      "--------------------\n",
      " nEvents = 2000\n",
      " nPMTs   = 30912\n",
      " nODPMTs = 0\n",
      "--------------------\n",
      "@@@ Start analysing data\n"
     ]
    },
    {
     "name": "stderr",
     "output_type": "stream",
     "text": [
      "100%|██████████| 2000/2000 [00:20<00:00, 95.91it/s] \n",
      " 14%|█▍        | 72/500 [27:04<2:43:04, 22.86s/it]"
     ]
    },
    {
     "name": "stdout",
     "output_type": "stream",
     "text": [
      "--------------------\n",
      " nEvents = 2000\n",
      " nPMTs   = 30912\n",
      " nODPMTs = 0\n",
      "--------------------\n",
      "@@@ Start analysing data\n"
     ]
    },
    {
     "name": "stderr",
     "output_type": "stream",
     "text": [
      "100%|██████████| 2000/2000 [00:20<00:00, 95.93it/s] \n",
      " 15%|█▍        | 73/500 [27:27<2:42:18, 22.81s/it]"
     ]
    },
    {
     "name": "stdout",
     "output_type": "stream",
     "text": [
      "--------------------\n",
      " nEvents = 2000\n",
      " nPMTs   = 30912\n",
      " nODPMTs = 0\n",
      "--------------------\n",
      "@@@ Start analysing data\n"
     ]
    },
    {
     "name": "stderr",
     "output_type": "stream",
     "text": [
      "100%|██████████| 2000/2000 [00:20<00:00, 96.94it/s] \n",
      " 15%|█▍        | 74/500 [27:49<2:41:18, 22.72s/it]"
     ]
    },
    {
     "name": "stdout",
     "output_type": "stream",
     "text": [
      "--------------------\n",
      " nEvents = 2000\n",
      " nPMTs   = 30912\n",
      " nODPMTs = 0\n",
      "--------------------\n",
      "@@@ Start analysing data\n"
     ]
    },
    {
     "name": "stderr",
     "output_type": "stream",
     "text": [
      "100%|██████████| 2000/2000 [00:20<00:00, 96.55it/s] \n",
      " 15%|█▌        | 75/500 [28:12<2:41:14, 22.76s/it]"
     ]
    },
    {
     "name": "stdout",
     "output_type": "stream",
     "text": [
      "--------------------\n",
      " nEvents = 2000\n",
      " nPMTs   = 30912\n",
      " nODPMTs = 0\n",
      "--------------------\n",
      "@@@ Start analysing data\n"
     ]
    },
    {
     "name": "stderr",
     "output_type": "stream",
     "text": [
      "100%|██████████| 2000/2000 [00:20<00:00, 95.67it/s] \n",
      " 15%|█▌        | 76/500 [28:35<2:41:03, 22.79s/it]"
     ]
    },
    {
     "name": "stdout",
     "output_type": "stream",
     "text": [
      "--------------------\n",
      " nEvents = 2000\n",
      " nPMTs   = 30912\n",
      " nODPMTs = 0\n",
      "--------------------\n",
      "@@@ Start analysing data\n"
     ]
    },
    {
     "name": "stderr",
     "output_type": "stream",
     "text": [
      "100%|██████████| 2000/2000 [00:20<00:00, 96.87it/s] \n",
      " 15%|█▌        | 77/500 [28:58<2:40:09, 22.72s/it]"
     ]
    },
    {
     "name": "stdout",
     "output_type": "stream",
     "text": [
      "--------------------\n",
      " nEvents = 2000\n",
      " nPMTs   = 30912\n",
      " nODPMTs = 0\n",
      "--------------------\n",
      "@@@ Start analysing data\n"
     ]
    },
    {
     "name": "stderr",
     "output_type": "stream",
     "text": [
      "100%|██████████| 2000/2000 [00:21<00:00, 92.84it/s] \n",
      " 16%|█▌        | 78/500 [29:21<2:41:24, 22.95s/it]"
     ]
    },
    {
     "name": "stdout",
     "output_type": "stream",
     "text": [
      "--------------------\n",
      " nEvents = 2000\n",
      " nPMTs   = 30912\n",
      " nODPMTs = 0\n",
      "--------------------\n",
      "@@@ Start analysing data\n"
     ]
    },
    {
     "name": "stderr",
     "output_type": "stream",
     "text": [
      "100%|██████████| 2000/2000 [00:21<00:00, 95.23it/s] \n",
      " 16%|█▌        | 79/500 [29:44<2:41:09, 22.97s/it]"
     ]
    },
    {
     "name": "stdout",
     "output_type": "stream",
     "text": [
      "--------------------\n",
      " nEvents = 2000\n",
      " nPMTs   = 30912\n",
      " nODPMTs = 0\n",
      "--------------------\n",
      "@@@ Start analysing data\n"
     ]
    },
    {
     "name": "stderr",
     "output_type": "stream",
     "text": [
      "100%|██████████| 2000/2000 [00:21<00:00, 94.58it/s] \n",
      " 16%|█▌        | 80/500 [30:07<2:41:00, 23.00s/it]"
     ]
    },
    {
     "name": "stdout",
     "output_type": "stream",
     "text": [
      "--------------------\n",
      " nEvents = 2000\n",
      " nPMTs   = 30912\n",
      " nODPMTs = 0\n",
      "--------------------\n",
      "@@@ Start analysing data\n"
     ]
    },
    {
     "name": "stderr",
     "output_type": "stream",
     "text": [
      "100%|██████████| 2000/2000 [00:21<00:00, 93.93it/s] \n",
      " 16%|█▌        | 81/500 [30:30<2:41:08, 23.08s/it]"
     ]
    },
    {
     "name": "stdout",
     "output_type": "stream",
     "text": [
      "--------------------\n",
      " nEvents = 2000\n",
      " nPMTs   = 30912\n",
      " nODPMTs = 0\n",
      "--------------------\n",
      "@@@ Start analysing data\n"
     ]
    },
    {
     "name": "stderr",
     "output_type": "stream",
     "text": [
      "100%|██████████| 2000/2000 [00:20<00:00, 95.76it/s] \n",
      " 16%|█▋        | 82/500 [30:53<2:40:15, 23.00s/it]"
     ]
    },
    {
     "name": "stdout",
     "output_type": "stream",
     "text": [
      "--------------------\n",
      " nEvents = 2000\n",
      " nPMTs   = 30912\n",
      " nODPMTs = 0\n",
      "--------------------\n",
      "@@@ Start analysing data\n"
     ]
    },
    {
     "name": "stderr",
     "output_type": "stream",
     "text": [
      "100%|██████████| 2000/2000 [00:21<00:00, 94.51it/s] \n",
      " 17%|█▋        | 83/500 [31:17<2:40:30, 23.10s/it]"
     ]
    },
    {
     "name": "stdout",
     "output_type": "stream",
     "text": [
      "--------------------\n",
      " nEvents = 2000\n",
      " nPMTs   = 30912\n",
      " nODPMTs = 0\n",
      "--------------------\n",
      "@@@ Start analysing data\n"
     ]
    },
    {
     "name": "stderr",
     "output_type": "stream",
     "text": [
      "100%|██████████| 2000/2000 [00:20<00:00, 95.60it/s] \n",
      " 17%|█▋        | 84/500 [31:39<2:39:39, 23.03s/it]"
     ]
    },
    {
     "name": "stdout",
     "output_type": "stream",
     "text": [
      "--------------------\n",
      " nEvents = 2000\n",
      " nPMTs   = 30912\n",
      " nODPMTs = 0\n",
      "--------------------\n",
      "@@@ Start analysing data\n"
     ]
    },
    {
     "name": "stderr",
     "output_type": "stream",
     "text": [
      "100%|██████████| 2000/2000 [00:21<00:00, 94.63it/s] \n",
      " 17%|█▋        | 85/500 [32:02<2:39:25, 23.05s/it]"
     ]
    },
    {
     "name": "stdout",
     "output_type": "stream",
     "text": [
      "--------------------\n",
      " nEvents = 2000\n",
      " nPMTs   = 30912\n",
      " nODPMTs = 0\n",
      "--------------------\n",
      "@@@ Start analysing data\n"
     ]
    },
    {
     "name": "stderr",
     "output_type": "stream",
     "text": [
      "100%|██████████| 2000/2000 [00:20<00:00, 97.41it/s] \n",
      " 17%|█▋        | 86/500 [32:25<2:37:49, 22.87s/it]"
     ]
    },
    {
     "name": "stdout",
     "output_type": "stream",
     "text": [
      "--------------------\n",
      " nEvents = 2000\n",
      " nPMTs   = 30912\n",
      " nODPMTs = 0\n",
      "--------------------\n",
      "@@@ Start analysing data\n"
     ]
    },
    {
     "name": "stderr",
     "output_type": "stream",
     "text": [
      "100%|██████████| 2000/2000 [00:20<00:00, 96.13it/s] \n",
      " 17%|█▋        | 87/500 [32:48<2:37:14, 22.84s/it]"
     ]
    },
    {
     "name": "stdout",
     "output_type": "stream",
     "text": [
      "--------------------\n",
      " nEvents = 2000\n",
      " nPMTs   = 30912\n",
      " nODPMTs = 0\n",
      "--------------------\n",
      "@@@ Start analysing data\n"
     ]
    },
    {
     "name": "stderr",
     "output_type": "stream",
     "text": [
      "100%|██████████| 2000/2000 [00:20<00:00, 97.85it/s] \n",
      " 18%|█▊        | 88/500 [33:10<2:35:57, 22.71s/it]"
     ]
    },
    {
     "name": "stdout",
     "output_type": "stream",
     "text": [
      "--------------------\n",
      " nEvents = 2000\n",
      " nPMTs   = 30912\n",
      " nODPMTs = 0\n",
      "--------------------\n",
      "@@@ Start analysing data\n"
     ]
    },
    {
     "name": "stderr",
     "output_type": "stream",
     "text": [
      "100%|██████████| 2000/2000 [00:21<00:00, 94.63it/s] \n",
      " 18%|█▊        | 89/500 [33:33<2:36:23, 22.83s/it]"
     ]
    },
    {
     "name": "stdout",
     "output_type": "stream",
     "text": [
      "--------------------\n",
      " nEvents = 2000\n",
      " nPMTs   = 30912\n",
      " nODPMTs = 0\n",
      "--------------------\n",
      "@@@ Start analysing data\n"
     ]
    },
    {
     "name": "stderr",
     "output_type": "stream",
     "text": [
      "100%|██████████| 2000/2000 [00:20<00:00, 95.58it/s] \n",
      " 18%|█▊        | 90/500 [33:56<2:36:04, 22.84s/it]"
     ]
    },
    {
     "name": "stdout",
     "output_type": "stream",
     "text": [
      "--------------------\n",
      " nEvents = 2000\n",
      " nPMTs   = 30912\n",
      " nODPMTs = 0\n",
      "--------------------\n",
      "@@@ Start analysing data\n"
     ]
    },
    {
     "name": "stderr",
     "output_type": "stream",
     "text": [
      "100%|██████████| 2000/2000 [00:20<00:00, 95.30it/s] \n",
      " 18%|█▊        | 91/500 [34:19<2:35:52, 22.87s/it]"
     ]
    },
    {
     "name": "stdout",
     "output_type": "stream",
     "text": [
      "--------------------\n",
      " nEvents = 2000\n",
      " nPMTs   = 30912\n",
      " nODPMTs = 0\n",
      "--------------------\n",
      "@@@ Start analysing data\n"
     ]
    },
    {
     "name": "stderr",
     "output_type": "stream",
     "text": [
      "100%|██████████| 2000/2000 [00:21<00:00, 94.13it/s] \n",
      " 18%|█▊        | 92/500 [34:42<2:36:11, 22.97s/it]"
     ]
    },
    {
     "name": "stdout",
     "output_type": "stream",
     "text": [
      "--------------------\n",
      " nEvents = 2000\n",
      " nPMTs   = 30912\n",
      " nODPMTs = 0\n",
      "--------------------\n",
      "@@@ Start analysing data\n"
     ]
    },
    {
     "name": "stderr",
     "output_type": "stream",
     "text": [
      "100%|██████████| 2000/2000 [00:21<00:00, 94.95it/s] \n",
      " 19%|█▊        | 93/500 [35:05<2:35:52, 22.98s/it]"
     ]
    },
    {
     "name": "stdout",
     "output_type": "stream",
     "text": [
      "--------------------\n",
      " nEvents = 2000\n",
      " nPMTs   = 30912\n",
      " nODPMTs = 0\n",
      "--------------------\n",
      "@@@ Start analysing data\n"
     ]
    },
    {
     "name": "stderr",
     "output_type": "stream",
     "text": [
      "100%|██████████| 2000/2000 [00:21<00:00, 95.05it/s] \n",
      " 19%|█▉        | 94/500 [35:28<2:35:28, 22.98s/it]"
     ]
    },
    {
     "name": "stdout",
     "output_type": "stream",
     "text": [
      "--------------------\n",
      " nEvents = 2000\n",
      " nPMTs   = 30912\n",
      " nODPMTs = 0\n",
      "--------------------\n",
      "@@@ Start analysing data\n"
     ]
    },
    {
     "name": "stderr",
     "output_type": "stream",
     "text": [
      "100%|██████████| 2000/2000 [00:21<00:00, 93.93it/s] \n",
      " 19%|█▉        | 95/500 [35:52<2:35:50, 23.09s/it]"
     ]
    },
    {
     "name": "stdout",
     "output_type": "stream",
     "text": [
      "--------------------\n",
      " nEvents = 2000\n",
      " nPMTs   = 30912\n",
      " nODPMTs = 0\n",
      "--------------------\n",
      "@@@ Start analysing data\n"
     ]
    },
    {
     "name": "stderr",
     "output_type": "stream",
     "text": [
      "100%|██████████| 2000/2000 [00:21<00:00, 94.12it/s] \n",
      " 19%|█▉        | 96/500 [36:15<2:35:36, 23.11s/it]"
     ]
    },
    {
     "name": "stdout",
     "output_type": "stream",
     "text": [
      "--------------------\n",
      " nEvents = 2000\n",
      " nPMTs   = 30912\n",
      " nODPMTs = 0\n",
      "--------------------\n",
      "@@@ Start analysing data\n"
     ]
    },
    {
     "name": "stderr",
     "output_type": "stream",
     "text": [
      "100%|██████████| 2000/2000 [00:21<00:00, 94.83it/s] \n",
      " 19%|█▉        | 97/500 [36:38<2:34:58, 23.07s/it]"
     ]
    },
    {
     "name": "stdout",
     "output_type": "stream",
     "text": [
      "--------------------\n",
      " nEvents = 2000\n",
      " nPMTs   = 30912\n",
      " nODPMTs = 0\n",
      "--------------------\n",
      "@@@ Start analysing data\n"
     ]
    },
    {
     "name": "stderr",
     "output_type": "stream",
     "text": [
      "100%|██████████| 2000/2000 [00:20<00:00, 96.47it/s] \n",
      " 20%|█▉        | 98/500 [37:00<2:33:53, 22.97s/it]"
     ]
    },
    {
     "name": "stdout",
     "output_type": "stream",
     "text": [
      "--------------------\n",
      " nEvents = 2000\n",
      " nPMTs   = 30912\n",
      " nODPMTs = 0\n",
      "--------------------\n",
      "@@@ Start analysing data\n"
     ]
    },
    {
     "name": "stderr",
     "output_type": "stream",
     "text": [
      "100%|██████████| 2000/2000 [00:21<00:00, 93.94it/s] \n",
      " 20%|█▉        | 99/500 [37:24<2:34:01, 23.05s/it]"
     ]
    },
    {
     "name": "stdout",
     "output_type": "stream",
     "text": [
      "--------------------\n",
      " nEvents = 2000\n",
      " nPMTs   = 30912\n",
      " nODPMTs = 0\n",
      "--------------------\n",
      "@@@ Start analysing data\n"
     ]
    },
    {
     "name": "stderr",
     "output_type": "stream",
     "text": [
      "100%|██████████| 2000/2000 [00:21<00:00, 94.42it/s] \n",
      " 20%|██        | 100/500 [37:47<2:33:51, 23.08s/it]"
     ]
    },
    {
     "name": "stdout",
     "output_type": "stream",
     "text": [
      "--------------------\n",
      " nEvents = 2000\n",
      " nPMTs   = 30912\n",
      " nODPMTs = 0\n",
      "--------------------\n",
      "@@@ Start analysing data\n"
     ]
    },
    {
     "name": "stderr",
     "output_type": "stream",
     "text": [
      "100%|██████████| 2000/2000 [00:20<00:00, 96.55it/s] \n",
      " 20%|██        | 101/500 [38:09<2:32:38, 22.95s/it]"
     ]
    },
    {
     "name": "stdout",
     "output_type": "stream",
     "text": [
      "--------------------\n",
      " nEvents = 2000\n",
      " nPMTs   = 30912\n",
      " nODPMTs = 0\n",
      "--------------------\n",
      "@@@ Start analysing data\n"
     ]
    },
    {
     "name": "stderr",
     "output_type": "stream",
     "text": [
      "100%|██████████| 2000/2000 [00:21<00:00, 94.78it/s] \n",
      " 20%|██        | 102/500 [38:33<2:32:26, 22.98s/it]"
     ]
    },
    {
     "name": "stdout",
     "output_type": "stream",
     "text": [
      "--------------------\n",
      " nEvents = 2000\n",
      " nPMTs   = 30912\n",
      " nODPMTs = 0\n",
      "--------------------\n",
      "@@@ Start analysing data\n"
     ]
    },
    {
     "name": "stderr",
     "output_type": "stream",
     "text": [
      "100%|██████████| 2000/2000 [00:20<00:00, 95.35it/s] \n",
      " 21%|██        | 103/500 [38:55<2:31:49, 22.95s/it]"
     ]
    },
    {
     "name": "stdout",
     "output_type": "stream",
     "text": [
      "--------------------\n",
      " nEvents = 2000\n",
      " nPMTs   = 30912\n",
      " nODPMTs = 0\n",
      "--------------------\n",
      "@@@ Start analysing data\n"
     ]
    },
    {
     "name": "stderr",
     "output_type": "stream",
     "text": [
      "100%|██████████| 2000/2000 [00:20<00:00, 95.31it/s] \n",
      " 21%|██        | 104/500 [39:18<2:31:28, 22.95s/it]"
     ]
    },
    {
     "name": "stdout",
     "output_type": "stream",
     "text": [
      "--------------------\n",
      " nEvents = 2000\n",
      " nPMTs   = 30912\n",
      " nODPMTs = 0\n",
      "--------------------\n",
      "@@@ Start analysing data\n"
     ]
    },
    {
     "name": "stderr",
     "output_type": "stream",
     "text": [
      "100%|██████████| 2000/2000 [00:20<00:00, 95.43it/s] \n",
      " 21%|██        | 105/500 [39:41<2:31:01, 22.94s/it]"
     ]
    },
    {
     "name": "stdout",
     "output_type": "stream",
     "text": [
      "--------------------\n",
      " nEvents = 2000\n",
      " nPMTs   = 30912\n",
      " nODPMTs = 0\n",
      "--------------------\n",
      "@@@ Start analysing data\n"
     ]
    },
    {
     "name": "stderr",
     "output_type": "stream",
     "text": [
      "100%|██████████| 2000/2000 [00:21<00:00, 94.08it/s] \n",
      " 21%|██        | 106/500 [40:05<2:31:15, 23.03s/it]"
     ]
    },
    {
     "name": "stdout",
     "output_type": "stream",
     "text": [
      "--------------------\n",
      " nEvents = 2000\n",
      " nPMTs   = 30912\n",
      " nODPMTs = 0\n",
      "--------------------\n",
      "@@@ Start analysing data\n"
     ]
    },
    {
     "name": "stderr",
     "output_type": "stream",
     "text": [
      "100%|██████████| 2000/2000 [00:21<00:00, 94.59it/s] \n",
      " 21%|██▏       | 107/500 [40:28<2:31:02, 23.06s/it]"
     ]
    },
    {
     "name": "stdout",
     "output_type": "stream",
     "text": [
      "--------------------\n",
      " nEvents = 2000\n",
      " nPMTs   = 30912\n",
      " nODPMTs = 0\n",
      "--------------------\n",
      "@@@ Start analysing data\n"
     ]
    },
    {
     "name": "stderr",
     "output_type": "stream",
     "text": [
      "100%|██████████| 2000/2000 [00:22<00:00, 88.65it/s] \n",
      " 22%|██▏       | 108/500 [40:52<2:33:33, 23.50s/it]"
     ]
    },
    {
     "name": "stdout",
     "output_type": "stream",
     "text": [
      "--------------------\n",
      " nEvents = 2000\n",
      " nPMTs   = 30912\n",
      " nODPMTs = 0\n",
      "--------------------\n",
      "@@@ Start analysing data\n"
     ]
    },
    {
     "name": "stderr",
     "output_type": "stream",
     "text": [
      "100%|██████████| 2000/2000 [00:22<00:00, 88.67it/s] \n",
      " 22%|██▏       | 109/500 [41:17<2:35:10, 23.81s/it]"
     ]
    },
    {
     "name": "stdout",
     "output_type": "stream",
     "text": [
      "--------------------\n",
      " nEvents = 2000\n",
      " nPMTs   = 30912\n",
      " nODPMTs = 0\n",
      "--------------------\n",
      "@@@ Start analysing data\n"
     ]
    },
    {
     "name": "stderr",
     "output_type": "stream",
     "text": [
      "100%|██████████| 2000/2000 [00:21<00:00, 94.58it/s] \n",
      " 22%|██▏       | 110/500 [41:40<2:33:27, 23.61s/it]"
     ]
    },
    {
     "name": "stdout",
     "output_type": "stream",
     "text": [
      "--------------------\n",
      " nEvents = 2000\n",
      " nPMTs   = 30912\n",
      " nODPMTs = 0\n",
      "--------------------\n",
      "@@@ Start analysing data\n"
     ]
    },
    {
     "name": "stderr",
     "output_type": "stream",
     "text": [
      "100%|██████████| 2000/2000 [00:21<00:00, 93.82it/s] \n",
      " 22%|██▏       | 111/500 [42:03<2:32:34, 23.53s/it]"
     ]
    },
    {
     "name": "stdout",
     "output_type": "stream",
     "text": [
      "--------------------\n",
      " nEvents = 2000\n",
      " nPMTs   = 30912\n",
      " nODPMTs = 0\n",
      "--------------------\n",
      "@@@ Start analysing data\n"
     ]
    },
    {
     "name": "stderr",
     "output_type": "stream",
     "text": [
      "100%|██████████| 2000/2000 [00:23<00:00, 84.94it/s] \n",
      " 22%|██▏       | 112/500 [42:29<2:36:21, 24.18s/it]"
     ]
    },
    {
     "name": "stdout",
     "output_type": "stream",
     "text": [
      "--------------------\n",
      " nEvents = 2000\n",
      " nPMTs   = 30912\n",
      " nODPMTs = 0\n",
      "--------------------\n",
      "@@@ Start analysing data\n"
     ]
    },
    {
     "name": "stderr",
     "output_type": "stream",
     "text": [
      "100%|██████████| 2000/2000 [00:22<00:00, 88.13it/s]\n",
      " 23%|██▎       | 113/500 [42:54<2:37:12, 24.37s/it]"
     ]
    },
    {
     "name": "stdout",
     "output_type": "stream",
     "text": [
      "--------------------\n",
      " nEvents = 2000\n",
      " nPMTs   = 30912\n",
      " nODPMTs = 0\n",
      "--------------------\n",
      "@@@ Start analysing data\n"
     ]
    },
    {
     "name": "stderr",
     "output_type": "stream",
     "text": [
      "100%|██████████| 2000/2000 [00:22<00:00, 88.28it/s] \n",
      " 23%|██▎       | 114/500 [43:18<2:37:20, 24.46s/it]"
     ]
    },
    {
     "name": "stdout",
     "output_type": "stream",
     "text": [
      "--------------------\n",
      " nEvents = 2000\n",
      " nPMTs   = 30912\n",
      " nODPMTs = 0\n",
      "--------------------\n",
      "@@@ Start analysing data\n"
     ]
    },
    {
     "name": "stderr",
     "output_type": "stream",
     "text": [
      "100%|██████████| 2000/2000 [00:21<00:00, 91.32it/s]\n",
      " 23%|██▎       | 115/500 [43:42<2:35:46, 24.28s/it]"
     ]
    },
    {
     "name": "stdout",
     "output_type": "stream",
     "text": [
      "--------------------\n",
      " nEvents = 2000\n",
      " nPMTs   = 30912\n",
      " nODPMTs = 0\n",
      "--------------------\n",
      "@@@ Start analysing data\n"
     ]
    },
    {
     "name": "stderr",
     "output_type": "stream",
     "text": [
      "100%|██████████| 2000/2000 [00:22<00:00, 87.76it/s] \n",
      " 23%|██▎       | 116/500 [44:07<2:36:21, 24.43s/it]"
     ]
    },
    {
     "name": "stdout",
     "output_type": "stream",
     "text": [
      "--------------------\n",
      " nEvents = 2000\n",
      " nPMTs   = 30912\n",
      " nODPMTs = 0\n",
      "--------------------\n",
      "@@@ Start analysing data\n"
     ]
    },
    {
     "name": "stderr",
     "output_type": "stream",
     "text": [
      "100%|██████████| 2000/2000 [00:22<00:00, 88.60it/s]\n",
      " 23%|██▎       | 117/500 [44:32<2:36:27, 24.51s/it]"
     ]
    },
    {
     "name": "stdout",
     "output_type": "stream",
     "text": [
      "--------------------\n",
      " nEvents = 2000\n",
      " nPMTs   = 30912\n",
      " nODPMTs = 0\n",
      "--------------------\n",
      "@@@ Start analysing data\n"
     ]
    },
    {
     "name": "stderr",
     "output_type": "stream",
     "text": [
      "100%|██████████| 2000/2000 [00:23<00:00, 86.50it/s] \n",
      " 24%|██▎       | 118/500 [44:57<2:37:14, 24.70s/it]"
     ]
    },
    {
     "name": "stdout",
     "output_type": "stream",
     "text": [
      "--------------------\n",
      " nEvents = 2000\n",
      " nPMTs   = 30912\n",
      " nODPMTs = 0\n",
      "--------------------\n",
      "@@@ Start analysing data\n"
     ]
    },
    {
     "name": "stderr",
     "output_type": "stream",
     "text": [
      "100%|██████████| 2000/2000 [00:22<00:00, 88.40it/s]\n",
      " 24%|██▍       | 119/500 [45:22<2:36:53, 24.71s/it]"
     ]
    },
    {
     "name": "stdout",
     "output_type": "stream",
     "text": [
      "--------------------\n",
      " nEvents = 2000\n",
      " nPMTs   = 30912\n",
      " nODPMTs = 0\n",
      "--------------------\n",
      "@@@ Start analysing data\n"
     ]
    },
    {
     "name": "stderr",
     "output_type": "stream",
     "text": [
      "100%|██████████| 2000/2000 [00:22<00:00, 88.07it/s] \n",
      " 24%|██▍       | 120/500 [45:46<2:35:52, 24.61s/it]"
     ]
    },
    {
     "name": "stdout",
     "output_type": "stream",
     "text": [
      "--------------------\n",
      " nEvents = 2000\n",
      " nPMTs   = 30912\n",
      " nODPMTs = 0\n",
      "--------------------\n",
      "@@@ Start analysing data\n"
     ]
    },
    {
     "name": "stderr",
     "output_type": "stream",
     "text": [
      "100%|██████████| 2000/2000 [00:22<00:00, 88.01it/s]\n",
      " 24%|██▍       | 121/500 [46:11<2:35:50, 24.67s/it]"
     ]
    },
    {
     "name": "stdout",
     "output_type": "stream",
     "text": [
      "--------------------\n",
      " nEvents = 2000\n",
      " nPMTs   = 30912\n",
      " nODPMTs = 0\n",
      "--------------------\n",
      "@@@ Start analysing data\n"
     ]
    },
    {
     "name": "stderr",
     "output_type": "stream",
     "text": [
      "100%|██████████| 2000/2000 [00:22<00:00, 87.36it/s] \n",
      " 24%|██▍       | 122/500 [46:36<2:35:51, 24.74s/it]"
     ]
    },
    {
     "name": "stdout",
     "output_type": "stream",
     "text": [
      "--------------------\n",
      " nEvents = 2000\n",
      " nPMTs   = 30912\n",
      " nODPMTs = 0\n",
      "--------------------\n",
      "@@@ Start analysing data\n"
     ]
    },
    {
     "name": "stderr",
     "output_type": "stream",
     "text": [
      "100%|██████████| 2000/2000 [00:22<00:00, 90.35it/s] \n",
      " 25%|██▍       | 123/500 [47:00<2:34:16, 24.55s/it]"
     ]
    },
    {
     "name": "stdout",
     "output_type": "stream",
     "text": [
      "--------------------\n",
      " nEvents = 2000\n",
      " nPMTs   = 30912\n",
      " nODPMTs = 0\n",
      "--------------------\n",
      "@@@ Start analysing data\n"
     ]
    },
    {
     "name": "stderr",
     "output_type": "stream",
     "text": [
      "100%|██████████| 2000/2000 [00:21<00:00, 94.17it/s] \n",
      " 25%|██▍       | 124/500 [47:23<2:31:10, 24.12s/it]"
     ]
    },
    {
     "name": "stdout",
     "output_type": "stream",
     "text": [
      "--------------------\n",
      " nEvents = 2000\n",
      " nPMTs   = 30912\n",
      " nODPMTs = 0\n",
      "--------------------\n",
      "@@@ Start analysing data\n"
     ]
    },
    {
     "name": "stderr",
     "output_type": "stream",
     "text": [
      "100%|██████████| 2000/2000 [00:21<00:00, 92.81it/s] \n",
      " 25%|██▌       | 125/500 [47:46<2:29:38, 23.94s/it]"
     ]
    },
    {
     "name": "stdout",
     "output_type": "stream",
     "text": [
      "--------------------\n",
      " nEvents = 2000\n",
      " nPMTs   = 30912\n",
      " nODPMTs = 0\n",
      "--------------------\n",
      "@@@ Start analysing data\n"
     ]
    },
    {
     "name": "stderr",
     "output_type": "stream",
     "text": [
      "100%|██████████| 2000/2000 [00:21<00:00, 94.25it/s] \n",
      " 25%|██▌       | 126/500 [48:10<2:27:53, 23.73s/it]"
     ]
    },
    {
     "name": "stdout",
     "output_type": "stream",
     "text": [
      "--------------------\n",
      " nEvents = 2000\n",
      " nPMTs   = 30912\n",
      " nODPMTs = 0\n",
      "--------------------\n",
      "@@@ Start analysing data\n"
     ]
    },
    {
     "name": "stderr",
     "output_type": "stream",
     "text": [
      "100%|██████████| 2000/2000 [00:21<00:00, 94.54it/s] \n",
      " 25%|██▌       | 127/500 [48:33<2:26:35, 23.58s/it]"
     ]
    },
    {
     "name": "stdout",
     "output_type": "stream",
     "text": [
      "--------------------\n",
      " nEvents = 2000\n",
      " nPMTs   = 30912\n",
      " nODPMTs = 0\n",
      "--------------------\n",
      "@@@ Start analysing data\n"
     ]
    },
    {
     "name": "stderr",
     "output_type": "stream",
     "text": [
      "100%|██████████| 2000/2000 [00:21<00:00, 93.78it/s] \n",
      " 26%|██▌       | 128/500 [48:56<2:25:39, 23.49s/it]"
     ]
    },
    {
     "name": "stdout",
     "output_type": "stream",
     "text": [
      "--------------------\n",
      " nEvents = 2000\n",
      " nPMTs   = 30912\n",
      " nODPMTs = 0\n",
      "--------------------\n",
      "@@@ Start analysing data\n"
     ]
    },
    {
     "name": "stderr",
     "output_type": "stream",
     "text": [
      "100%|██████████| 2000/2000 [00:21<00:00, 91.64it/s] \n",
      " 26%|██▌       | 129/500 [49:20<2:25:47, 23.58s/it]"
     ]
    },
    {
     "name": "stdout",
     "output_type": "stream",
     "text": [
      "--------------------\n",
      " nEvents = 2000\n",
      " nPMTs   = 30912\n",
      " nODPMTs = 0\n",
      "--------------------\n",
      "@@@ Start analysing data\n"
     ]
    },
    {
     "name": "stderr",
     "output_type": "stream",
     "text": [
      "100%|██████████| 2000/2000 [00:21<00:00, 94.13it/s] \n",
      " 26%|██▌       | 130/500 [49:43<2:24:46, 23.48s/it]"
     ]
    },
    {
     "name": "stdout",
     "output_type": "stream",
     "text": [
      "--------------------\n",
      " nEvents = 2000\n",
      " nPMTs   = 30912\n",
      " nODPMTs = 0\n",
      "--------------------\n",
      "@@@ Start analysing data\n"
     ]
    },
    {
     "name": "stderr",
     "output_type": "stream",
     "text": [
      "100%|██████████| 2000/2000 [00:21<00:00, 93.62it/s]\n",
      " 26%|██▌       | 131/500 [50:07<2:24:15, 23.46s/it]"
     ]
    },
    {
     "name": "stdout",
     "output_type": "stream",
     "text": [
      "--------------------\n",
      " nEvents = 2000\n",
      " nPMTs   = 30912\n",
      " nODPMTs = 0\n",
      "--------------------\n",
      "@@@ Start analysing data\n"
     ]
    },
    {
     "name": "stderr",
     "output_type": "stream",
     "text": [
      "100%|██████████| 2000/2000 [00:21<00:00, 95.00it/s] \n",
      " 26%|██▋       | 132/500 [50:30<2:23:06, 23.33s/it]"
     ]
    },
    {
     "name": "stdout",
     "output_type": "stream",
     "text": [
      "--------------------\n",
      " nEvents = 2000\n",
      " nPMTs   = 30912\n",
      " nODPMTs = 0\n",
      "--------------------\n",
      "@@@ Start analysing data\n"
     ]
    },
    {
     "name": "stderr",
     "output_type": "stream",
     "text": [
      "100%|██████████| 2000/2000 [00:21<00:00, 94.98it/s] \n",
      " 27%|██▋       | 133/500 [50:53<2:22:03, 23.22s/it]"
     ]
    },
    {
     "name": "stdout",
     "output_type": "stream",
     "text": [
      "--------------------\n",
      " nEvents = 2000\n",
      " nPMTs   = 30912\n",
      " nODPMTs = 0\n",
      "--------------------\n",
      "@@@ Start analysing data\n"
     ]
    },
    {
     "name": "stderr",
     "output_type": "stream",
     "text": [
      "100%|██████████| 2000/2000 [00:21<00:00, 93.03it/s]\n",
      " 27%|██▋       | 134/500 [51:16<2:22:27, 23.35s/it]"
     ]
    },
    {
     "name": "stdout",
     "output_type": "stream",
     "text": [
      "--------------------\n",
      " nEvents = 2000\n",
      " nPMTs   = 30912\n",
      " nODPMTs = 0\n",
      "--------------------\n",
      "@@@ Start analysing data\n"
     ]
    },
    {
     "name": "stderr",
     "output_type": "stream",
     "text": [
      "100%|██████████| 2000/2000 [00:22<00:00, 87.24it/s]\n",
      " 27%|██▋       | 135/500 [51:41<2:24:51, 23.81s/it]"
     ]
    },
    {
     "name": "stdout",
     "output_type": "stream",
     "text": [
      "--------------------\n",
      " nEvents = 2000\n",
      " nPMTs   = 30912\n",
      " nODPMTs = 0\n",
      "--------------------\n",
      "@@@ Start analysing data\n"
     ]
    },
    {
     "name": "stderr",
     "output_type": "stream",
     "text": [
      "100%|██████████| 2000/2000 [00:22<00:00, 89.38it/s] \n",
      " 27%|██▋       | 136/500 [52:05<2:25:21, 23.96s/it]"
     ]
    },
    {
     "name": "stdout",
     "output_type": "stream",
     "text": [
      "--------------------\n",
      " nEvents = 2000\n",
      " nPMTs   = 30912\n",
      " nODPMTs = 0\n",
      "--------------------\n",
      "@@@ Start analysing data\n"
     ]
    },
    {
     "name": "stderr",
     "output_type": "stream",
     "text": [
      "100%|██████████| 2000/2000 [00:22<00:00, 89.61it/s]\n",
      " 27%|██▋       | 137/500 [52:30<2:25:35, 24.06s/it]"
     ]
    },
    {
     "name": "stdout",
     "output_type": "stream",
     "text": [
      "--------------------\n",
      " nEvents = 2000\n",
      " nPMTs   = 30912\n",
      " nODPMTs = 0\n",
      "--------------------\n",
      "@@@ Start analysing data\n"
     ]
    },
    {
     "name": "stderr",
     "output_type": "stream",
     "text": [
      "100%|██████████| 2000/2000 [00:23<00:00, 84.67it/s]\n",
      " 28%|██▊       | 138/500 [52:56<2:28:39, 24.64s/it]"
     ]
    },
    {
     "name": "stdout",
     "output_type": "stream",
     "text": [
      "--------------------\n",
      " nEvents = 2000\n",
      " nPMTs   = 30912\n",
      " nODPMTs = 0\n",
      "--------------------\n",
      "@@@ Start analysing data\n"
     ]
    },
    {
     "name": "stderr",
     "output_type": "stream",
     "text": [
      "100%|██████████| 2000/2000 [00:25<00:00, 77.66it/s]\n",
      " 28%|██▊       | 139/500 [53:24<2:34:48, 25.73s/it]"
     ]
    },
    {
     "name": "stdout",
     "output_type": "stream",
     "text": [
      "--------------------\n",
      " nEvents = 2000\n",
      " nPMTs   = 30912\n",
      " nODPMTs = 0\n",
      "--------------------\n",
      "@@@ Start analysing data\n"
     ]
    },
    {
     "name": "stderr",
     "output_type": "stream",
     "text": [
      "100%|██████████| 2000/2000 [00:23<00:00, 86.94it/s] \n",
      " 28%|██▊       | 140/500 [53:49<2:33:28, 25.58s/it]"
     ]
    },
    {
     "name": "stdout",
     "output_type": "stream",
     "text": [
      "--------------------\n",
      " nEvents = 2000\n",
      " nPMTs   = 30912\n",
      " nODPMTs = 0\n",
      "--------------------\n",
      "@@@ Start analysing data\n"
     ]
    },
    {
     "name": "stderr",
     "output_type": "stream",
     "text": [
      "100%|██████████| 2000/2000 [00:21<00:00, 93.12it/s] \n",
      " 28%|██▊       | 141/500 [54:13<2:29:45, 25.03s/it]"
     ]
    },
    {
     "name": "stdout",
     "output_type": "stream",
     "text": [
      "--------------------\n",
      " nEvents = 2000\n",
      " nPMTs   = 30912\n",
      " nODPMTs = 0\n",
      "--------------------\n",
      "@@@ Start analysing data\n"
     ]
    },
    {
     "name": "stderr",
     "output_type": "stream",
     "text": [
      "100%|██████████| 2000/2000 [00:21<00:00, 91.27it/s] \n",
      " 28%|██▊       | 142/500 [54:37<2:27:22, 24.70s/it]"
     ]
    },
    {
     "name": "stdout",
     "output_type": "stream",
     "text": [
      "--------------------\n",
      " nEvents = 2000\n",
      " nPMTs   = 30912\n",
      " nODPMTs = 0\n",
      "--------------------\n",
      "@@@ Start analysing data\n"
     ]
    },
    {
     "name": "stderr",
     "output_type": "stream",
     "text": [
      "100%|██████████| 2000/2000 [00:21<00:00, 93.83it/s] \n",
      " 29%|██▊       | 143/500 [55:00<2:24:29, 24.29s/it]"
     ]
    },
    {
     "name": "stdout",
     "output_type": "stream",
     "text": [
      "--------------------\n",
      " nEvents = 2000\n",
      " nPMTs   = 30912\n",
      " nODPMTs = 0\n",
      "--------------------\n",
      "@@@ Start analysing data\n"
     ]
    },
    {
     "name": "stderr",
     "output_type": "stream",
     "text": [
      "100%|██████████| 2000/2000 [00:21<00:00, 94.89it/s] \n",
      " 29%|██▉       | 144/500 [55:23<2:21:55, 23.92s/it]"
     ]
    },
    {
     "name": "stdout",
     "output_type": "stream",
     "text": [
      "--------------------\n",
      " nEvents = 2000\n",
      " nPMTs   = 30912\n",
      " nODPMTs = 0\n",
      "--------------------\n",
      "@@@ Start analysing data\n"
     ]
    },
    {
     "name": "stderr",
     "output_type": "stream",
     "text": [
      "100%|██████████| 2000/2000 [00:21<00:00, 92.27it/s] \n",
      " 29%|██▉       | 145/500 [55:47<2:20:54, 23.81s/it]"
     ]
    },
    {
     "name": "stdout",
     "output_type": "stream",
     "text": [
      "--------------------\n",
      " nEvents = 2000\n",
      " nPMTs   = 30912\n",
      " nODPMTs = 0\n",
      "--------------------\n",
      "@@@ Start analysing data\n"
     ]
    },
    {
     "name": "stderr",
     "output_type": "stream",
     "text": [
      "100%|██████████| 2000/2000 [00:21<00:00, 93.69it/s] \n",
      " 29%|██▉       | 146/500 [56:10<2:19:39, 23.67s/it]"
     ]
    },
    {
     "name": "stdout",
     "output_type": "stream",
     "text": [
      "--------------------\n",
      " nEvents = 2000\n",
      " nPMTs   = 30912\n",
      " nODPMTs = 0\n",
      "--------------------\n",
      "@@@ Start analysing data\n"
     ]
    },
    {
     "name": "stderr",
     "output_type": "stream",
     "text": [
      "100%|██████████| 2000/2000 [00:21<00:00, 93.53it/s] \n",
      " 29%|██▉       | 147/500 [56:34<2:18:54, 23.61s/it]"
     ]
    },
    {
     "name": "stdout",
     "output_type": "stream",
     "text": [
      "--------------------\n",
      " nEvents = 2000\n",
      " nPMTs   = 30912\n",
      " nODPMTs = 0\n",
      "--------------------\n",
      "@@@ Start analysing data\n"
     ]
    },
    {
     "name": "stderr",
     "output_type": "stream",
     "text": [
      "100%|██████████| 2000/2000 [00:21<00:00, 92.13it/s] \n",
      " 30%|██▉       | 148/500 [56:57<2:18:37, 23.63s/it]"
     ]
    },
    {
     "name": "stdout",
     "output_type": "stream",
     "text": [
      "--------------------\n",
      " nEvents = 2000\n",
      " nPMTs   = 30912\n",
      " nODPMTs = 0\n",
      "--------------------\n",
      "@@@ Start analysing data\n"
     ]
    },
    {
     "name": "stderr",
     "output_type": "stream",
     "text": [
      "100%|██████████| 2000/2000 [00:21<00:00, 92.56it/s] \n",
      " 30%|██▉       | 149/500 [57:21<2:18:11, 23.62s/it]"
     ]
    },
    {
     "name": "stdout",
     "output_type": "stream",
     "text": [
      "--------------------\n",
      " nEvents = 2000\n",
      " nPMTs   = 30912\n",
      " nODPMTs = 0\n",
      "--------------------\n",
      "@@@ Start analysing data\n"
     ]
    },
    {
     "name": "stderr",
     "output_type": "stream",
     "text": [
      "100%|██████████| 2000/2000 [00:21<00:00, 93.87it/s] \n",
      " 30%|███       | 150/500 [57:44<2:17:10, 23.52s/it]"
     ]
    },
    {
     "name": "stdout",
     "output_type": "stream",
     "text": [
      "--------------------\n",
      " nEvents = 2000\n",
      " nPMTs   = 30912\n",
      " nODPMTs = 0\n",
      "--------------------\n",
      "@@@ Start analysing data\n"
     ]
    },
    {
     "name": "stderr",
     "output_type": "stream",
     "text": [
      "100%|██████████| 2000/2000 [00:21<00:00, 92.49it/s] \n",
      " 30%|███       | 151/500 [58:08<2:16:56, 23.54s/it]"
     ]
    },
    {
     "name": "stdout",
     "output_type": "stream",
     "text": [
      "--------------------\n",
      " nEvents = 2000\n",
      " nPMTs   = 30912\n",
      " nODPMTs = 0\n",
      "--------------------\n",
      "@@@ Start analysing data\n"
     ]
    },
    {
     "name": "stderr",
     "output_type": "stream",
     "text": [
      "100%|██████████| 2000/2000 [00:21<00:00, 91.90it/s]\n",
      " 30%|███       | 152/500 [58:32<2:17:08, 23.65s/it]"
     ]
    },
    {
     "name": "stdout",
     "output_type": "stream",
     "text": [
      "--------------------\n",
      " nEvents = 2000\n",
      " nPMTs   = 30912\n",
      " nODPMTs = 0\n",
      "--------------------\n",
      "@@@ Start analysing data\n"
     ]
    },
    {
     "name": "stderr",
     "output_type": "stream",
     "text": [
      "100%|██████████| 2000/2000 [00:21<00:00, 92.49it/s] \n",
      " 31%|███       | 153/500 [58:55<2:16:41, 23.63s/it]"
     ]
    },
    {
     "name": "stdout",
     "output_type": "stream",
     "text": [
      "--------------------\n",
      " nEvents = 2000\n",
      " nPMTs   = 30912\n",
      " nODPMTs = 0\n",
      "--------------------\n",
      "@@@ Start analysing data\n"
     ]
    },
    {
     "name": "stderr",
     "output_type": "stream",
     "text": [
      "100%|██████████| 2000/2000 [00:21<00:00, 92.69it/s] \n",
      " 31%|███       | 154/500 [59:19<2:16:08, 23.61s/it]"
     ]
    },
    {
     "name": "stdout",
     "output_type": "stream",
     "text": [
      "--------------------\n",
      " nEvents = 2000\n",
      " nPMTs   = 30912\n",
      " nODPMTs = 0\n",
      "--------------------\n",
      "@@@ Start analysing data\n"
     ]
    },
    {
     "name": "stderr",
     "output_type": "stream",
     "text": [
      "100%|██████████| 2000/2000 [00:21<00:00, 94.08it/s] \n",
      " 31%|███       | 155/500 [59:42<2:15:02, 23.49s/it]"
     ]
    },
    {
     "name": "stdout",
     "output_type": "stream",
     "text": [
      "--------------------\n",
      " nEvents = 2000\n",
      " nPMTs   = 30912\n",
      " nODPMTs = 0\n",
      "--------------------\n",
      "@@@ Start analysing data\n"
     ]
    },
    {
     "name": "stderr",
     "output_type": "stream",
     "text": [
      "100%|██████████| 2000/2000 [00:21<00:00, 93.02it/s] \n",
      " 31%|███       | 156/500 [1:00:06<2:14:39, 23.49s/it]"
     ]
    },
    {
     "name": "stdout",
     "output_type": "stream",
     "text": [
      "--------------------\n",
      " nEvents = 2000\n",
      " nPMTs   = 30912\n",
      " nODPMTs = 0\n",
      "--------------------\n",
      "@@@ Start analysing data\n"
     ]
    },
    {
     "name": "stderr",
     "output_type": "stream",
     "text": [
      "100%|██████████| 2000/2000 [00:21<00:00, 91.95it/s] \n",
      " 31%|███▏      | 157/500 [1:00:29<2:14:42, 23.56s/it]"
     ]
    },
    {
     "name": "stdout",
     "output_type": "stream",
     "text": [
      "--------------------\n",
      " nEvents = 2000\n",
      " nPMTs   = 30912\n",
      " nODPMTs = 0\n",
      "--------------------\n",
      "@@@ Start analysing data\n"
     ]
    },
    {
     "name": "stderr",
     "output_type": "stream",
     "text": [
      "100%|██████████| 2000/2000 [00:21<00:00, 93.75it/s] \n",
      " 32%|███▏      | 158/500 [1:00:53<2:13:52, 23.49s/it]"
     ]
    },
    {
     "name": "stdout",
     "output_type": "stream",
     "text": [
      "--------------------\n",
      " nEvents = 2000\n",
      " nPMTs   = 30912\n",
      " nODPMTs = 0\n",
      "--------------------\n",
      "@@@ Start analysing data\n"
     ]
    },
    {
     "name": "stderr",
     "output_type": "stream",
     "text": [
      "100%|██████████| 2000/2000 [00:21<00:00, 94.77it/s] \n",
      " 32%|███▏      | 159/500 [1:01:16<2:12:53, 23.38s/it]"
     ]
    },
    {
     "name": "stdout",
     "output_type": "stream",
     "text": [
      "--------------------\n",
      " nEvents = 2000\n",
      " nPMTs   = 30912\n",
      " nODPMTs = 0\n",
      "--------------------\n",
      "@@@ Start analysing data\n"
     ]
    },
    {
     "name": "stderr",
     "output_type": "stream",
     "text": [
      "100%|██████████| 2000/2000 [00:21<00:00, 93.06it/s] \n",
      " 32%|███▏      | 160/500 [1:01:39<2:12:40, 23.41s/it]"
     ]
    },
    {
     "name": "stdout",
     "output_type": "stream",
     "text": [
      "--------------------\n",
      " nEvents = 2000\n",
      " nPMTs   = 30912\n",
      " nODPMTs = 0\n",
      "--------------------\n",
      "@@@ Start analysing data\n"
     ]
    },
    {
     "name": "stderr",
     "output_type": "stream",
     "text": [
      "100%|██████████| 2000/2000 [00:21<00:00, 94.23it/s] \n",
      " 32%|███▏      | 161/500 [1:02:02<2:11:55, 23.35s/it]"
     ]
    },
    {
     "name": "stdout",
     "output_type": "stream",
     "text": [
      "--------------------\n",
      " nEvents = 2000\n",
      " nPMTs   = 30912\n",
      " nODPMTs = 0\n",
      "--------------------\n",
      "@@@ Start analysing data\n"
     ]
    },
    {
     "name": "stderr",
     "output_type": "stream",
     "text": [
      "100%|██████████| 2000/2000 [00:21<00:00, 92.93it/s] \n",
      " 32%|███▏      | 162/500 [1:02:26<2:11:49, 23.40s/it]"
     ]
    },
    {
     "name": "stdout",
     "output_type": "stream",
     "text": [
      "--------------------\n",
      " nEvents = 2000\n",
      " nPMTs   = 30912\n",
      " nODPMTs = 0\n",
      "--------------------\n",
      "@@@ Start analysing data\n"
     ]
    },
    {
     "name": "stderr",
     "output_type": "stream",
     "text": [
      "100%|██████████| 2000/2000 [00:21<00:00, 94.05it/s] \n",
      " 33%|███▎      | 163/500 [1:02:49<2:11:16, 23.37s/it]"
     ]
    },
    {
     "name": "stdout",
     "output_type": "stream",
     "text": [
      "--------------------\n",
      " nEvents = 2000\n",
      " nPMTs   = 30912\n",
      " nODPMTs = 0\n",
      "--------------------\n",
      "@@@ Start analysing data\n"
     ]
    },
    {
     "name": "stderr",
     "output_type": "stream",
     "text": [
      "100%|██████████| 2000/2000 [00:21<00:00, 93.23it/s] \n",
      " 33%|███▎      | 164/500 [1:03:13<2:10:59, 23.39s/it]"
     ]
    },
    {
     "name": "stdout",
     "output_type": "stream",
     "text": [
      "--------------------\n",
      " nEvents = 2000\n",
      " nPMTs   = 30912\n",
      " nODPMTs = 0\n",
      "--------------------\n",
      "@@@ Start analysing data\n"
     ]
    },
    {
     "name": "stderr",
     "output_type": "stream",
     "text": [
      "100%|██████████| 2000/2000 [00:21<00:00, 93.83it/s] \n",
      " 33%|███▎      | 165/500 [1:03:36<2:10:23, 23.35s/it]"
     ]
    },
    {
     "name": "stdout",
     "output_type": "stream",
     "text": [
      "--------------------\n",
      " nEvents = 2000\n",
      " nPMTs   = 30912\n",
      " nODPMTs = 0\n",
      "--------------------\n",
      "@@@ Start analysing data\n"
     ]
    },
    {
     "name": "stderr",
     "output_type": "stream",
     "text": [
      "100%|██████████| 2000/2000 [00:21<00:00, 92.43it/s] \n",
      " 33%|███▎      | 166/500 [1:04:00<2:10:21, 23.42s/it]"
     ]
    },
    {
     "name": "stdout",
     "output_type": "stream",
     "text": [
      "--------------------\n",
      " nEvents = 2000\n",
      " nPMTs   = 30912\n",
      " nODPMTs = 0\n",
      "--------------------\n",
      "@@@ Start analysing data\n"
     ]
    },
    {
     "name": "stderr",
     "output_type": "stream",
     "text": [
      "100%|██████████| 2000/2000 [00:22<00:00, 87.40it/s]\n",
      " 33%|███▎      | 167/500 [1:04:24<2:12:22, 23.85s/it]"
     ]
    },
    {
     "name": "stdout",
     "output_type": "stream",
     "text": [
      "--------------------\n",
      " nEvents = 2000\n",
      " nPMTs   = 30912\n",
      " nODPMTs = 0\n",
      "--------------------\n",
      "@@@ Start analysing data\n"
     ]
    },
    {
     "name": "stderr",
     "output_type": "stream",
     "text": [
      "100%|██████████| 2000/2000 [00:21<00:00, 92.54it/s] \n",
      " 34%|███▎      | 168/500 [1:04:48<2:11:30, 23.77s/it]"
     ]
    },
    {
     "name": "stdout",
     "output_type": "stream",
     "text": [
      "--------------------\n",
      " nEvents = 2000\n",
      " nPMTs   = 30912\n",
      " nODPMTs = 0\n",
      "--------------------\n",
      "@@@ Start analysing data\n"
     ]
    },
    {
     "name": "stderr",
     "output_type": "stream",
     "text": [
      "100%|██████████| 2000/2000 [00:21<00:00, 94.16it/s] \n",
      " 34%|███▍      | 169/500 [1:05:11<2:10:05, 23.58s/it]"
     ]
    },
    {
     "name": "stdout",
     "output_type": "stream",
     "text": [
      "--------------------\n",
      " nEvents = 2000\n",
      " nPMTs   = 30912\n",
      " nODPMTs = 0\n",
      "--------------------\n",
      "@@@ Start analysing data\n"
     ]
    },
    {
     "name": "stderr",
     "output_type": "stream",
     "text": [
      "100%|██████████| 2000/2000 [00:21<00:00, 92.94it/s] \n",
      " 34%|███▍      | 170/500 [1:05:35<2:09:39, 23.57s/it]"
     ]
    },
    {
     "name": "stdout",
     "output_type": "stream",
     "text": [
      "--------------------\n",
      " nEvents = 2000\n",
      " nPMTs   = 30912\n",
      " nODPMTs = 0\n",
      "--------------------\n",
      "@@@ Start analysing data\n"
     ]
    },
    {
     "name": "stderr",
     "output_type": "stream",
     "text": [
      "100%|██████████| 2000/2000 [00:21<00:00, 95.00it/s] \n",
      " 34%|███▍      | 171/500 [1:05:58<2:08:14, 23.39s/it]"
     ]
    },
    {
     "name": "stdout",
     "output_type": "stream",
     "text": [
      "--------------------\n",
      " nEvents = 2000\n",
      " nPMTs   = 30912\n",
      " nODPMTs = 0\n",
      "--------------------\n",
      "@@@ Start analysing data\n"
     ]
    },
    {
     "name": "stderr",
     "output_type": "stream",
     "text": [
      "100%|██████████| 2000/2000 [00:21<00:00, 94.94it/s] \n",
      " 34%|███▍      | 172/500 [1:06:21<2:07:15, 23.28s/it]"
     ]
    },
    {
     "name": "stdout",
     "output_type": "stream",
     "text": [
      "--------------------\n",
      " nEvents = 2000\n",
      " nPMTs   = 30912\n",
      " nODPMTs = 0\n",
      "--------------------\n",
      "@@@ Start analysing data\n"
     ]
    },
    {
     "name": "stderr",
     "output_type": "stream",
     "text": [
      "100%|██████████| 2000/2000 [00:21<00:00, 93.86it/s] \n",
      " 35%|███▍      | 173/500 [1:06:44<2:06:55, 23.29s/it]"
     ]
    },
    {
     "name": "stdout",
     "output_type": "stream",
     "text": [
      "--------------------\n",
      " nEvents = 2000\n",
      " nPMTs   = 30912\n",
      " nODPMTs = 0\n",
      "--------------------\n",
      "@@@ Start analysing data\n"
     ]
    },
    {
     "name": "stderr",
     "output_type": "stream",
     "text": [
      "100%|██████████| 2000/2000 [00:21<00:00, 94.86it/s] \n",
      " 35%|███▍      | 174/500 [1:07:07<2:06:11, 23.23s/it]"
     ]
    },
    {
     "name": "stdout",
     "output_type": "stream",
     "text": [
      "--------------------\n",
      " nEvents = 2000\n",
      " nPMTs   = 30912\n",
      " nODPMTs = 0\n",
      "--------------------\n",
      "@@@ Start analysing data\n"
     ]
    },
    {
     "name": "stderr",
     "output_type": "stream",
     "text": [
      "100%|██████████| 2000/2000 [00:22<00:00, 87.03it/s] \n",
      " 35%|███▌      | 175/500 [1:07:32<2:08:46, 23.77s/it]"
     ]
    },
    {
     "name": "stdout",
     "output_type": "stream",
     "text": [
      "--------------------\n",
      " nEvents = 2000\n",
      " nPMTs   = 30912\n",
      " nODPMTs = 0\n",
      "--------------------\n",
      "@@@ Start analysing data\n"
     ]
    },
    {
     "name": "stderr",
     "output_type": "stream",
     "text": [
      "100%|██████████| 2000/2000 [00:21<00:00, 95.14it/s] \n",
      " 35%|███▌      | 176/500 [1:07:55<2:07:17, 23.57s/it]"
     ]
    },
    {
     "name": "stdout",
     "output_type": "stream",
     "text": [
      "--------------------\n",
      " nEvents = 2000\n",
      " nPMTs   = 30912\n",
      " nODPMTs = 0\n",
      "--------------------\n",
      "@@@ Start analysing data\n"
     ]
    },
    {
     "name": "stderr",
     "output_type": "stream",
     "text": [
      "100%|██████████| 2000/2000 [00:23<00:00, 84.32it/s]\n",
      " 35%|███▌      | 177/500 [1:08:21<2:10:52, 24.31s/it]"
     ]
    },
    {
     "name": "stdout",
     "output_type": "stream",
     "text": [
      "--------------------\n",
      " nEvents = 2000\n",
      " nPMTs   = 30912\n",
      " nODPMTs = 0\n",
      "--------------------\n",
      "@@@ Start analysing data\n"
     ]
    },
    {
     "name": "stderr",
     "output_type": "stream",
     "text": [
      "100%|██████████| 2000/2000 [00:25<00:00, 78.94it/s]\n",
      " 36%|███▌      | 178/500 [1:08:49<2:15:55, 25.33s/it]"
     ]
    },
    {
     "name": "stdout",
     "output_type": "stream",
     "text": [
      "--------------------\n",
      " nEvents = 2000\n",
      " nPMTs   = 30912\n",
      " nODPMTs = 0\n",
      "--------------------\n",
      "@@@ Start analysing data\n"
     ]
    },
    {
     "name": "stderr",
     "output_type": "stream",
     "text": [
      "100%|██████████| 2000/2000 [00:21<00:00, 92.92it/s] \n",
      " 36%|███▌      | 179/500 [1:09:13<2:12:43, 24.81s/it]"
     ]
    },
    {
     "name": "stdout",
     "output_type": "stream",
     "text": [
      "--------------------\n",
      " nEvents = 2000\n",
      " nPMTs   = 30912\n",
      " nODPMTs = 0\n",
      "--------------------\n",
      "@@@ Start analysing data\n"
     ]
    },
    {
     "name": "stderr",
     "output_type": "stream",
     "text": [
      "100%|██████████| 2000/2000 [00:20<00:00, 95.92it/s] \n",
      " 36%|███▌      | 180/500 [1:09:35<2:09:11, 24.22s/it]"
     ]
    },
    {
     "name": "stdout",
     "output_type": "stream",
     "text": [
      "--------------------\n",
      " nEvents = 2000\n",
      " nPMTs   = 30912\n",
      " nODPMTs = 0\n",
      "--------------------\n",
      "@@@ Start analysing data\n"
     ]
    },
    {
     "name": "stderr",
     "output_type": "stream",
     "text": [
      "100%|██████████| 2000/2000 [00:21<00:00, 92.19it/s] \n",
      " 36%|███▌      | 181/500 [1:09:59<2:08:15, 24.12s/it]"
     ]
    },
    {
     "name": "stdout",
     "output_type": "stream",
     "text": [
      "--------------------\n",
      " nEvents = 2000\n",
      " nPMTs   = 30912\n",
      " nODPMTs = 0\n",
      "--------------------\n",
      "@@@ Start analysing data\n"
     ]
    },
    {
     "name": "stderr",
     "output_type": "stream",
     "text": [
      "100%|██████████| 2000/2000 [00:21<00:00, 94.68it/s] \n",
      " 36%|███▋      | 182/500 [1:10:22<2:06:09, 23.80s/it]"
     ]
    },
    {
     "name": "stdout",
     "output_type": "stream",
     "text": [
      "--------------------\n",
      " nEvents = 2000\n",
      " nPMTs   = 30912\n",
      " nODPMTs = 0\n",
      "--------------------\n",
      "@@@ Start analysing data\n"
     ]
    },
    {
     "name": "stderr",
     "output_type": "stream",
     "text": [
      "100%|██████████| 2000/2000 [00:21<00:00, 93.84it/s] \n",
      " 37%|███▋      | 183/500 [1:10:46<2:04:59, 23.66s/it]"
     ]
    },
    {
     "name": "stdout",
     "output_type": "stream",
     "text": [
      "--------------------\n",
      " nEvents = 2000\n",
      " nPMTs   = 30912\n",
      " nODPMTs = 0\n",
      "--------------------\n",
      "@@@ Start analysing data\n"
     ]
    },
    {
     "name": "stderr",
     "output_type": "stream",
     "text": [
      "100%|██████████| 2000/2000 [00:20<00:00, 95.50it/s] \n",
      " 37%|███▋      | 184/500 [1:11:09<2:03:25, 23.43s/it]"
     ]
    },
    {
     "name": "stdout",
     "output_type": "stream",
     "text": [
      "--------------------\n",
      " nEvents = 2000\n",
      " nPMTs   = 30912\n",
      " nODPMTs = 0\n",
      "--------------------\n",
      "@@@ Start analysing data\n"
     ]
    },
    {
     "name": "stderr",
     "output_type": "stream",
     "text": [
      "100%|██████████| 2000/2000 [00:21<00:00, 94.93it/s] \n",
      " 37%|███▋      | 185/500 [1:11:32<2:02:27, 23.33s/it]"
     ]
    },
    {
     "name": "stdout",
     "output_type": "stream",
     "text": [
      "--------------------\n",
      " nEvents = 2000\n",
      " nPMTs   = 30912\n",
      " nODPMTs = 0\n",
      "--------------------\n",
      "@@@ Start analysing data\n"
     ]
    },
    {
     "name": "stderr",
     "output_type": "stream",
     "text": [
      "100%|██████████| 2000/2000 [00:20<00:00, 95.96it/s] \n",
      " 37%|███▋      | 186/500 [1:11:55<2:01:21, 23.19s/it]"
     ]
    },
    {
     "name": "stdout",
     "output_type": "stream",
     "text": [
      "--------------------\n",
      " nEvents = 2000\n",
      " nPMTs   = 30912\n",
      " nODPMTs = 0\n",
      "--------------------\n",
      "@@@ Start analysing data\n"
     ]
    },
    {
     "name": "stderr",
     "output_type": "stream",
     "text": [
      "100%|██████████| 2000/2000 [00:20<00:00, 96.49it/s] \n",
      " 37%|███▋      | 187/500 [1:12:17<2:00:09, 23.03s/it]"
     ]
    },
    {
     "name": "stdout",
     "output_type": "stream",
     "text": [
      "--------------------\n",
      " nEvents = 2000\n",
      " nPMTs   = 30912\n",
      " nODPMTs = 0\n",
      "--------------------\n",
      "@@@ Start analysing data\n"
     ]
    },
    {
     "name": "stderr",
     "output_type": "stream",
     "text": [
      "100%|██████████| 2000/2000 [00:20<00:00, 96.51it/s] \n",
      " 38%|███▊      | 188/500 [1:12:40<1:59:06, 22.91s/it]"
     ]
    },
    {
     "name": "stdout",
     "output_type": "stream",
     "text": [
      "--------------------\n",
      " nEvents = 2000\n",
      " nPMTs   = 30912\n",
      " nODPMTs = 0\n",
      "--------------------\n",
      "@@@ Start analysing data\n"
     ]
    },
    {
     "name": "stderr",
     "output_type": "stream",
     "text": [
      "100%|██████████| 2000/2000 [00:20<00:00, 95.60it/s] \n",
      " 38%|███▊      | 189/500 [1:13:03<1:58:42, 22.90s/it]"
     ]
    },
    {
     "name": "stdout",
     "output_type": "stream",
     "text": [
      "--------------------\n",
      " nEvents = 2000\n",
      " nPMTs   = 30912\n",
      " nODPMTs = 0\n",
      "--------------------\n",
      "@@@ Start analysing data\n"
     ]
    },
    {
     "name": "stderr",
     "output_type": "stream",
     "text": [
      "100%|██████████| 2000/2000 [00:21<00:00, 92.34it/s] \n",
      " 38%|███▊      | 190/500 [1:13:26<1:59:22, 23.10s/it]"
     ]
    },
    {
     "name": "stdout",
     "output_type": "stream",
     "text": [
      "--------------------\n",
      " nEvents = 2000\n",
      " nPMTs   = 30912\n",
      " nODPMTs = 0\n",
      "--------------------\n",
      "@@@ Start analysing data\n"
     ]
    },
    {
     "name": "stderr",
     "output_type": "stream",
     "text": [
      "100%|██████████| 2000/2000 [00:23<00:00, 85.35it/s]\n",
      " 38%|███▊      | 191/500 [1:13:52<2:02:56, 23.87s/it]"
     ]
    },
    {
     "name": "stdout",
     "output_type": "stream",
     "text": [
      "--------------------\n",
      " nEvents = 2000\n",
      " nPMTs   = 30912\n",
      " nODPMTs = 0\n",
      "--------------------\n",
      "@@@ Start analysing data\n"
     ]
    },
    {
     "name": "stderr",
     "output_type": "stream",
     "text": [
      "100%|██████████| 2000/2000 [00:24<00:00, 81.33it/s]\n",
      " 38%|███▊      | 192/500 [1:14:19<2:07:35, 24.85s/it]"
     ]
    },
    {
     "name": "stdout",
     "output_type": "stream",
     "text": [
      "--------------------\n",
      " nEvents = 2000\n",
      " nPMTs   = 30912\n",
      " nODPMTs = 0\n",
      "--------------------\n",
      "@@@ Start analysing data\n"
     ]
    },
    {
     "name": "stderr",
     "output_type": "stream",
     "text": [
      "100%|██████████| 2000/2000 [00:21<00:00, 92.80it/s] \n",
      " 39%|███▊      | 193/500 [1:14:43<2:05:24, 24.51s/it]"
     ]
    },
    {
     "name": "stdout",
     "output_type": "stream",
     "text": [
      "--------------------\n",
      " nEvents = 2000\n",
      " nPMTs   = 30912\n",
      " nODPMTs = 0\n",
      "--------------------\n",
      "@@@ Start analysing data\n"
     ]
    },
    {
     "name": "stderr",
     "output_type": "stream",
     "text": [
      "100%|██████████| 2000/2000 [00:21<00:00, 93.63it/s] \n",
      " 39%|███▉      | 194/500 [1:15:06<2:03:20, 24.18s/it]"
     ]
    },
    {
     "name": "stdout",
     "output_type": "stream",
     "text": [
      "--------------------\n",
      " nEvents = 2000\n",
      " nPMTs   = 30912\n",
      " nODPMTs = 0\n",
      "--------------------\n",
      "@@@ Start analysing data\n"
     ]
    },
    {
     "name": "stderr",
     "output_type": "stream",
     "text": [
      "100%|██████████| 2000/2000 [00:21<00:00, 94.78it/s] \n",
      " 39%|███▉      | 195/500 [1:15:29<2:01:15, 23.86s/it]"
     ]
    },
    {
     "name": "stdout",
     "output_type": "stream",
     "text": [
      "--------------------\n",
      " nEvents = 2000\n",
      " nPMTs   = 30912\n",
      " nODPMTs = 0\n",
      "--------------------\n",
      "@@@ Start analysing data\n"
     ]
    },
    {
     "name": "stderr",
     "output_type": "stream",
     "text": [
      "100%|██████████| 2000/2000 [00:21<00:00, 92.14it/s] \n",
      " 39%|███▉      | 196/500 [1:15:53<2:00:37, 23.81s/it]"
     ]
    },
    {
     "name": "stdout",
     "output_type": "stream",
     "text": [
      "--------------------\n",
      " nEvents = 2000\n",
      " nPMTs   = 30912\n",
      " nODPMTs = 0\n",
      "--------------------\n",
      "@@@ Start analysing data\n"
     ]
    },
    {
     "name": "stderr",
     "output_type": "stream",
     "text": [
      "100%|██████████| 2000/2000 [00:20<00:00, 95.29it/s] \n",
      " 39%|███▉      | 197/500 [1:16:16<1:59:00, 23.57s/it]"
     ]
    },
    {
     "name": "stdout",
     "output_type": "stream",
     "text": [
      "--------------------\n",
      " nEvents = 2000\n",
      " nPMTs   = 30912\n",
      " nODPMTs = 0\n",
      "--------------------\n",
      "@@@ Start analysing data\n"
     ]
    },
    {
     "name": "stderr",
     "output_type": "stream",
     "text": [
      "100%|██████████| 2000/2000 [00:20<00:00, 96.25it/s] \n",
      " 40%|███▉      | 198/500 [1:16:39<1:57:20, 23.31s/it]"
     ]
    },
    {
     "name": "stdout",
     "output_type": "stream",
     "text": [
      "--------------------\n",
      " nEvents = 2000\n",
      " nPMTs   = 30912\n",
      " nODPMTs = 0\n",
      "--------------------\n",
      "@@@ Start analysing data\n"
     ]
    },
    {
     "name": "stderr",
     "output_type": "stream",
     "text": [
      "100%|██████████| 2000/2000 [00:20<00:00, 96.06it/s] \n",
      " 40%|███▉      | 199/500 [1:17:02<1:56:14, 23.17s/it]"
     ]
    },
    {
     "name": "stdout",
     "output_type": "stream",
     "text": [
      "--------------------\n",
      " nEvents = 2000\n",
      " nPMTs   = 30912\n",
      " nODPMTs = 0\n",
      "--------------------\n",
      "@@@ Start analysing data\n"
     ]
    },
    {
     "name": "stderr",
     "output_type": "stream",
     "text": [
      "100%|██████████| 2000/2000 [00:20<00:00, 96.94it/s] \n",
      " 40%|████      | 200/500 [1:17:24<1:55:10, 23.04s/it]"
     ]
    },
    {
     "name": "stdout",
     "output_type": "stream",
     "text": [
      "--------------------\n",
      " nEvents = 2000\n",
      " nPMTs   = 30912\n",
      " nODPMTs = 0\n",
      "--------------------\n",
      "@@@ Start analysing data\n"
     ]
    },
    {
     "name": "stderr",
     "output_type": "stream",
     "text": [
      "100%|██████████| 2000/2000 [00:21<00:00, 95.16it/s] \n",
      " 40%|████      | 201/500 [1:17:47<1:54:31, 22.98s/it]"
     ]
    },
    {
     "name": "stdout",
     "output_type": "stream",
     "text": [
      "--------------------\n",
      " nEvents = 2000\n",
      " nPMTs   = 30912\n",
      " nODPMTs = 0\n",
      "--------------------\n",
      "@@@ Start analysing data\n"
     ]
    },
    {
     "name": "stderr",
     "output_type": "stream",
     "text": [
      "100%|██████████| 2000/2000 [00:21<00:00, 94.15it/s] \n",
      " 40%|████      | 202/500 [1:18:10<1:54:33, 23.07s/it]"
     ]
    },
    {
     "name": "stdout",
     "output_type": "stream",
     "text": [
      "--------------------\n",
      " nEvents = 2000\n",
      " nPMTs   = 30912\n",
      " nODPMTs = 0\n",
      "--------------------\n",
      "@@@ Start analysing data\n"
     ]
    },
    {
     "name": "stderr",
     "output_type": "stream",
     "text": [
      "100%|██████████| 2000/2000 [00:21<00:00, 94.57it/s] \n",
      " 41%|████      | 203/500 [1:18:34<1:54:20, 23.10s/it]"
     ]
    },
    {
     "name": "stdout",
     "output_type": "stream",
     "text": [
      "--------------------\n",
      " nEvents = 2000\n",
      " nPMTs   = 30912\n",
      " nODPMTs = 0\n",
      "--------------------\n",
      "@@@ Start analysing data\n"
     ]
    },
    {
     "name": "stderr",
     "output_type": "stream",
     "text": [
      "100%|██████████| 2000/2000 [00:21<00:00, 95.19it/s] \n",
      " 41%|████      | 204/500 [1:18:57<1:53:47, 23.06s/it]"
     ]
    },
    {
     "name": "stdout",
     "output_type": "stream",
     "text": [
      "--------------------\n",
      " nEvents = 2000\n",
      " nPMTs   = 30912\n",
      " nODPMTs = 0\n",
      "--------------------\n",
      "@@@ Start analysing data\n"
     ]
    },
    {
     "name": "stderr",
     "output_type": "stream",
     "text": [
      "100%|██████████| 2000/2000 [00:21<00:00, 93.58it/s] \n",
      " 41%|████      | 205/500 [1:19:20<1:53:39, 23.12s/it]"
     ]
    },
    {
     "name": "stdout",
     "output_type": "stream",
     "text": [
      "--------------------\n",
      " nEvents = 2000\n",
      " nPMTs   = 30912\n",
      " nODPMTs = 0\n",
      "--------------------\n",
      "@@@ Start analysing data\n"
     ]
    },
    {
     "name": "stderr",
     "output_type": "stream",
     "text": [
      "100%|██████████| 2000/2000 [00:21<00:00, 93.54it/s] \n",
      " 41%|████      | 206/500 [1:19:43<1:53:35, 23.18s/it]"
     ]
    },
    {
     "name": "stdout",
     "output_type": "stream",
     "text": [
      "--------------------\n",
      " nEvents = 2000\n",
      " nPMTs   = 30912\n",
      " nODPMTs = 0\n",
      "--------------------\n",
      "@@@ Start analysing data\n"
     ]
    },
    {
     "name": "stderr",
     "output_type": "stream",
     "text": [
      "100%|██████████| 2000/2000 [00:20<00:00, 95.56it/s] \n",
      " 41%|████▏     | 207/500 [1:20:06<1:52:47, 23.10s/it]"
     ]
    },
    {
     "name": "stdout",
     "output_type": "stream",
     "text": [
      "--------------------\n",
      " nEvents = 2000\n",
      " nPMTs   = 30912\n",
      " nODPMTs = 0\n",
      "--------------------\n",
      "@@@ Start analysing data\n"
     ]
    },
    {
     "name": "stderr",
     "output_type": "stream",
     "text": [
      "100%|██████████| 2000/2000 [00:21<00:00, 94.78it/s] \n",
      " 42%|████▏     | 208/500 [1:20:29<1:52:20, 23.08s/it]"
     ]
    },
    {
     "name": "stdout",
     "output_type": "stream",
     "text": [
      "--------------------\n",
      " nEvents = 2000\n",
      " nPMTs   = 30912\n",
      " nODPMTs = 0\n",
      "--------------------\n",
      "@@@ Start analysing data\n"
     ]
    },
    {
     "name": "stderr",
     "output_type": "stream",
     "text": [
      "100%|██████████| 2000/2000 [00:21<00:00, 94.79it/s] \n",
      " 42%|████▏     | 209/500 [1:20:52<1:51:45, 23.04s/it]"
     ]
    },
    {
     "name": "stdout",
     "output_type": "stream",
     "text": [
      "--------------------\n",
      " nEvents = 2000\n",
      " nPMTs   = 30912\n",
      " nODPMTs = 0\n",
      "--------------------\n",
      "@@@ Start analysing data\n"
     ]
    },
    {
     "name": "stderr",
     "output_type": "stream",
     "text": [
      "100%|██████████| 2000/2000 [00:20<00:00, 95.47it/s] \n",
      " 42%|████▏     | 210/500 [1:21:15<1:51:12, 23.01s/it]"
     ]
    },
    {
     "name": "stdout",
     "output_type": "stream",
     "text": [
      "--------------------\n",
      " nEvents = 2000\n",
      " nPMTs   = 30912\n",
      " nODPMTs = 0\n",
      "--------------------\n",
      "@@@ Start analysing data\n"
     ]
    },
    {
     "name": "stderr",
     "output_type": "stream",
     "text": [
      "100%|██████████| 2000/2000 [00:20<00:00, 95.50it/s] \n",
      " 42%|████▏     | 211/500 [1:21:38<1:50:34, 22.96s/it]"
     ]
    },
    {
     "name": "stdout",
     "output_type": "stream",
     "text": [
      "--------------------\n",
      " nEvents = 2000\n",
      " nPMTs   = 30912\n",
      " nODPMTs = 0\n",
      "--------------------\n",
      "@@@ Start analysing data\n"
     ]
    },
    {
     "name": "stderr",
     "output_type": "stream",
     "text": [
      "100%|██████████| 2000/2000 [00:21<00:00, 93.79it/s] \n",
      " 42%|████▏     | 212/500 [1:22:01<1:50:38, 23.05s/it]"
     ]
    },
    {
     "name": "stdout",
     "output_type": "stream",
     "text": [
      "--------------------\n",
      " nEvents = 2000\n",
      " nPMTs   = 30912\n",
      " nODPMTs = 0\n",
      "--------------------\n",
      "@@@ Start analysing data\n"
     ]
    },
    {
     "name": "stderr",
     "output_type": "stream",
     "text": [
      "100%|██████████| 2000/2000 [00:20<00:00, 96.85it/s] \n",
      " 43%|████▎     | 213/500 [1:22:24<1:49:29, 22.89s/it]"
     ]
    },
    {
     "name": "stdout",
     "output_type": "stream",
     "text": [
      "--------------------\n",
      " nEvents = 2000\n",
      " nPMTs   = 30912\n",
      " nODPMTs = 0\n",
      "--------------------\n",
      "@@@ Start analysing data\n"
     ]
    },
    {
     "name": "stderr",
     "output_type": "stream",
     "text": [
      "100%|██████████| 2000/2000 [00:20<00:00, 96.45it/s] \n",
      " 43%|████▎     | 214/500 [1:22:46<1:49:01, 22.87s/it]"
     ]
    },
    {
     "name": "stdout",
     "output_type": "stream",
     "text": [
      "--------------------\n",
      " nEvents = 2000\n",
      " nPMTs   = 30912\n",
      " nODPMTs = 0\n",
      "--------------------\n",
      "@@@ Start analysing data\n"
     ]
    },
    {
     "name": "stderr",
     "output_type": "stream",
     "text": [
      "100%|██████████| 2000/2000 [00:20<00:00, 95.26it/s] \n",
      " 43%|████▎     | 215/500 [1:23:09<1:48:40, 22.88s/it]"
     ]
    },
    {
     "name": "stdout",
     "output_type": "stream",
     "text": [
      "--------------------\n",
      " nEvents = 2000\n",
      " nPMTs   = 30912\n",
      " nODPMTs = 0\n",
      "--------------------\n",
      "@@@ Start analysing data\n"
     ]
    },
    {
     "name": "stderr",
     "output_type": "stream",
     "text": [
      "100%|██████████| 2000/2000 [00:21<00:00, 94.28it/s] \n",
      " 43%|████▎     | 216/500 [1:23:32<1:48:38, 22.95s/it]"
     ]
    },
    {
     "name": "stdout",
     "output_type": "stream",
     "text": [
      "--------------------\n",
      " nEvents = 2000\n",
      " nPMTs   = 30912\n",
      " nODPMTs = 0\n",
      "--------------------\n",
      "@@@ Start analysing data\n"
     ]
    },
    {
     "name": "stderr",
     "output_type": "stream",
     "text": [
      "100%|██████████| 2000/2000 [00:21<00:00, 94.89it/s] \n",
      " 43%|████▎     | 217/500 [1:23:55<1:48:20, 22.97s/it]"
     ]
    },
    {
     "name": "stdout",
     "output_type": "stream",
     "text": [
      "--------------------\n",
      " nEvents = 2000\n",
      " nPMTs   = 30912\n",
      " nODPMTs = 0\n",
      "--------------------\n",
      "@@@ Start analysing data\n"
     ]
    },
    {
     "name": "stderr",
     "output_type": "stream",
     "text": [
      "100%|██████████| 2000/2000 [00:21<00:00, 93.75it/s] \n",
      " 44%|████▎     | 218/500 [1:24:19<1:48:28, 23.08s/it]"
     ]
    },
    {
     "name": "stdout",
     "output_type": "stream",
     "text": [
      "--------------------\n",
      " nEvents = 2000\n",
      " nPMTs   = 30912\n",
      " nODPMTs = 0\n",
      "--------------------\n",
      "@@@ Start analysing data\n"
     ]
    },
    {
     "name": "stderr",
     "output_type": "stream",
     "text": [
      "100%|██████████| 2000/2000 [00:21<00:00, 93.17it/s] \n",
      " 44%|████▍     | 219/500 [1:24:42<1:48:40, 23.21s/it]"
     ]
    },
    {
     "name": "stdout",
     "output_type": "stream",
     "text": [
      "--------------------\n",
      " nEvents = 2000\n",
      " nPMTs   = 30912\n",
      " nODPMTs = 0\n",
      "--------------------\n",
      "@@@ Start analysing data\n"
     ]
    },
    {
     "name": "stderr",
     "output_type": "stream",
     "text": [
      "100%|██████████| 2000/2000 [00:21<00:00, 92.74it/s]\n",
      " 44%|████▍     | 220/500 [1:25:06<1:48:48, 23.32s/it]"
     ]
    },
    {
     "name": "stdout",
     "output_type": "stream",
     "text": [
      "--------------------\n",
      " nEvents = 2000\n",
      " nPMTs   = 30912\n",
      " nODPMTs = 0\n",
      "--------------------\n",
      "@@@ Start analysing data\n"
     ]
    },
    {
     "name": "stderr",
     "output_type": "stream",
     "text": [
      "100%|██████████| 2000/2000 [00:20<00:00, 96.93it/s] \n",
      " 44%|████▍     | 221/500 [1:25:28<1:47:27, 23.11s/it]"
     ]
    },
    {
     "name": "stdout",
     "output_type": "stream",
     "text": [
      "--------------------\n",
      " nEvents = 2000\n",
      " nPMTs   = 30912\n",
      " nODPMTs = 0\n",
      "--------------------\n",
      "@@@ Start analysing data\n"
     ]
    },
    {
     "name": "stderr",
     "output_type": "stream",
     "text": [
      "100%|██████████| 2000/2000 [00:20<00:00, 97.21it/s] \n",
      " 44%|████▍     | 222/500 [1:25:51<1:46:09, 22.91s/it]"
     ]
    },
    {
     "name": "stdout",
     "output_type": "stream",
     "text": [
      "--------------------\n",
      " nEvents = 2000\n",
      " nPMTs   = 30912\n",
      " nODPMTs = 0\n",
      "--------------------\n",
      "@@@ Start analysing data\n"
     ]
    },
    {
     "name": "stderr",
     "output_type": "stream",
     "text": [
      "100%|██████████| 2000/2000 [00:21<00:00, 95.01it/s] \n",
      " 45%|████▍     | 223/500 [1:26:14<1:45:52, 22.93s/it]"
     ]
    },
    {
     "name": "stdout",
     "output_type": "stream",
     "text": [
      "--------------------\n",
      " nEvents = 2000\n",
      " nPMTs   = 30912\n",
      " nODPMTs = 0\n",
      "--------------------\n",
      "@@@ Start analysing data\n"
     ]
    },
    {
     "name": "stderr",
     "output_type": "stream",
     "text": [
      "100%|██████████| 2000/2000 [00:21<00:00, 94.74it/s] \n",
      " 45%|████▍     | 224/500 [1:26:37<1:45:41, 22.98s/it]"
     ]
    },
    {
     "name": "stdout",
     "output_type": "stream",
     "text": [
      "--------------------\n",
      " nEvents = 2000\n",
      " nPMTs   = 30912\n",
      " nODPMTs = 0\n",
      "--------------------\n",
      "@@@ Start analysing data\n"
     ]
    },
    {
     "name": "stderr",
     "output_type": "stream",
     "text": [
      "100%|██████████| 2000/2000 [00:20<00:00, 95.58it/s] \n",
      " 45%|████▌     | 225/500 [1:27:00<1:45:08, 22.94s/it]"
     ]
    },
    {
     "name": "stdout",
     "output_type": "stream",
     "text": [
      "--------------------\n",
      " nEvents = 2000\n",
      " nPMTs   = 30912\n",
      " nODPMTs = 0\n",
      "--------------------\n",
      "@@@ Start analysing data\n"
     ]
    },
    {
     "name": "stderr",
     "output_type": "stream",
     "text": [
      "100%|██████████| 2000/2000 [00:21<00:00, 94.31it/s] \n",
      " 45%|████▌     | 226/500 [1:27:23<1:45:06, 23.02s/it]"
     ]
    },
    {
     "name": "stdout",
     "output_type": "stream",
     "text": [
      "--------------------\n",
      " nEvents = 2000\n",
      " nPMTs   = 30912\n",
      " nODPMTs = 0\n",
      "--------------------\n",
      "@@@ Start analysing data\n"
     ]
    },
    {
     "name": "stderr",
     "output_type": "stream",
     "text": [
      "100%|██████████| 2000/2000 [00:21<00:00, 94.91it/s] \n",
      " 45%|████▌     | 227/500 [1:27:46<1:44:35, 22.99s/it]"
     ]
    },
    {
     "name": "stdout",
     "output_type": "stream",
     "text": [
      "--------------------\n",
      " nEvents = 2000\n",
      " nPMTs   = 30912\n",
      " nODPMTs = 0\n",
      "--------------------\n",
      "@@@ Start analysing data\n"
     ]
    },
    {
     "name": "stderr",
     "output_type": "stream",
     "text": [
      "100%|██████████| 2000/2000 [00:21<00:00, 94.58it/s] \n",
      " 46%|████▌     | 228/500 [1:28:09<1:44:22, 23.02s/it]"
     ]
    },
    {
     "name": "stdout",
     "output_type": "stream",
     "text": [
      "--------------------\n",
      " nEvents = 2000\n",
      " nPMTs   = 30912\n",
      " nODPMTs = 0\n",
      "--------------------\n",
      "@@@ Start analysing data\n"
     ]
    },
    {
     "name": "stderr",
     "output_type": "stream",
     "text": [
      "100%|██████████| 2000/2000 [00:21<00:00, 94.38it/s] \n",
      " 46%|████▌     | 229/500 [1:28:32<1:44:09, 23.06s/it]"
     ]
    },
    {
     "name": "stdout",
     "output_type": "stream",
     "text": [
      "--------------------\n",
      " nEvents = 2000\n",
      " nPMTs   = 30912\n",
      " nODPMTs = 0\n",
      "--------------------\n",
      "@@@ Start analysing data\n"
     ]
    },
    {
     "name": "stderr",
     "output_type": "stream",
     "text": [
      "100%|██████████| 2000/2000 [00:21<00:00, 93.71it/s] \n",
      " 46%|████▌     | 230/500 [1:28:55<1:44:03, 23.12s/it]"
     ]
    },
    {
     "name": "stdout",
     "output_type": "stream",
     "text": [
      "--------------------\n",
      " nEvents = 2000\n",
      " nPMTs   = 30912\n",
      " nODPMTs = 0\n",
      "--------------------\n",
      "@@@ Start analysing data\n"
     ]
    },
    {
     "name": "stderr",
     "output_type": "stream",
     "text": [
      "100%|██████████| 2000/2000 [00:20<00:00, 96.61it/s] \n",
      " 46%|████▌     | 231/500 [1:29:18<1:43:01, 22.98s/it]"
     ]
    },
    {
     "name": "stdout",
     "output_type": "stream",
     "text": [
      "--------------------\n",
      " nEvents = 2000\n",
      " nPMTs   = 30912\n",
      " nODPMTs = 0\n",
      "--------------------\n",
      "@@@ Start analysing data\n"
     ]
    },
    {
     "name": "stderr",
     "output_type": "stream",
     "text": [
      "100%|██████████| 2000/2000 [00:21<00:00, 93.75it/s] \n",
      " 46%|████▋     | 232/500 [1:29:41<1:43:03, 23.07s/it]"
     ]
    },
    {
     "name": "stdout",
     "output_type": "stream",
     "text": [
      "--------------------\n",
      " nEvents = 2000\n",
      " nPMTs   = 30912\n",
      " nODPMTs = 0\n",
      "--------------------\n",
      "@@@ Start analysing data\n"
     ]
    },
    {
     "name": "stderr",
     "output_type": "stream",
     "text": [
      "100%|██████████| 2000/2000 [00:21<00:00, 94.22it/s] \n",
      " 47%|████▋     | 233/500 [1:30:05<1:42:50, 23.11s/it]"
     ]
    },
    {
     "name": "stdout",
     "output_type": "stream",
     "text": [
      "--------------------\n",
      " nEvents = 2000\n",
      " nPMTs   = 30912\n",
      " nODPMTs = 0\n",
      "--------------------\n",
      "@@@ Start analysing data\n"
     ]
    },
    {
     "name": "stderr",
     "output_type": "stream",
     "text": [
      "100%|██████████| 2000/2000 [00:21<00:00, 94.54it/s] \n",
      " 47%|████▋     | 234/500 [1:30:28<1:42:25, 23.10s/it]"
     ]
    },
    {
     "name": "stdout",
     "output_type": "stream",
     "text": [
      "--------------------\n",
      " nEvents = 2000\n",
      " nPMTs   = 30912\n",
      " nODPMTs = 0\n",
      "--------------------\n",
      "@@@ Start analysing data\n"
     ]
    },
    {
     "name": "stderr",
     "output_type": "stream",
     "text": [
      "100%|██████████| 2000/2000 [00:21<00:00, 95.11it/s] \n",
      " 47%|████▋     | 235/500 [1:30:51<1:41:59, 23.09s/it]"
     ]
    },
    {
     "name": "stdout",
     "output_type": "stream",
     "text": [
      "--------------------\n",
      " nEvents = 2000\n",
      " nPMTs   = 30912\n",
      " nODPMTs = 0\n",
      "--------------------\n",
      "@@@ Start analysing data\n"
     ]
    },
    {
     "name": "stderr",
     "output_type": "stream",
     "text": [
      "100%|██████████| 2000/2000 [00:21<00:00, 93.72it/s] \n",
      " 47%|████▋     | 236/500 [1:31:14<1:41:55, 23.16s/it]"
     ]
    },
    {
     "name": "stdout",
     "output_type": "stream",
     "text": [
      "--------------------\n",
      " nEvents = 2000\n",
      " nPMTs   = 30912\n",
      " nODPMTs = 0\n",
      "--------------------\n",
      "@@@ Start analysing data\n"
     ]
    },
    {
     "name": "stderr",
     "output_type": "stream",
     "text": [
      "100%|██████████| 2000/2000 [00:21<00:00, 94.83it/s] \n",
      " 47%|████▋     | 237/500 [1:31:37<1:41:20, 23.12s/it]"
     ]
    },
    {
     "name": "stdout",
     "output_type": "stream",
     "text": [
      "--------------------\n",
      " nEvents = 2000\n",
      " nPMTs   = 30912\n",
      " nODPMTs = 0\n",
      "--------------------\n",
      "@@@ Start analysing data\n"
     ]
    },
    {
     "name": "stderr",
     "output_type": "stream",
     "text": [
      "100%|██████████| 2000/2000 [00:20<00:00, 96.07it/s] \n",
      " 48%|████▊     | 238/500 [1:32:00<1:40:20, 22.98s/it]"
     ]
    },
    {
     "name": "stdout",
     "output_type": "stream",
     "text": [
      "--------------------\n",
      " nEvents = 2000\n",
      " nPMTs   = 30912\n",
      " nODPMTs = 0\n",
      "--------------------\n",
      "@@@ Start analysing data\n"
     ]
    },
    {
     "name": "stderr",
     "output_type": "stream",
     "text": [
      "100%|██████████| 2000/2000 [00:21<00:00, 92.70it/s] \n",
      " 48%|████▊     | 239/500 [1:32:23<1:40:42, 23.15s/it]"
     ]
    },
    {
     "name": "stdout",
     "output_type": "stream",
     "text": [
      "--------------------\n",
      " nEvents = 2000\n",
      " nPMTs   = 30912\n",
      " nODPMTs = 0\n",
      "--------------------\n",
      "@@@ Start analysing data\n"
     ]
    },
    {
     "name": "stderr",
     "output_type": "stream",
     "text": [
      "100%|██████████| 2000/2000 [00:21<00:00, 94.84it/s] \n",
      " 48%|████▊     | 240/500 [1:32:46<1:40:09, 23.11s/it]"
     ]
    },
    {
     "name": "stdout",
     "output_type": "stream",
     "text": [
      "--------------------\n",
      " nEvents = 2000\n",
      " nPMTs   = 30912\n",
      " nODPMTs = 0\n",
      "--------------------\n",
      "@@@ Start analysing data\n"
     ]
    },
    {
     "name": "stderr",
     "output_type": "stream",
     "text": [
      "100%|██████████| 2000/2000 [00:21<00:00, 94.46it/s] \n",
      " 48%|████▊     | 241/500 [1:33:09<1:39:48, 23.12s/it]"
     ]
    },
    {
     "name": "stdout",
     "output_type": "stream",
     "text": [
      "--------------------\n",
      " nEvents = 2000\n",
      " nPMTs   = 30912\n",
      " nODPMTs = 0\n",
      "--------------------\n",
      "@@@ Start analysing data\n"
     ]
    },
    {
     "name": "stderr",
     "output_type": "stream",
     "text": [
      "100%|██████████| 2000/2000 [00:16<00:00, 118.38it/s]\n",
      " 48%|████▊     | 242/500 [1:33:28<1:33:24, 21.72s/it]"
     ]
    },
    {
     "name": "stdout",
     "output_type": "stream",
     "text": [
      "--------------------\n",
      " nEvents = 2000\n",
      " nPMTs   = 30912\n",
      " nODPMTs = 0\n",
      "--------------------\n",
      "@@@ Start analysing data\n"
     ]
    },
    {
     "name": "stderr",
     "output_type": "stream",
     "text": [
      "100%|██████████| 2000/2000 [00:20<00:00, 96.08it/s] \n",
      " 49%|████▊     | 243/500 [1:33:51<1:34:24, 22.04s/it]"
     ]
    },
    {
     "name": "stdout",
     "output_type": "stream",
     "text": [
      "--------------------\n",
      " nEvents = 2000\n",
      " nPMTs   = 30912\n",
      " nODPMTs = 0\n",
      "--------------------\n",
      "@@@ Start analysing data\n"
     ]
    },
    {
     "name": "stderr",
     "output_type": "stream",
     "text": [
      "100%|██████████| 2000/2000 [00:20<00:00, 96.90it/s] \n",
      " 49%|████▉     | 244/500 [1:34:13<1:34:38, 22.18s/it]"
     ]
    },
    {
     "name": "stdout",
     "output_type": "stream",
     "text": [
      "--------------------\n",
      " nEvents = 2000\n",
      " nPMTs   = 30912\n",
      " nODPMTs = 0\n",
      "--------------------\n",
      "@@@ Start analysing data\n"
     ]
    },
    {
     "name": "stderr",
     "output_type": "stream",
     "text": [
      "100%|██████████| 2000/2000 [00:20<00:00, 95.93it/s] \n",
      " 49%|████▉     | 245/500 [1:34:36<1:35:07, 22.38s/it]"
     ]
    },
    {
     "name": "stdout",
     "output_type": "stream",
     "text": [
      "--------------------\n",
      " nEvents = 2000\n",
      " nPMTs   = 30912\n",
      " nODPMTs = 0\n",
      "--------------------\n",
      "@@@ Start analysing data\n"
     ]
    },
    {
     "name": "stderr",
     "output_type": "stream",
     "text": [
      "100%|██████████| 2000/2000 [00:21<00:00, 94.81it/s] \n",
      " 49%|████▉     | 246/500 [1:34:59<1:35:39, 22.60s/it]"
     ]
    },
    {
     "name": "stdout",
     "output_type": "stream",
     "text": [
      "--------------------\n",
      " nEvents = 2000\n",
      " nPMTs   = 30912\n",
      " nODPMTs = 0\n",
      "--------------------\n",
      "@@@ Start analysing data\n"
     ]
    },
    {
     "name": "stderr",
     "output_type": "stream",
     "text": [
      "100%|██████████| 2000/2000 [00:21<00:00, 95.11it/s] \n",
      " 49%|████▉     | 247/500 [1:35:22<1:35:45, 22.71s/it]"
     ]
    },
    {
     "name": "stdout",
     "output_type": "stream",
     "text": [
      "--------------------\n",
      " nEvents = 2000\n",
      " nPMTs   = 30912\n",
      " nODPMTs = 0\n",
      "--------------------\n",
      "@@@ Start analysing data\n"
     ]
    },
    {
     "name": "stderr",
     "output_type": "stream",
     "text": [
      "100%|██████████| 2000/2000 [00:21<00:00, 93.18it/s] \n",
      " 50%|████▉     | 248/500 [1:35:46<1:36:17, 22.93s/it]"
     ]
    },
    {
     "name": "stdout",
     "output_type": "stream",
     "text": [
      "--------------------\n",
      " nEvents = 2000\n",
      " nPMTs   = 30912\n",
      " nODPMTs = 0\n",
      "--------------------\n",
      "@@@ Start analysing data\n"
     ]
    },
    {
     "name": "stderr",
     "output_type": "stream",
     "text": [
      "100%|██████████| 2000/2000 [00:20<00:00, 95.41it/s] \n",
      " 50%|████▉     | 249/500 [1:36:08<1:35:53, 22.92s/it]"
     ]
    },
    {
     "name": "stdout",
     "output_type": "stream",
     "text": [
      "--------------------\n",
      " nEvents = 2000\n",
      " nPMTs   = 30912\n",
      " nODPMTs = 0\n",
      "--------------------\n",
      "@@@ Start analysing data\n"
     ]
    },
    {
     "name": "stderr",
     "output_type": "stream",
     "text": [
      "100%|██████████| 2000/2000 [00:20<00:00, 96.05it/s] \n",
      " 50%|█████     | 250/500 [1:36:31<1:35:21, 22.89s/it]"
     ]
    },
    {
     "name": "stdout",
     "output_type": "stream",
     "text": [
      "--------------------\n",
      " nEvents = 2000\n",
      " nPMTs   = 30912\n",
      " nODPMTs = 0\n",
      "--------------------\n",
      "@@@ Start analysing data\n"
     ]
    },
    {
     "name": "stderr",
     "output_type": "stream",
     "text": [
      "100%|██████████| 2000/2000 [00:21<00:00, 94.17it/s] \n",
      " 50%|█████     | 251/500 [1:36:55<1:35:24, 22.99s/it]"
     ]
    },
    {
     "name": "stdout",
     "output_type": "stream",
     "text": [
      "--------------------\n",
      " nEvents = 2000\n",
      " nPMTs   = 30912\n",
      " nODPMTs = 0\n",
      "--------------------\n",
      "@@@ Start analysing data\n"
     ]
    },
    {
     "name": "stderr",
     "output_type": "stream",
     "text": [
      "100%|██████████| 2000/2000 [00:23<00:00, 85.06it/s]\n",
      " 50%|█████     | 252/500 [1:37:20<1:38:31, 23.83s/it]"
     ]
    },
    {
     "name": "stdout",
     "output_type": "stream",
     "text": [
      "--------------------\n",
      " nEvents = 2000\n",
      " nPMTs   = 30912\n",
      " nODPMTs = 0\n",
      "--------------------\n",
      "@@@ Start analysing data\n"
     ]
    },
    {
     "name": "stderr",
     "output_type": "stream",
     "text": [
      "100%|██████████| 2000/2000 [00:22<00:00, 88.80it/s] \n",
      " 51%|█████     | 253/500 [1:37:45<1:39:19, 24.13s/it]"
     ]
    },
    {
     "name": "stdout",
     "output_type": "stream",
     "text": [
      "--------------------\n",
      " nEvents = 2000\n",
      " nPMTs   = 30912\n",
      " nODPMTs = 0\n",
      "--------------------\n",
      "@@@ Start analysing data\n"
     ]
    },
    {
     "name": "stderr",
     "output_type": "stream",
     "text": [
      "100%|██████████| 2000/2000 [00:21<00:00, 95.16it/s] \n",
      " 51%|█████     | 254/500 [1:38:08<1:37:30, 23.78s/it]"
     ]
    },
    {
     "name": "stdout",
     "output_type": "stream",
     "text": [
      "--------------------\n",
      " nEvents = 2000\n",
      " nPMTs   = 30912\n",
      " nODPMTs = 0\n",
      "--------------------\n",
      "@@@ Start analysing data\n"
     ]
    },
    {
     "name": "stderr",
     "output_type": "stream",
     "text": [
      "100%|██████████| 2000/2000 [00:21<00:00, 94.94it/s] \n",
      " 51%|█████     | 255/500 [1:38:31<1:36:12, 23.56s/it]"
     ]
    },
    {
     "name": "stdout",
     "output_type": "stream",
     "text": [
      "--------------------\n",
      " nEvents = 2000\n",
      " nPMTs   = 30912\n",
      " nODPMTs = 0\n",
      "--------------------\n",
      "@@@ Start analysing data\n"
     ]
    },
    {
     "name": "stderr",
     "output_type": "stream",
     "text": [
      "100%|██████████| 2000/2000 [00:21<00:00, 94.48it/s] \n",
      " 51%|█████     | 256/500 [1:38:54<1:35:15, 23.42s/it]"
     ]
    },
    {
     "name": "stdout",
     "output_type": "stream",
     "text": [
      "--------------------\n",
      " nEvents = 2000\n",
      " nPMTs   = 30912\n",
      " nODPMTs = 0\n",
      "--------------------\n",
      "@@@ Start analysing data\n"
     ]
    },
    {
     "name": "stderr",
     "output_type": "stream",
     "text": [
      "100%|██████████| 2000/2000 [00:21<00:00, 93.41it/s] \n",
      " 51%|█████▏    | 257/500 [1:39:18<1:34:45, 23.40s/it]"
     ]
    },
    {
     "name": "stdout",
     "output_type": "stream",
     "text": [
      "--------------------\n",
      " nEvents = 2000\n",
      " nPMTs   = 30912\n",
      " nODPMTs = 0\n",
      "--------------------\n",
      "@@@ Start analysing data\n"
     ]
    },
    {
     "name": "stderr",
     "output_type": "stream",
     "text": [
      "100%|██████████| 2000/2000 [00:20<00:00, 95.67it/s] \n",
      " 52%|█████▏    | 258/500 [1:39:41<1:33:46, 23.25s/it]"
     ]
    },
    {
     "name": "stdout",
     "output_type": "stream",
     "text": [
      "--------------------\n",
      " nEvents = 2000\n",
      " nPMTs   = 30912\n",
      " nODPMTs = 0\n",
      "--------------------\n",
      "@@@ Start analysing data\n"
     ]
    },
    {
     "name": "stderr",
     "output_type": "stream",
     "text": [
      "100%|██████████| 2000/2000 [00:20<00:00, 96.75it/s] \n",
      " 52%|█████▏    | 259/500 [1:40:03<1:32:39, 23.07s/it]"
     ]
    },
    {
     "name": "stdout",
     "output_type": "stream",
     "text": [
      "--------------------\n",
      " nEvents = 2000\n",
      " nPMTs   = 30912\n",
      " nODPMTs = 0\n",
      "--------------------\n",
      "@@@ Start analysing data\n"
     ]
    },
    {
     "name": "stderr",
     "output_type": "stream",
     "text": [
      "100%|██████████| 2000/2000 [00:20<00:00, 95.49it/s] \n",
      " 52%|█████▏    | 260/500 [1:40:26<1:32:04, 23.02s/it]"
     ]
    },
    {
     "name": "stdout",
     "output_type": "stream",
     "text": [
      "--------------------\n",
      " nEvents = 2000\n",
      " nPMTs   = 30912\n",
      " nODPMTs = 0\n",
      "--------------------\n",
      "@@@ Start analysing data\n"
     ]
    },
    {
     "name": "stderr",
     "output_type": "stream",
     "text": [
      "100%|██████████| 2000/2000 [00:20<00:00, 95.92it/s] \n",
      " 52%|█████▏    | 261/500 [1:40:49<1:31:27, 22.96s/it]"
     ]
    },
    {
     "name": "stdout",
     "output_type": "stream",
     "text": [
      "--------------------\n",
      " nEvents = 2000\n",
      " nPMTs   = 30912\n",
      " nODPMTs = 0\n",
      "--------------------\n",
      "@@@ Start analysing data\n"
     ]
    },
    {
     "name": "stderr",
     "output_type": "stream",
     "text": [
      "100%|██████████| 2000/2000 [00:21<00:00, 93.82it/s] \n",
      " 52%|█████▏    | 262/500 [1:41:12<1:31:29, 23.06s/it]"
     ]
    },
    {
     "name": "stdout",
     "output_type": "stream",
     "text": [
      "--------------------\n",
      " nEvents = 2000\n",
      " nPMTs   = 30912\n",
      " nODPMTs = 0\n",
      "--------------------\n",
      "@@@ Start analysing data\n"
     ]
    },
    {
     "name": "stderr",
     "output_type": "stream",
     "text": [
      "100%|██████████| 2000/2000 [00:21<00:00, 94.64it/s] \n",
      " 53%|█████▎    | 263/500 [1:41:35<1:31:07, 23.07s/it]"
     ]
    },
    {
     "name": "stdout",
     "output_type": "stream",
     "text": [
      "--------------------\n",
      " nEvents = 2000\n",
      " nPMTs   = 30912\n",
      " nODPMTs = 0\n",
      "--------------------\n",
      "@@@ Start analysing data\n"
     ]
    },
    {
     "name": "stderr",
     "output_type": "stream",
     "text": [
      "100%|██████████| 2000/2000 [00:21<00:00, 95.05it/s] \n",
      " 53%|█████▎    | 264/500 [1:41:58<1:30:40, 23.05s/it]"
     ]
    },
    {
     "name": "stdout",
     "output_type": "stream",
     "text": [
      "--------------------\n",
      " nEvents = 2000\n",
      " nPMTs   = 30912\n",
      " nODPMTs = 0\n",
      "--------------------\n",
      "@@@ Start analysing data\n"
     ]
    },
    {
     "name": "stderr",
     "output_type": "stream",
     "text": [
      "100%|██████████| 2000/2000 [00:21<00:00, 95.14it/s] \n",
      " 53%|█████▎    | 265/500 [1:42:21<1:30:12, 23.03s/it]"
     ]
    },
    {
     "name": "stdout",
     "output_type": "stream",
     "text": [
      "--------------------\n",
      " nEvents = 2000\n",
      " nPMTs   = 30912\n",
      " nODPMTs = 0\n",
      "--------------------\n",
      "@@@ Start analysing data\n"
     ]
    },
    {
     "name": "stderr",
     "output_type": "stream",
     "text": [
      "100%|██████████| 2000/2000 [00:21<00:00, 94.56it/s] \n",
      " 53%|█████▎    | 266/500 [1:42:44<1:29:55, 23.06s/it]"
     ]
    },
    {
     "name": "stdout",
     "output_type": "stream",
     "text": [
      "--------------------\n",
      " nEvents = 2000\n",
      " nPMTs   = 30912\n",
      " nODPMTs = 0\n",
      "--------------------\n",
      "@@@ Start analysing data\n"
     ]
    },
    {
     "name": "stderr",
     "output_type": "stream",
     "text": [
      "100%|██████████| 2000/2000 [00:21<00:00, 94.78it/s] \n",
      " 53%|█████▎    | 267/500 [1:43:07<1:29:31, 23.05s/it]"
     ]
    },
    {
     "name": "stdout",
     "output_type": "stream",
     "text": [
      "--------------------\n",
      " nEvents = 2000\n",
      " nPMTs   = 30912\n",
      " nODPMTs = 0\n",
      "--------------------\n",
      "@@@ Start analysing data\n"
     ]
    },
    {
     "name": "stderr",
     "output_type": "stream",
     "text": [
      "100%|██████████| 2000/2000 [00:21<00:00, 94.92it/s] \n",
      " 54%|█████▎    | 268/500 [1:43:30<1:29:04, 23.03s/it]"
     ]
    },
    {
     "name": "stdout",
     "output_type": "stream",
     "text": [
      "--------------------\n",
      " nEvents = 2000\n",
      " nPMTs   = 30912\n",
      " nODPMTs = 0\n",
      "--------------------\n",
      "@@@ Start analysing data\n"
     ]
    },
    {
     "name": "stderr",
     "output_type": "stream",
     "text": [
      "100%|██████████| 2000/2000 [00:21<00:00, 94.05it/s] \n",
      " 54%|█████▍    | 269/500 [1:43:54<1:28:51, 23.08s/it]"
     ]
    },
    {
     "name": "stdout",
     "output_type": "stream",
     "text": [
      "--------------------\n",
      " nEvents = 2000\n",
      " nPMTs   = 30912\n",
      " nODPMTs = 0\n",
      "--------------------\n",
      "@@@ Start analysing data\n"
     ]
    },
    {
     "name": "stderr",
     "output_type": "stream",
     "text": [
      "100%|██████████| 2000/2000 [00:21<00:00, 94.87it/s] \n",
      " 54%|█████▍    | 270/500 [1:44:17<1:28:28, 23.08s/it]"
     ]
    },
    {
     "name": "stdout",
     "output_type": "stream",
     "text": [
      "--------------------\n",
      " nEvents = 2000\n",
      " nPMTs   = 30912\n",
      " nODPMTs = 0\n",
      "--------------------\n",
      "@@@ Start analysing data\n"
     ]
    },
    {
     "name": "stderr",
     "output_type": "stream",
     "text": [
      "100%|██████████| 2000/2000 [00:21<00:00, 94.18it/s] \n",
      " 54%|█████▍    | 271/500 [1:44:40<1:28:18, 23.14s/it]"
     ]
    },
    {
     "name": "stdout",
     "output_type": "stream",
     "text": [
      "--------------------\n",
      " nEvents = 2000\n",
      " nPMTs   = 30912\n",
      " nODPMTs = 0\n",
      "--------------------\n",
      "@@@ Start analysing data\n"
     ]
    },
    {
     "name": "stderr",
     "output_type": "stream",
     "text": [
      "100%|██████████| 2000/2000 [00:21<00:00, 93.09it/s] \n",
      " 54%|█████▍    | 272/500 [1:45:03<1:28:20, 23.25s/it]"
     ]
    },
    {
     "name": "stdout",
     "output_type": "stream",
     "text": [
      "--------------------\n",
      " nEvents = 2000\n",
      " nPMTs   = 30912\n",
      " nODPMTs = 0\n",
      "--------------------\n",
      "@@@ Start analysing data\n"
     ]
    },
    {
     "name": "stderr",
     "output_type": "stream",
     "text": [
      "100%|██████████| 2000/2000 [00:21<00:00, 92.56it/s] \n",
      " 55%|█████▍    | 273/500 [1:45:27<1:28:19, 23.34s/it]"
     ]
    },
    {
     "name": "stdout",
     "output_type": "stream",
     "text": [
      "--------------------\n",
      " nEvents = 2000\n",
      " nPMTs   = 30912\n",
      " nODPMTs = 0\n",
      "--------------------\n",
      "@@@ Start analysing data\n"
     ]
    },
    {
     "name": "stderr",
     "output_type": "stream",
     "text": [
      "100%|██████████| 2000/2000 [00:20<00:00, 96.40it/s] \n",
      " 55%|█████▍    | 274/500 [1:45:50<1:27:14, 23.16s/it]"
     ]
    },
    {
     "name": "stdout",
     "output_type": "stream",
     "text": [
      "--------------------\n",
      " nEvents = 2000\n",
      " nPMTs   = 30912\n",
      " nODPMTs = 0\n",
      "--------------------\n",
      "@@@ Start analysing data\n"
     ]
    },
    {
     "name": "stderr",
     "output_type": "stream",
     "text": [
      "100%|██████████| 2000/2000 [00:21<00:00, 93.82it/s] \n",
      " 55%|█████▌    | 275/500 [1:46:13<1:26:57, 23.19s/it]"
     ]
    },
    {
     "name": "stdout",
     "output_type": "stream",
     "text": [
      "--------------------\n",
      " nEvents = 2000\n",
      " nPMTs   = 30912\n",
      " nODPMTs = 0\n",
      "--------------------\n",
      "@@@ Start analysing data\n"
     ]
    },
    {
     "name": "stderr",
     "output_type": "stream",
     "text": [
      "100%|██████████| 2000/2000 [00:21<00:00, 93.78it/s] \n",
      " 55%|█████▌    | 276/500 [1:46:36<1:26:39, 23.21s/it]"
     ]
    },
    {
     "name": "stdout",
     "output_type": "stream",
     "text": [
      "--------------------\n",
      " nEvents = 2000\n",
      " nPMTs   = 30912\n",
      " nODPMTs = 0\n",
      "--------------------\n",
      "@@@ Start analysing data\n"
     ]
    },
    {
     "name": "stderr",
     "output_type": "stream",
     "text": [
      "100%|██████████| 2000/2000 [00:21<00:00, 94.96it/s] \n",
      " 55%|█████▌    | 277/500 [1:46:59<1:25:59, 23.14s/it]"
     ]
    },
    {
     "name": "stdout",
     "output_type": "stream",
     "text": [
      "--------------------\n",
      " nEvents = 2000\n",
      " nPMTs   = 30912\n",
      " nODPMTs = 0\n",
      "--------------------\n",
      "@@@ Start analysing data\n"
     ]
    },
    {
     "name": "stderr",
     "output_type": "stream",
     "text": [
      "100%|██████████| 2000/2000 [00:21<00:00, 95.09it/s] \n",
      " 56%|█████▌    | 278/500 [1:47:22<1:25:20, 23.07s/it]"
     ]
    },
    {
     "name": "stdout",
     "output_type": "stream",
     "text": [
      "--------------------\n",
      " nEvents = 2000\n",
      " nPMTs   = 30912\n",
      " nODPMTs = 0\n",
      "--------------------\n",
      "@@@ Start analysing data\n"
     ]
    },
    {
     "name": "stderr",
     "output_type": "stream",
     "text": [
      "100%|██████████| 2000/2000 [00:20<00:00, 96.44it/s] \n",
      " 56%|█████▌    | 279/500 [1:47:45<1:24:31, 22.95s/it]"
     ]
    },
    {
     "name": "stdout",
     "output_type": "stream",
     "text": [
      "--------------------\n",
      " nEvents = 2000\n",
      " nPMTs   = 30912\n",
      " nODPMTs = 0\n",
      "--------------------\n",
      "@@@ Start analysing data\n"
     ]
    },
    {
     "name": "stderr",
     "output_type": "stream",
     "text": [
      "100%|██████████| 2000/2000 [00:20<00:00, 95.36it/s] \n",
      " 56%|█████▌    | 280/500 [1:48:08<1:24:04, 22.93s/it]"
     ]
    },
    {
     "name": "stdout",
     "output_type": "stream",
     "text": [
      "--------------------\n",
      " nEvents = 2000\n",
      " nPMTs   = 30912\n",
      " nODPMTs = 0\n",
      "--------------------\n",
      "@@@ Start analysing data\n"
     ]
    },
    {
     "name": "stderr",
     "output_type": "stream",
     "text": [
      "100%|██████████| 2000/2000 [00:21<00:00, 95.14it/s] \n",
      " 56%|█████▌    | 281/500 [1:48:31<1:23:44, 22.94s/it]"
     ]
    },
    {
     "name": "stdout",
     "output_type": "stream",
     "text": [
      "--------------------\n",
      " nEvents = 2000\n",
      " nPMTs   = 30912\n",
      " nODPMTs = 0\n",
      "--------------------\n",
      "@@@ Start analysing data\n"
     ]
    },
    {
     "name": "stderr",
     "output_type": "stream",
     "text": [
      "100%|██████████| 2000/2000 [00:21<00:00, 92.94it/s] \n",
      " 56%|█████▋    | 282/500 [1:48:54<1:23:57, 23.11s/it]"
     ]
    },
    {
     "name": "stdout",
     "output_type": "stream",
     "text": [
      "--------------------\n",
      " nEvents = 2000\n",
      " nPMTs   = 30912\n",
      " nODPMTs = 0\n",
      "--------------------\n",
      "@@@ Start analysing data\n"
     ]
    },
    {
     "name": "stderr",
     "output_type": "stream",
     "text": [
      "100%|██████████| 2000/2000 [00:21<00:00, 94.85it/s] \n",
      " 57%|█████▋    | 283/500 [1:49:17<1:23:30, 23.09s/it]"
     ]
    },
    {
     "name": "stdout",
     "output_type": "stream",
     "text": [
      "--------------------\n",
      " nEvents = 2000\n",
      " nPMTs   = 30912\n",
      " nODPMTs = 0\n",
      "--------------------\n",
      "@@@ Start analysing data\n"
     ]
    },
    {
     "name": "stderr",
     "output_type": "stream",
     "text": [
      "100%|██████████| 2000/2000 [00:21<00:00, 95.12it/s] \n",
      " 57%|█████▋    | 284/500 [1:49:40<1:22:59, 23.05s/it]"
     ]
    },
    {
     "name": "stdout",
     "output_type": "stream",
     "text": [
      "--------------------\n",
      " nEvents = 2000\n",
      " nPMTs   = 30912\n",
      " nODPMTs = 0\n",
      "--------------------\n",
      "@@@ Start analysing data\n"
     ]
    },
    {
     "name": "stderr",
     "output_type": "stream",
     "text": [
      "100%|██████████| 2000/2000 [00:21<00:00, 93.31it/s] \n",
      " 57%|█████▋    | 285/500 [1:50:04<1:22:56, 23.15s/it]"
     ]
    },
    {
     "name": "stdout",
     "output_type": "stream",
     "text": [
      "--------------------\n",
      " nEvents = 2000\n",
      " nPMTs   = 30912\n",
      " nODPMTs = 0\n",
      "--------------------\n",
      "@@@ Start analysing data\n"
     ]
    },
    {
     "name": "stderr",
     "output_type": "stream",
     "text": [
      "100%|██████████| 2000/2000 [00:21<00:00, 94.84it/s] \n",
      " 57%|█████▋    | 286/500 [1:50:27<1:22:24, 23.10s/it]"
     ]
    },
    {
     "name": "stdout",
     "output_type": "stream",
     "text": [
      "--------------------\n",
      " nEvents = 2000\n",
      " nPMTs   = 30912\n",
      " nODPMTs = 0\n",
      "--------------------\n",
      "@@@ Start analysing data\n"
     ]
    },
    {
     "name": "stderr",
     "output_type": "stream",
     "text": [
      "100%|██████████| 2000/2000 [00:21<00:00, 95.04it/s] \n",
      " 57%|█████▋    | 287/500 [1:50:50<1:21:52, 23.06s/it]"
     ]
    },
    {
     "name": "stdout",
     "output_type": "stream",
     "text": [
      "--------------------\n",
      " nEvents = 2000\n",
      " nPMTs   = 30912\n",
      " nODPMTs = 0\n",
      "--------------------\n",
      "@@@ Start analysing data\n"
     ]
    },
    {
     "name": "stderr",
     "output_type": "stream",
     "text": [
      "100%|██████████| 2000/2000 [00:21<00:00, 94.84it/s] \n",
      " 58%|█████▊    | 288/500 [1:51:12<1:21:17, 23.01s/it]"
     ]
    },
    {
     "name": "stdout",
     "output_type": "stream",
     "text": [
      "--------------------\n",
      " nEvents = 2000\n",
      " nPMTs   = 30912\n",
      " nODPMTs = 0\n",
      "--------------------\n",
      "@@@ Start analysing data\n"
     ]
    },
    {
     "name": "stderr",
     "output_type": "stream",
     "text": [
      "100%|██████████| 2000/2000 [00:21<00:00, 94.71it/s] \n",
      " 58%|█████▊    | 289/500 [1:51:36<1:21:12, 23.09s/it]"
     ]
    },
    {
     "name": "stdout",
     "output_type": "stream",
     "text": [
      "--------------------\n",
      " nEvents = 2000\n",
      " nPMTs   = 30912\n",
      " nODPMTs = 0\n",
      "--------------------\n",
      "@@@ Start analysing data\n"
     ]
    },
    {
     "name": "stderr",
     "output_type": "stream",
     "text": [
      "100%|██████████| 2000/2000 [00:20<00:00, 96.47it/s] \n",
      " 58%|█████▊    | 290/500 [1:51:58<1:20:22, 22.96s/it]"
     ]
    },
    {
     "name": "stdout",
     "output_type": "stream",
     "text": [
      "--------------------\n",
      " nEvents = 2000\n",
      " nPMTs   = 30912\n",
      " nODPMTs = 0\n",
      "--------------------\n",
      "@@@ Start analysing data\n"
     ]
    },
    {
     "name": "stderr",
     "output_type": "stream",
     "text": [
      "100%|██████████| 2000/2000 [00:20<00:00, 95.45it/s] \n",
      " 58%|█████▊    | 291/500 [1:52:21<1:19:58, 22.96s/it]"
     ]
    },
    {
     "name": "stdout",
     "output_type": "stream",
     "text": [
      "--------------------\n",
      " nEvents = 2000\n",
      " nPMTs   = 30912\n",
      " nODPMTs = 0\n",
      "--------------------\n",
      "@@@ Start analysing data\n"
     ]
    },
    {
     "name": "stderr",
     "output_type": "stream",
     "text": [
      "100%|██████████| 2000/2000 [00:21<00:00, 93.13it/s] \n",
      " 58%|█████▊    | 292/500 [1:52:45<1:20:06, 23.11s/it]"
     ]
    },
    {
     "name": "stdout",
     "output_type": "stream",
     "text": [
      "--------------------\n",
      " nEvents = 2000\n",
      " nPMTs   = 30912\n",
      " nODPMTs = 0\n",
      "--------------------\n",
      "@@@ Start analysing data\n"
     ]
    },
    {
     "name": "stderr",
     "output_type": "stream",
     "text": [
      "100%|██████████| 2000/2000 [00:21<00:00, 95.21it/s] \n",
      " 59%|█████▊    | 293/500 [1:53:08<1:19:27, 23.03s/it]"
     ]
    },
    {
     "name": "stdout",
     "output_type": "stream",
     "text": [
      "--------------------\n",
      " nEvents = 2000\n",
      " nPMTs   = 30912\n",
      " nODPMTs = 0\n",
      "--------------------\n",
      "@@@ Start analysing data\n"
     ]
    },
    {
     "name": "stderr",
     "output_type": "stream",
     "text": [
      "100%|██████████| 2000/2000 [00:21<00:00, 94.63it/s] \n",
      " 59%|█████▉    | 294/500 [1:53:31<1:19:07, 23.05s/it]"
     ]
    },
    {
     "name": "stdout",
     "output_type": "stream",
     "text": [
      "--------------------\n",
      " nEvents = 2000\n",
      " nPMTs   = 30912\n",
      " nODPMTs = 0\n",
      "--------------------\n",
      "@@@ Start analysing data\n"
     ]
    },
    {
     "name": "stderr",
     "output_type": "stream",
     "text": [
      "100%|██████████| 2000/2000 [00:21<00:00, 93.62it/s] \n",
      " 59%|█████▉    | 295/500 [1:53:54<1:19:02, 23.13s/it]"
     ]
    },
    {
     "name": "stdout",
     "output_type": "stream",
     "text": [
      "--------------------\n",
      " nEvents = 2000\n",
      " nPMTs   = 30912\n",
      " nODPMTs = 0\n",
      "--------------------\n",
      "@@@ Start analysing data\n"
     ]
    },
    {
     "name": "stderr",
     "output_type": "stream",
     "text": [
      "100%|██████████| 2000/2000 [00:21<00:00, 94.16it/s] \n",
      " 59%|█████▉    | 296/500 [1:54:17<1:18:43, 23.16s/it]"
     ]
    },
    {
     "name": "stdout",
     "output_type": "stream",
     "text": [
      "--------------------\n",
      " nEvents = 2000\n",
      " nPMTs   = 30912\n",
      " nODPMTs = 0\n",
      "--------------------\n",
      "@@@ Start analysing data\n"
     ]
    },
    {
     "name": "stderr",
     "output_type": "stream",
     "text": [
      "100%|██████████| 2000/2000 [00:21<00:00, 93.99it/s] \n",
      " 59%|█████▉    | 297/500 [1:54:40<1:18:25, 23.18s/it]"
     ]
    },
    {
     "name": "stdout",
     "output_type": "stream",
     "text": [
      "--------------------\n",
      " nEvents = 2000\n",
      " nPMTs   = 30912\n",
      " nODPMTs = 0\n",
      "--------------------\n",
      "@@@ Start analysing data\n"
     ]
    },
    {
     "name": "stderr",
     "output_type": "stream",
     "text": [
      "100%|██████████| 2000/2000 [00:21<00:00, 95.07it/s] \n",
      " 60%|█████▉    | 298/500 [1:55:03<1:17:49, 23.12s/it]"
     ]
    },
    {
     "name": "stdout",
     "output_type": "stream",
     "text": [
      "--------------------\n",
      " nEvents = 2000\n",
      " nPMTs   = 30912\n",
      " nODPMTs = 0\n",
      "--------------------\n",
      "@@@ Start analysing data\n"
     ]
    },
    {
     "name": "stderr",
     "output_type": "stream",
     "text": [
      "100%|██████████| 2000/2000 [00:21<00:00, 93.98it/s] \n",
      " 60%|█████▉    | 299/500 [1:55:27<1:17:36, 23.17s/it]"
     ]
    },
    {
     "name": "stdout",
     "output_type": "stream",
     "text": [
      "--------------------\n",
      " nEvents = 2000\n",
      " nPMTs   = 30912\n",
      " nODPMTs = 0\n",
      "--------------------\n",
      "@@@ Start analysing data\n"
     ]
    },
    {
     "name": "stderr",
     "output_type": "stream",
     "text": [
      "100%|██████████| 2000/2000 [00:20<00:00, 95.95it/s] \n",
      " 60%|██████    | 300/500 [1:55:50<1:16:49, 23.05s/it]"
     ]
    },
    {
     "name": "stdout",
     "output_type": "stream",
     "text": [
      "--------------------\n",
      " nEvents = 2000\n",
      " nPMTs   = 30912\n",
      " nODPMTs = 0\n",
      "--------------------\n",
      "@@@ Start analysing data\n"
     ]
    },
    {
     "name": "stderr",
     "output_type": "stream",
     "text": [
      "100%|██████████| 2000/2000 [00:21<00:00, 93.72it/s] \n",
      " 60%|██████    | 301/500 [1:56:13<1:16:45, 23.14s/it]"
     ]
    },
    {
     "name": "stdout",
     "output_type": "stream",
     "text": [
      "--------------------\n",
      " nEvents = 2000\n",
      " nPMTs   = 30912\n",
      " nODPMTs = 0\n",
      "--------------------\n",
      "@@@ Start analysing data\n"
     ]
    },
    {
     "name": "stderr",
     "output_type": "stream",
     "text": [
      "100%|██████████| 2000/2000 [00:21<00:00, 93.72it/s] \n",
      " 60%|██████    | 302/500 [1:56:36<1:16:34, 23.20s/it]"
     ]
    },
    {
     "name": "stdout",
     "output_type": "stream",
     "text": [
      "--------------------\n",
      " nEvents = 2000\n",
      " nPMTs   = 30912\n",
      " nODPMTs = 0\n",
      "--------------------\n",
      "@@@ Start analysing data\n"
     ]
    },
    {
     "name": "stderr",
     "output_type": "stream",
     "text": [
      "100%|██████████| 2000/2000 [00:20<00:00, 95.40it/s] \n",
      " 61%|██████    | 303/500 [1:56:59<1:15:53, 23.12s/it]"
     ]
    },
    {
     "name": "stdout",
     "output_type": "stream",
     "text": [
      "--------------------\n",
      " nEvents = 2000\n",
      " nPMTs   = 30912\n",
      " nODPMTs = 0\n",
      "--------------------\n",
      "@@@ Start analysing data\n"
     ]
    },
    {
     "name": "stderr",
     "output_type": "stream",
     "text": [
      "100%|██████████| 2000/2000 [00:20<00:00, 95.85it/s] \n",
      " 61%|██████    | 304/500 [1:57:22<1:15:15, 23.04s/it]"
     ]
    },
    {
     "name": "stdout",
     "output_type": "stream",
     "text": [
      "--------------------\n",
      " nEvents = 2000\n",
      " nPMTs   = 30912\n",
      " nODPMTs = 0\n",
      "--------------------\n",
      "@@@ Start analysing data\n"
     ]
    },
    {
     "name": "stderr",
     "output_type": "stream",
     "text": [
      "100%|██████████| 2000/2000 [00:21<00:00, 94.80it/s] \n",
      " 61%|██████    | 305/500 [1:57:45<1:14:47, 23.01s/it]"
     ]
    },
    {
     "name": "stdout",
     "output_type": "stream",
     "text": [
      "--------------------\n",
      " nEvents = 2000\n",
      " nPMTs   = 30912\n",
      " nODPMTs = 0\n",
      "--------------------\n",
      "@@@ Start analysing data\n"
     ]
    },
    {
     "name": "stderr",
     "output_type": "stream",
     "text": [
      "100%|██████████| 2000/2000 [00:21<00:00, 95.04it/s] \n",
      " 61%|██████    | 306/500 [1:58:08<1:14:24, 23.01s/it]"
     ]
    },
    {
     "name": "stdout",
     "output_type": "stream",
     "text": [
      "--------------------\n",
      " nEvents = 2000\n",
      " nPMTs   = 30912\n",
      " nODPMTs = 0\n",
      "--------------------\n",
      "@@@ Start analysing data\n"
     ]
    },
    {
     "name": "stderr",
     "output_type": "stream",
     "text": [
      "100%|██████████| 2000/2000 [00:21<00:00, 92.56it/s] \n",
      " 61%|██████▏   | 307/500 [1:58:31<1:14:31, 23.17s/it]"
     ]
    },
    {
     "name": "stdout",
     "output_type": "stream",
     "text": [
      "--------------------\n",
      " nEvents = 2000\n",
      " nPMTs   = 30912\n",
      " nODPMTs = 0\n",
      "--------------------\n",
      "@@@ Start analysing data\n"
     ]
    },
    {
     "name": "stderr",
     "output_type": "stream",
     "text": [
      "100%|██████████| 2000/2000 [00:21<00:00, 94.40it/s] \n",
      " 62%|██████▏   | 308/500 [1:58:55<1:14:06, 23.16s/it]"
     ]
    },
    {
     "name": "stdout",
     "output_type": "stream",
     "text": [
      "--------------------\n",
      " nEvents = 2000\n",
      " nPMTs   = 30912\n",
      " nODPMTs = 0\n",
      "--------------------\n",
      "@@@ Start analysing data\n"
     ]
    },
    {
     "name": "stderr",
     "output_type": "stream",
     "text": [
      "100%|██████████| 2000/2000 [00:21<00:00, 94.87it/s] \n",
      " 62%|██████▏   | 309/500 [1:59:18<1:13:35, 23.12s/it]"
     ]
    },
    {
     "name": "stdout",
     "output_type": "stream",
     "text": [
      "--------------------\n",
      " nEvents = 2000\n",
      " nPMTs   = 30912\n",
      " nODPMTs = 0\n",
      "--------------------\n",
      "@@@ Start analysing data\n"
     ]
    },
    {
     "name": "stderr",
     "output_type": "stream",
     "text": [
      "100%|██████████| 2000/2000 [00:21<00:00, 95.20it/s] \n",
      " 62%|██████▏   | 310/500 [1:59:41<1:13:06, 23.09s/it]"
     ]
    },
    {
     "name": "stdout",
     "output_type": "stream",
     "text": [
      "--------------------\n",
      " nEvents = 2000\n",
      " nPMTs   = 30912\n",
      " nODPMTs = 0\n",
      "--------------------\n",
      "@@@ Start analysing data\n"
     ]
    },
    {
     "name": "stderr",
     "output_type": "stream",
     "text": [
      "100%|██████████| 2000/2000 [00:21<00:00, 94.11it/s] \n",
      " 62%|██████▏   | 311/500 [2:00:04<1:12:49, 23.12s/it]"
     ]
    },
    {
     "name": "stdout",
     "output_type": "stream",
     "text": [
      "--------------------\n",
      " nEvents = 2000\n",
      " nPMTs   = 30912\n",
      " nODPMTs = 0\n",
      "--------------------\n",
      "@@@ Start analysing data\n"
     ]
    },
    {
     "name": "stderr",
     "output_type": "stream",
     "text": [
      "100%|██████████| 2000/2000 [00:21<00:00, 94.15it/s] \n",
      " 62%|██████▏   | 312/500 [2:00:27<1:12:29, 23.14s/it]"
     ]
    },
    {
     "name": "stdout",
     "output_type": "stream",
     "text": [
      "--------------------\n",
      " nEvents = 2000\n",
      " nPMTs   = 30912\n",
      " nODPMTs = 0\n",
      "--------------------\n",
      "@@@ Start analysing data\n"
     ]
    },
    {
     "name": "stderr",
     "output_type": "stream",
     "text": [
      "100%|██████████| 2000/2000 [00:21<00:00, 92.63it/s] \n",
      " 63%|██████▎   | 313/500 [2:00:51<1:12:30, 23.26s/it]"
     ]
    },
    {
     "name": "stdout",
     "output_type": "stream",
     "text": [
      "--------------------\n",
      " nEvents = 2000\n",
      " nPMTs   = 30912\n",
      " nODPMTs = 0\n",
      "--------------------\n",
      "@@@ Start analysing data\n"
     ]
    },
    {
     "name": "stderr",
     "output_type": "stream",
     "text": [
      "100%|██████████| 2000/2000 [00:21<00:00, 93.74it/s] \n",
      " 63%|██████▎   | 314/500 [2:01:14<1:12:11, 23.29s/it]"
     ]
    },
    {
     "name": "stdout",
     "output_type": "stream",
     "text": [
      "--------------------\n",
      " nEvents = 2000\n",
      " nPMTs   = 30912\n",
      " nODPMTs = 0\n",
      "--------------------\n",
      "@@@ Start analysing data\n"
     ]
    },
    {
     "name": "stderr",
     "output_type": "stream",
     "text": [
      "100%|██████████| 2000/2000 [00:21<00:00, 95.23it/s] \n",
      " 63%|██████▎   | 315/500 [2:01:37<1:11:28, 23.18s/it]"
     ]
    },
    {
     "name": "stdout",
     "output_type": "stream",
     "text": [
      "--------------------\n",
      " nEvents = 2000\n",
      " nPMTs   = 30912\n",
      " nODPMTs = 0\n",
      "--------------------\n",
      "@@@ Start analysing data\n"
     ]
    },
    {
     "name": "stderr",
     "output_type": "stream",
     "text": [
      "100%|██████████| 2000/2000 [00:20<00:00, 95.82it/s] \n",
      " 63%|██████▎   | 316/500 [2:02:00<1:10:43, 23.06s/it]"
     ]
    },
    {
     "name": "stdout",
     "output_type": "stream",
     "text": [
      "--------------------\n",
      " nEvents = 2000\n",
      " nPMTs   = 30912\n",
      " nODPMTs = 0\n",
      "--------------------\n",
      "@@@ Start analysing data\n"
     ]
    },
    {
     "name": "stderr",
     "output_type": "stream",
     "text": [
      "100%|██████████| 2000/2000 [00:20<00:00, 97.23it/s] \n",
      " 63%|██████▎   | 317/500 [2:02:22<1:09:44, 22.87s/it]"
     ]
    },
    {
     "name": "stdout",
     "output_type": "stream",
     "text": [
      "--------------------\n",
      " nEvents = 2000\n",
      " nPMTs   = 30912\n",
      " nODPMTs = 0\n",
      "--------------------\n",
      "@@@ Start analysing data\n"
     ]
    },
    {
     "name": "stderr",
     "output_type": "stream",
     "text": [
      "100%|██████████| 2000/2000 [00:21<00:00, 94.88it/s] \n",
      " 64%|██████▎   | 318/500 [2:02:45<1:09:31, 22.92s/it]"
     ]
    },
    {
     "name": "stdout",
     "output_type": "stream",
     "text": [
      "--------------------\n",
      " nEvents = 2000\n",
      " nPMTs   = 30912\n",
      " nODPMTs = 0\n",
      "--------------------\n",
      "@@@ Start analysing data\n"
     ]
    },
    {
     "name": "stderr",
     "output_type": "stream",
     "text": [
      "100%|██████████| 2000/2000 [00:20<00:00, 96.06it/s] \n",
      " 64%|██████▍   | 319/500 [2:03:08<1:08:59, 22.87s/it]"
     ]
    },
    {
     "name": "stdout",
     "output_type": "stream",
     "text": [
      "--------------------\n",
      " nEvents = 2000\n",
      " nPMTs   = 30912\n",
      " nODPMTs = 0\n",
      "--------------------\n",
      "@@@ Start analysing data\n"
     ]
    },
    {
     "name": "stderr",
     "output_type": "stream",
     "text": [
      "100%|██████████| 2000/2000 [00:20<00:00, 95.69it/s] \n",
      " 64%|██████▍   | 320/500 [2:03:31<1:08:35, 22.86s/it]"
     ]
    },
    {
     "name": "stdout",
     "output_type": "stream",
     "text": [
      "--------------------\n",
      " nEvents = 2000\n",
      " nPMTs   = 30912\n",
      " nODPMTs = 0\n",
      "--------------------\n",
      "@@@ Start analysing data\n"
     ]
    },
    {
     "name": "stderr",
     "output_type": "stream",
     "text": [
      "100%|██████████| 2000/2000 [00:21<00:00, 94.76it/s] \n",
      " 64%|██████▍   | 321/500 [2:03:54<1:08:25, 22.93s/it]"
     ]
    },
    {
     "name": "stdout",
     "output_type": "stream",
     "text": [
      "--------------------\n",
      " nEvents = 2000\n",
      " nPMTs   = 30912\n",
      " nODPMTs = 0\n",
      "--------------------\n",
      "@@@ Start analysing data\n"
     ]
    },
    {
     "name": "stderr",
     "output_type": "stream",
     "text": [
      "100%|██████████| 2000/2000 [00:20<00:00, 95.35it/s] \n",
      " 64%|██████▍   | 322/500 [2:04:17<1:08:02, 22.93s/it]"
     ]
    },
    {
     "name": "stdout",
     "output_type": "stream",
     "text": [
      "--------------------\n",
      " nEvents = 2000\n",
      " nPMTs   = 30912\n",
      " nODPMTs = 0\n",
      "--------------------\n",
      "@@@ Start analysing data\n"
     ]
    },
    {
     "name": "stderr",
     "output_type": "stream",
     "text": [
      "100%|██████████| 2000/2000 [00:21<00:00, 92.84it/s] \n",
      " 65%|██████▍   | 323/500 [2:04:40<1:08:08, 23.10s/it]"
     ]
    },
    {
     "name": "stdout",
     "output_type": "stream",
     "text": [
      "--------------------\n",
      " nEvents = 2000\n",
      " nPMTs   = 30912\n",
      " nODPMTs = 0\n",
      "--------------------\n",
      "@@@ Start analysing data\n"
     ]
    },
    {
     "name": "stderr",
     "output_type": "stream",
     "text": [
      "100%|██████████| 2000/2000 [00:21<00:00, 94.23it/s] \n",
      " 65%|██████▍   | 324/500 [2:05:03<1:07:49, 23.12s/it]"
     ]
    },
    {
     "name": "stdout",
     "output_type": "stream",
     "text": [
      "--------------------\n",
      " nEvents = 2000\n",
      " nPMTs   = 30912\n",
      " nODPMTs = 0\n",
      "--------------------\n",
      "@@@ Start analysing data\n"
     ]
    },
    {
     "name": "stderr",
     "output_type": "stream",
     "text": [
      "100%|██████████| 2000/2000 [00:21<00:00, 93.56it/s] \n",
      " 65%|██████▌   | 325/500 [2:05:27<1:07:38, 23.19s/it]"
     ]
    },
    {
     "name": "stdout",
     "output_type": "stream",
     "text": [
      "--------------------\n",
      " nEvents = 2000\n",
      " nPMTs   = 30912\n",
      " nODPMTs = 0\n",
      "--------------------\n",
      "@@@ Start analysing data\n"
     ]
    },
    {
     "name": "stderr",
     "output_type": "stream",
     "text": [
      "100%|██████████| 2000/2000 [00:21<00:00, 95.10it/s] \n",
      " 65%|██████▌   | 326/500 [2:05:50<1:06:57, 23.09s/it]"
     ]
    },
    {
     "name": "stdout",
     "output_type": "stream",
     "text": [
      "--------------------\n",
      " nEvents = 2000\n",
      " nPMTs   = 30912\n",
      " nODPMTs = 0\n",
      "--------------------\n",
      "@@@ Start analysing data\n"
     ]
    },
    {
     "name": "stderr",
     "output_type": "stream",
     "text": [
      "100%|██████████| 2000/2000 [00:21<00:00, 95.12it/s] \n",
      " 65%|██████▌   | 327/500 [2:06:13<1:06:27, 23.05s/it]"
     ]
    },
    {
     "name": "stdout",
     "output_type": "stream",
     "text": [
      "--------------------\n",
      " nEvents = 2000\n",
      " nPMTs   = 30912\n",
      " nODPMTs = 0\n",
      "--------------------\n",
      "@@@ Start analysing data\n"
     ]
    },
    {
     "name": "stderr",
     "output_type": "stream",
     "text": [
      "100%|██████████| 2000/2000 [00:20<00:00, 95.52it/s] \n",
      " 66%|██████▌   | 328/500 [2:06:35<1:05:54, 22.99s/it]"
     ]
    },
    {
     "name": "stdout",
     "output_type": "stream",
     "text": [
      "--------------------\n",
      " nEvents = 2000\n",
      " nPMTs   = 30912\n",
      " nODPMTs = 0\n",
      "--------------------\n",
      "@@@ Start analysing data\n"
     ]
    },
    {
     "name": "stderr",
     "output_type": "stream",
     "text": [
      "100%|██████████| 2000/2000 [00:21<00:00, 93.15it/s] \n",
      " 66%|██████▌   | 329/500 [2:06:59<1:05:55, 23.13s/it]"
     ]
    },
    {
     "name": "stdout",
     "output_type": "stream",
     "text": [
      "--------------------\n",
      " nEvents = 2000\n",
      " nPMTs   = 30912\n",
      " nODPMTs = 0\n",
      "--------------------\n",
      "@@@ Start analysing data\n"
     ]
    },
    {
     "name": "stderr",
     "output_type": "stream",
     "text": [
      "100%|██████████| 2000/2000 [00:20<00:00, 95.86it/s] \n",
      " 66%|██████▌   | 330/500 [2:07:22<1:05:17, 23.04s/it]"
     ]
    },
    {
     "name": "stdout",
     "output_type": "stream",
     "text": [
      "--------------------\n",
      " nEvents = 2000\n",
      " nPMTs   = 30912\n",
      " nODPMTs = 0\n",
      "--------------------\n",
      "@@@ Start analysing data\n"
     ]
    },
    {
     "name": "stderr",
     "output_type": "stream",
     "text": [
      "100%|██████████| 2000/2000 [00:21<00:00, 93.49it/s] \n",
      " 66%|██████▌   | 331/500 [2:07:45<1:05:09, 23.14s/it]"
     ]
    },
    {
     "name": "stdout",
     "output_type": "stream",
     "text": [
      "--------------------\n",
      " nEvents = 2000\n",
      " nPMTs   = 30912\n",
      " nODPMTs = 0\n",
      "--------------------\n",
      "@@@ Start analysing data\n"
     ]
    },
    {
     "name": "stderr",
     "output_type": "stream",
     "text": [
      "100%|██████████| 2000/2000 [00:21<00:00, 94.84it/s] \n",
      " 66%|██████▋   | 332/500 [2:08:08<1:04:43, 23.12s/it]"
     ]
    },
    {
     "name": "stdout",
     "output_type": "stream",
     "text": [
      "--------------------\n",
      " nEvents = 2000\n",
      " nPMTs   = 30912\n",
      " nODPMTs = 0\n",
      "--------------------\n",
      "@@@ Start analysing data\n"
     ]
    },
    {
     "name": "stderr",
     "output_type": "stream",
     "text": [
      "100%|██████████| 2000/2000 [00:21<00:00, 94.83it/s] \n",
      " 67%|██████▋   | 333/500 [2:08:31<1:04:14, 23.08s/it]"
     ]
    },
    {
     "name": "stdout",
     "output_type": "stream",
     "text": [
      "--------------------\n",
      " nEvents = 2000\n",
      " nPMTs   = 30912\n",
      " nODPMTs = 0\n",
      "--------------------\n",
      "@@@ Start analysing data\n"
     ]
    },
    {
     "name": "stderr",
     "output_type": "stream",
     "text": [
      "100%|██████████| 2000/2000 [00:21<00:00, 94.68it/s] \n",
      " 67%|██████▋   | 334/500 [2:08:54<1:03:56, 23.11s/it]"
     ]
    },
    {
     "name": "stdout",
     "output_type": "stream",
     "text": [
      "--------------------\n",
      " nEvents = 2000\n",
      " nPMTs   = 30912\n",
      " nODPMTs = 0\n",
      "--------------------\n",
      "@@@ Start analysing data\n"
     ]
    },
    {
     "name": "stderr",
     "output_type": "stream",
     "text": [
      "100%|██████████| 2000/2000 [00:21<00:00, 93.78it/s] \n",
      " 67%|██████▋   | 335/500 [2:09:18<1:03:41, 23.16s/it]"
     ]
    },
    {
     "name": "stdout",
     "output_type": "stream",
     "text": [
      "--------------------\n",
      " nEvents = 2000\n",
      " nPMTs   = 30912\n",
      " nODPMTs = 0\n",
      "--------------------\n",
      "@@@ Start analysing data\n"
     ]
    },
    {
     "name": "stderr",
     "output_type": "stream",
     "text": [
      "100%|██████████| 2000/2000 [00:20<00:00, 95.34it/s] \n",
      " 67%|██████▋   | 336/500 [2:09:41<1:03:07, 23.09s/it]"
     ]
    },
    {
     "name": "stdout",
     "output_type": "stream",
     "text": [
      "--------------------\n",
      " nEvents = 2000\n",
      " nPMTs   = 30912\n",
      " nODPMTs = 0\n",
      "--------------------\n",
      "@@@ Start analysing data\n"
     ]
    },
    {
     "name": "stderr",
     "output_type": "stream",
     "text": [
      "100%|██████████| 2000/2000 [00:21<00:00, 94.86it/s] \n",
      " 67%|██████▋   | 337/500 [2:10:04<1:02:41, 23.08s/it]"
     ]
    },
    {
     "name": "stdout",
     "output_type": "stream",
     "text": [
      "--------------------\n",
      " nEvents = 2000\n",
      " nPMTs   = 30912\n",
      " nODPMTs = 0\n",
      "--------------------\n",
      "@@@ Start analysing data\n"
     ]
    },
    {
     "name": "stderr",
     "output_type": "stream",
     "text": [
      "100%|██████████| 2000/2000 [00:21<00:00, 94.75it/s] \n",
      " 68%|██████▊   | 338/500 [2:10:27<1:02:11, 23.03s/it]"
     ]
    },
    {
     "name": "stdout",
     "output_type": "stream",
     "text": [
      "--------------------\n",
      " nEvents = 2000\n",
      " nPMTs   = 30912\n",
      " nODPMTs = 0\n",
      "--------------------\n",
      "@@@ Start analysing data\n"
     ]
    },
    {
     "name": "stderr",
     "output_type": "stream",
     "text": [
      "100%|██████████| 2000/2000 [00:21<00:00, 94.35it/s] \n",
      " 68%|██████▊   | 339/500 [2:10:50<1:01:53, 23.06s/it]"
     ]
    },
    {
     "name": "stdout",
     "output_type": "stream",
     "text": [
      "--------------------\n",
      " nEvents = 2000\n",
      " nPMTs   = 30912\n",
      " nODPMTs = 0\n",
      "--------------------\n",
      "@@@ Start analysing data\n"
     ]
    },
    {
     "name": "stderr",
     "output_type": "stream",
     "text": [
      "100%|██████████| 2000/2000 [00:21<00:00, 94.55it/s] \n",
      " 68%|██████▊   | 340/500 [2:11:13<1:01:32, 23.08s/it]"
     ]
    },
    {
     "name": "stdout",
     "output_type": "stream",
     "text": [
      "--------------------\n",
      " nEvents = 2000\n",
      " nPMTs   = 30912\n",
      " nODPMTs = 0\n",
      "--------------------\n",
      "@@@ Start analysing data\n"
     ]
    },
    {
     "name": "stderr",
     "output_type": "stream",
     "text": [
      "100%|██████████| 2000/2000 [00:21<00:00, 95.00it/s] \n",
      " 68%|██████▊   | 341/500 [2:11:36<1:01:04, 23.05s/it]"
     ]
    },
    {
     "name": "stdout",
     "output_type": "stream",
     "text": [
      "--------------------\n",
      " nEvents = 2000\n",
      " nPMTs   = 30912\n",
      " nODPMTs = 0\n",
      "--------------------\n",
      "@@@ Start analysing data\n"
     ]
    },
    {
     "name": "stderr",
     "output_type": "stream",
     "text": [
      "100%|██████████| 2000/2000 [00:20<00:00, 95.41it/s] \n",
      " 68%|██████▊   | 342/500 [2:11:59<1:00:44, 23.07s/it]"
     ]
    },
    {
     "name": "stdout",
     "output_type": "stream",
     "text": [
      "--------------------\n",
      " nEvents = 2000\n",
      " nPMTs   = 30912\n",
      " nODPMTs = 0\n",
      "--------------------\n",
      "@@@ Start analysing data\n"
     ]
    },
    {
     "name": "stderr",
     "output_type": "stream",
     "text": [
      "100%|██████████| 2000/2000 [00:21<00:00, 94.70it/s] \n",
      " 69%|██████▊   | 343/500 [2:12:22<1:00:29, 23.12s/it]"
     ]
    },
    {
     "name": "stdout",
     "output_type": "stream",
     "text": [
      "--------------------\n",
      " nEvents = 2000\n",
      " nPMTs   = 30912\n",
      " nODPMTs = 0\n",
      "--------------------\n",
      "@@@ Start analysing data\n"
     ]
    },
    {
     "name": "stderr",
     "output_type": "stream",
     "text": [
      "100%|██████████| 2000/2000 [00:21<00:00, 92.85it/s] \n",
      " 69%|██████▉   | 344/500 [2:12:46<1:00:25, 23.24s/it]"
     ]
    },
    {
     "name": "stdout",
     "output_type": "stream",
     "text": [
      "--------------------\n",
      " nEvents = 2000\n",
      " nPMTs   = 30912\n",
      " nODPMTs = 0\n",
      "--------------------\n",
      "@@@ Start analysing data\n"
     ]
    },
    {
     "name": "stderr",
     "output_type": "stream",
     "text": [
      "100%|██████████| 2000/2000 [00:21<00:00, 94.64it/s] \n",
      " 69%|██████▉   | 345/500 [2:13:09<59:53, 23.19s/it]  "
     ]
    },
    {
     "name": "stdout",
     "output_type": "stream",
     "text": [
      "--------------------\n",
      " nEvents = 2000\n",
      " nPMTs   = 30912\n",
      " nODPMTs = 0\n",
      "--------------------\n",
      "@@@ Start analysing data\n"
     ]
    },
    {
     "name": "stderr",
     "output_type": "stream",
     "text": [
      "100%|██████████| 2000/2000 [00:21<00:00, 94.20it/s] \n",
      " 69%|██████▉   | 346/500 [2:13:32<59:32, 23.20s/it]"
     ]
    },
    {
     "name": "stdout",
     "output_type": "stream",
     "text": [
      "--------------------\n",
      " nEvents = 2000\n",
      " nPMTs   = 30912\n",
      " nODPMTs = 0\n",
      "--------------------\n",
      "@@@ Start analysing data\n"
     ]
    },
    {
     "name": "stderr",
     "output_type": "stream",
     "text": [
      "100%|██████████| 2000/2000 [00:21<00:00, 93.22it/s] \n",
      " 69%|██████▉   | 347/500 [2:13:55<59:20, 23.27s/it]"
     ]
    },
    {
     "name": "stdout",
     "output_type": "stream",
     "text": [
      "--------------------\n",
      " nEvents = 2000\n",
      " nPMTs   = 30912\n",
      " nODPMTs = 0\n",
      "--------------------\n",
      "@@@ Start analysing data\n"
     ]
    },
    {
     "name": "stderr",
     "output_type": "stream",
     "text": [
      "100%|██████████| 2000/2000 [00:21<00:00, 94.81it/s] \n",
      " 70%|██████▉   | 348/500 [2:14:18<58:43, 23.18s/it]"
     ]
    },
    {
     "name": "stdout",
     "output_type": "stream",
     "text": [
      "--------------------\n",
      " nEvents = 2000\n",
      " nPMTs   = 30912\n",
      " nODPMTs = 0\n",
      "--------------------\n",
      "@@@ Start analysing data\n"
     ]
    },
    {
     "name": "stderr",
     "output_type": "stream",
     "text": [
      "100%|██████████| 2000/2000 [00:21<00:00, 94.69it/s] \n",
      " 70%|██████▉   | 349/500 [2:14:41<58:16, 23.15s/it]"
     ]
    },
    {
     "name": "stdout",
     "output_type": "stream",
     "text": [
      "--------------------\n",
      " nEvents = 2000\n",
      " nPMTs   = 30912\n",
      " nODPMTs = 0\n",
      "--------------------\n",
      "@@@ Start analysing data\n"
     ]
    },
    {
     "name": "stderr",
     "output_type": "stream",
     "text": [
      "100%|██████████| 2000/2000 [00:21<00:00, 93.02it/s] \n",
      " 70%|███████   | 350/500 [2:15:05<58:05, 23.24s/it]"
     ]
    },
    {
     "name": "stdout",
     "output_type": "stream",
     "text": [
      "--------------------\n",
      " nEvents = 2000\n",
      " nPMTs   = 30912\n",
      " nODPMTs = 0\n",
      "--------------------\n",
      "@@@ Start analysing data\n"
     ]
    },
    {
     "name": "stderr",
     "output_type": "stream",
     "text": [
      "100%|██████████| 2000/2000 [00:21<00:00, 94.36it/s] \n",
      " 70%|███████   | 351/500 [2:15:28<57:35, 23.19s/it]"
     ]
    },
    {
     "name": "stdout",
     "output_type": "stream",
     "text": [
      "--------------------\n",
      " nEvents = 2000\n",
      " nPMTs   = 30912\n",
      " nODPMTs = 0\n",
      "--------------------\n",
      "@@@ Start analysing data\n"
     ]
    },
    {
     "name": "stderr",
     "output_type": "stream",
     "text": [
      "100%|██████████| 2000/2000 [00:20<00:00, 96.83it/s] \n",
      " 70%|███████   | 352/500 [2:15:51<56:46, 23.01s/it]"
     ]
    },
    {
     "name": "stdout",
     "output_type": "stream",
     "text": [
      "--------------------\n",
      " nEvents = 2000\n",
      " nPMTs   = 30912\n",
      " nODPMTs = 0\n",
      "--------------------\n",
      "@@@ Start analysing data\n"
     ]
    },
    {
     "name": "stderr",
     "output_type": "stream",
     "text": [
      "100%|██████████| 2000/2000 [00:21<00:00, 93.06it/s] \n",
      " 71%|███████   | 353/500 [2:16:14<56:48, 23.19s/it]"
     ]
    },
    {
     "name": "stdout",
     "output_type": "stream",
     "text": [
      "--------------------\n",
      " nEvents = 2000\n",
      " nPMTs   = 30912\n",
      " nODPMTs = 0\n",
      "--------------------\n",
      "@@@ Start analysing data\n"
     ]
    },
    {
     "name": "stderr",
     "output_type": "stream",
     "text": [
      "100%|██████████| 2000/2000 [00:20<00:00, 99.23it/s] \n",
      " 71%|███████   | 354/500 [2:16:36<55:37, 22.86s/it]"
     ]
    },
    {
     "name": "stdout",
     "output_type": "stream",
     "text": [
      "--------------------\n",
      " nEvents = 2000\n",
      " nPMTs   = 30912\n",
      " nODPMTs = 0\n",
      "--------------------\n",
      "@@@ Start analysing data\n"
     ]
    },
    {
     "name": "stderr",
     "output_type": "stream",
     "text": [
      "100%|██████████| 2000/2000 [00:20<00:00, 95.74it/s] \n",
      " 71%|███████   | 355/500 [2:16:59<55:13, 22.85s/it]"
     ]
    },
    {
     "name": "stdout",
     "output_type": "stream",
     "text": [
      "--------------------\n",
      " nEvents = 2000\n",
      " nPMTs   = 30912\n",
      " nODPMTs = 0\n",
      "--------------------\n",
      "@@@ Start analysing data\n"
     ]
    },
    {
     "name": "stderr",
     "output_type": "stream",
     "text": [
      "100%|██████████| 2000/2000 [00:21<00:00, 91.47it/s] \n",
      " 71%|███████   | 356/500 [2:17:23<55:35, 23.16s/it]"
     ]
    },
    {
     "name": "stdout",
     "output_type": "stream",
     "text": [
      "--------------------\n",
      " nEvents = 2000\n",
      " nPMTs   = 30912\n",
      " nODPMTs = 0\n",
      "--------------------\n",
      "@@@ Start analysing data\n"
     ]
    },
    {
     "name": "stderr",
     "output_type": "stream",
     "text": [
      "100%|██████████| 2000/2000 [00:21<00:00, 91.78it/s] \n",
      " 71%|███████▏  | 357/500 [2:17:47<55:38, 23.34s/it]"
     ]
    },
    {
     "name": "stdout",
     "output_type": "stream",
     "text": [
      "--------------------\n",
      " nEvents = 2000\n",
      " nPMTs   = 30912\n",
      " nODPMTs = 0\n",
      "--------------------\n",
      "@@@ Start analysing data\n"
     ]
    },
    {
     "name": "stderr",
     "output_type": "stream",
     "text": [
      "100%|██████████| 2000/2000 [00:21<00:00, 92.79it/s] \n",
      " 72%|███████▏  | 358/500 [2:18:10<55:23, 23.40s/it]"
     ]
    },
    {
     "name": "stdout",
     "output_type": "stream",
     "text": [
      "--------------------\n",
      " nEvents = 2000\n",
      " nPMTs   = 30912\n",
      " nODPMTs = 0\n",
      "--------------------\n",
      "@@@ Start analysing data\n"
     ]
    },
    {
     "name": "stderr",
     "output_type": "stream",
     "text": [
      "100%|██████████| 2000/2000 [00:21<00:00, 93.25it/s] \n",
      " 72%|███████▏  | 359/500 [2:18:34<54:59, 23.40s/it]"
     ]
    },
    {
     "name": "stdout",
     "output_type": "stream",
     "text": [
      "--------------------\n",
      " nEvents = 2000\n",
      " nPMTs   = 30912\n",
      " nODPMTs = 0\n",
      "--------------------\n",
      "@@@ Start analysing data\n"
     ]
    },
    {
     "name": "stderr",
     "output_type": "stream",
     "text": [
      "100%|██████████| 2000/2000 [00:20<00:00, 96.10it/s] \n",
      " 72%|███████▏  | 360/500 [2:18:56<54:07, 23.20s/it]"
     ]
    },
    {
     "name": "stdout",
     "output_type": "stream",
     "text": [
      "--------------------\n",
      " nEvents = 2000\n",
      " nPMTs   = 30912\n",
      " nODPMTs = 0\n",
      "--------------------\n",
      "@@@ Start analysing data\n"
     ]
    },
    {
     "name": "stderr",
     "output_type": "stream",
     "text": [
      "100%|██████████| 2000/2000 [00:21<00:00, 93.90it/s] \n",
      " 72%|███████▏  | 361/500 [2:19:20<53:47, 23.22s/it]"
     ]
    },
    {
     "name": "stdout",
     "output_type": "stream",
     "text": [
      "--------------------\n",
      " nEvents = 2000\n",
      " nPMTs   = 30912\n",
      " nODPMTs = 0\n",
      "--------------------\n",
      "@@@ Start analysing data\n"
     ]
    },
    {
     "name": "stderr",
     "output_type": "stream",
     "text": [
      "100%|██████████| 2000/2000 [00:20<00:00, 95.56it/s] \n",
      " 72%|███████▏  | 362/500 [2:19:43<53:10, 23.12s/it]"
     ]
    },
    {
     "name": "stdout",
     "output_type": "stream",
     "text": [
      "--------------------\n",
      " nEvents = 2000\n",
      " nPMTs   = 30912\n",
      " nODPMTs = 0\n",
      "--------------------\n",
      "@@@ Start analysing data\n"
     ]
    },
    {
     "name": "stderr",
     "output_type": "stream",
     "text": [
      "100%|██████████| 2000/2000 [00:20<00:00, 95.71it/s] \n",
      " 73%|███████▎  | 363/500 [2:20:05<52:32, 23.01s/it]"
     ]
    },
    {
     "name": "stdout",
     "output_type": "stream",
     "text": [
      "--------------------\n",
      " nEvents = 2000\n",
      " nPMTs   = 30912\n",
      " nODPMTs = 0\n",
      "--------------------\n",
      "@@@ Start analysing data\n"
     ]
    },
    {
     "name": "stderr",
     "output_type": "stream",
     "text": [
      "100%|██████████| 2000/2000 [00:20<00:00, 95.40it/s] \n",
      " 73%|███████▎  | 364/500 [2:20:28<52:04, 22.98s/it]"
     ]
    },
    {
     "name": "stdout",
     "output_type": "stream",
     "text": [
      "--------------------\n",
      " nEvents = 2000\n",
      " nPMTs   = 30912\n",
      " nODPMTs = 0\n",
      "--------------------\n",
      "@@@ Start analysing data\n"
     ]
    },
    {
     "name": "stderr",
     "output_type": "stream",
     "text": [
      "100%|██████████| 2000/2000 [00:20<00:00, 97.24it/s] \n",
      " 73%|███████▎  | 365/500 [2:20:51<51:21, 22.83s/it]"
     ]
    },
    {
     "name": "stdout",
     "output_type": "stream",
     "text": [
      "--------------------\n",
      " nEvents = 2000\n",
      " nPMTs   = 30912\n",
      " nODPMTs = 0\n",
      "--------------------\n",
      "@@@ Start analysing data\n"
     ]
    },
    {
     "name": "stderr",
     "output_type": "stream",
     "text": [
      "100%|██████████| 2000/2000 [00:20<00:00, 95.82it/s] \n",
      " 73%|███████▎  | 366/500 [2:21:13<50:58, 22.83s/it]"
     ]
    },
    {
     "name": "stdout",
     "output_type": "stream",
     "text": [
      "--------------------\n",
      " nEvents = 2000\n",
      " nPMTs   = 30912\n",
      " nODPMTs = 0\n",
      "--------------------\n",
      "@@@ Start analysing data\n"
     ]
    },
    {
     "name": "stderr",
     "output_type": "stream",
     "text": [
      "100%|██████████| 2000/2000 [00:20<00:00, 96.18it/s] \n",
      " 73%|███████▎  | 367/500 [2:21:36<50:32, 22.80s/it]"
     ]
    },
    {
     "name": "stdout",
     "output_type": "stream",
     "text": [
      "--------------------\n",
      " nEvents = 2000\n",
      " nPMTs   = 30912\n",
      " nODPMTs = 0\n",
      "--------------------\n",
      "@@@ Start analysing data\n"
     ]
    },
    {
     "name": "stderr",
     "output_type": "stream",
     "text": [
      "100%|██████████| 2000/2000 [00:20<00:00, 99.55it/s] \n",
      " 74%|███████▎  | 368/500 [2:21:58<49:38, 22.56s/it]"
     ]
    },
    {
     "name": "stdout",
     "output_type": "stream",
     "text": [
      "--------------------\n",
      " nEvents = 2000\n",
      " nPMTs   = 30912\n",
      " nODPMTs = 0\n",
      "--------------------\n",
      "@@@ Start analysing data\n"
     ]
    },
    {
     "name": "stderr",
     "output_type": "stream",
     "text": [
      "100%|██████████| 2000/2000 [00:20<00:00, 95.50it/s] \n",
      " 74%|███████▍  | 369/500 [2:22:21<49:30, 22.67s/it]"
     ]
    },
    {
     "name": "stdout",
     "output_type": "stream",
     "text": [
      "--------------------\n",
      " nEvents = 2000\n",
      " nPMTs   = 30912\n",
      " nODPMTs = 0\n",
      "--------------------\n",
      "@@@ Start analysing data\n"
     ]
    },
    {
     "name": "stderr",
     "output_type": "stream",
     "text": [
      "100%|██████████| 2000/2000 [00:21<00:00, 94.76it/s] \n",
      " 74%|███████▍  | 370/500 [2:22:44<49:23, 22.80s/it]"
     ]
    },
    {
     "name": "stdout",
     "output_type": "stream",
     "text": [
      "--------------------\n",
      " nEvents = 2000\n",
      " nPMTs   = 30912\n",
      " nODPMTs = 0\n",
      "--------------------\n",
      "@@@ Start analysing data\n"
     ]
    },
    {
     "name": "stderr",
     "output_type": "stream",
     "text": [
      "100%|██████████| 2000/2000 [00:21<00:00, 94.85it/s] \n",
      " 74%|███████▍  | 371/500 [2:23:07<49:09, 22.87s/it]"
     ]
    },
    {
     "name": "stdout",
     "output_type": "stream",
     "text": [
      "--------------------\n",
      " nEvents = 2000\n",
      " nPMTs   = 30912\n",
      " nODPMTs = 0\n",
      "--------------------\n",
      "@@@ Start analysing data\n"
     ]
    },
    {
     "name": "stderr",
     "output_type": "stream",
     "text": [
      "100%|██████████| 2000/2000 [00:21<00:00, 94.92it/s] \n",
      " 74%|███████▍  | 372/500 [2:23:30<48:53, 22.92s/it]"
     ]
    },
    {
     "name": "stdout",
     "output_type": "stream",
     "text": [
      "--------------------\n",
      " nEvents = 2000\n",
      " nPMTs   = 30912\n",
      " nODPMTs = 0\n",
      "--------------------\n",
      "@@@ Start analysing data\n"
     ]
    },
    {
     "name": "stderr",
     "output_type": "stream",
     "text": [
      "100%|██████████| 2000/2000 [00:21<00:00, 94.91it/s] \n",
      " 75%|███████▍  | 373/500 [2:23:53<48:33, 22.94s/it]"
     ]
    },
    {
     "name": "stdout",
     "output_type": "stream",
     "text": [
      "--------------------\n",
      " nEvents = 2000\n",
      " nPMTs   = 30912\n",
      " nODPMTs = 0\n",
      "--------------------\n",
      "@@@ Start analysing data\n"
     ]
    },
    {
     "name": "stderr",
     "output_type": "stream",
     "text": [
      "100%|██████████| 2000/2000 [00:21<00:00, 92.78it/s] \n",
      " 75%|███████▍  | 374/500 [2:24:17<48:38, 23.16s/it]"
     ]
    },
    {
     "name": "stdout",
     "output_type": "stream",
     "text": [
      "--------------------\n",
      " nEvents = 2000\n",
      " nPMTs   = 30912\n",
      " nODPMTs = 0\n",
      "--------------------\n",
      "@@@ Start analysing data\n"
     ]
    },
    {
     "name": "stderr",
     "output_type": "stream",
     "text": [
      "100%|██████████| 2000/2000 [00:21<00:00, 94.39it/s] \n",
      " 75%|███████▌  | 375/500 [2:24:40<48:17, 23.18s/it]"
     ]
    },
    {
     "name": "stdout",
     "output_type": "stream",
     "text": [
      "--------------------\n",
      " nEvents = 2000\n",
      " nPMTs   = 30912\n",
      " nODPMTs = 0\n",
      "--------------------\n",
      "@@@ Start analysing data\n"
     ]
    },
    {
     "name": "stderr",
     "output_type": "stream",
     "text": [
      "100%|██████████| 2000/2000 [00:21<00:00, 94.54it/s] \n",
      " 75%|███████▌  | 376/500 [2:25:03<47:53, 23.17s/it]"
     ]
    },
    {
     "name": "stdout",
     "output_type": "stream",
     "text": [
      "--------------------\n",
      " nEvents = 2000\n",
      " nPMTs   = 30912\n",
      " nODPMTs = 0\n",
      "--------------------\n",
      "@@@ Start analysing data\n"
     ]
    },
    {
     "name": "stderr",
     "output_type": "stream",
     "text": [
      "100%|██████████| 2000/2000 [00:21<00:00, 94.72it/s] \n",
      " 75%|███████▌  | 377/500 [2:25:26<47:25, 23.14s/it]"
     ]
    },
    {
     "name": "stdout",
     "output_type": "stream",
     "text": [
      "--------------------\n",
      " nEvents = 2000\n",
      " nPMTs   = 30912\n",
      " nODPMTs = 0\n",
      "--------------------\n",
      "@@@ Start analysing data\n"
     ]
    },
    {
     "name": "stderr",
     "output_type": "stream",
     "text": [
      "100%|██████████| 2000/2000 [00:21<00:00, 94.92it/s] \n",
      " 76%|███████▌  | 378/500 [2:25:49<46:59, 23.11s/it]"
     ]
    },
    {
     "name": "stdout",
     "output_type": "stream",
     "text": [
      "--------------------\n",
      " nEvents = 2000\n",
      " nPMTs   = 30912\n",
      " nODPMTs = 0\n",
      "--------------------\n",
      "@@@ Start analysing data\n"
     ]
    },
    {
     "name": "stderr",
     "output_type": "stream",
     "text": [
      "100%|██████████| 2000/2000 [00:21<00:00, 94.93it/s] \n",
      " 76%|███████▌  | 379/500 [2:26:12<46:33, 23.08s/it]"
     ]
    },
    {
     "name": "stdout",
     "output_type": "stream",
     "text": [
      "--------------------\n",
      " nEvents = 2000\n",
      " nPMTs   = 30912\n",
      " nODPMTs = 0\n",
      "--------------------\n",
      "@@@ Start analysing data\n"
     ]
    },
    {
     "name": "stderr",
     "output_type": "stream",
     "text": [
      "100%|██████████| 2000/2000 [00:21<00:00, 93.90it/s] \n",
      " 76%|███████▌  | 380/500 [2:26:36<46:17, 23.14s/it]"
     ]
    },
    {
     "name": "stdout",
     "output_type": "stream",
     "text": [
      "--------------------\n",
      " nEvents = 2000\n",
      " nPMTs   = 30912\n",
      " nODPMTs = 0\n",
      "--------------------\n",
      "@@@ Start analysing data\n"
     ]
    },
    {
     "name": "stderr",
     "output_type": "stream",
     "text": [
      "100%|██████████| 2000/2000 [00:21<00:00, 94.90it/s] \n",
      " 76%|███████▌  | 381/500 [2:26:59<45:48, 23.10s/it]"
     ]
    },
    {
     "name": "stdout",
     "output_type": "stream",
     "text": [
      "--------------------\n",
      " nEvents = 2000\n",
      " nPMTs   = 30912\n",
      " nODPMTs = 0\n",
      "--------------------\n",
      "@@@ Start analysing data\n"
     ]
    },
    {
     "name": "stderr",
     "output_type": "stream",
     "text": [
      "100%|██████████| 2000/2000 [00:20<00:00, 95.26it/s] \n",
      " 76%|███████▋  | 382/500 [2:27:22<45:21, 23.07s/it]"
     ]
    },
    {
     "name": "stdout",
     "output_type": "stream",
     "text": [
      "--------------------\n",
      " nEvents = 2000\n",
      " nPMTs   = 30912\n",
      " nODPMTs = 0\n",
      "--------------------\n",
      "@@@ Start analysing data\n"
     ]
    },
    {
     "name": "stderr",
     "output_type": "stream",
     "text": [
      "100%|██████████| 2000/2000 [00:20<00:00, 96.16it/s] \n",
      " 77%|███████▋  | 383/500 [2:27:44<44:46, 22.96s/it]"
     ]
    },
    {
     "name": "stdout",
     "output_type": "stream",
     "text": [
      "--------------------\n",
      " nEvents = 2000\n",
      " nPMTs   = 30912\n",
      " nODPMTs = 0\n",
      "--------------------\n",
      "@@@ Start analysing data\n"
     ]
    },
    {
     "name": "stderr",
     "output_type": "stream",
     "text": [
      "100%|██████████| 2000/2000 [00:20<00:00, 96.68it/s] \n",
      " 77%|███████▋  | 384/500 [2:28:07<44:17, 22.91s/it]"
     ]
    },
    {
     "name": "stdout",
     "output_type": "stream",
     "text": [
      "--------------------\n",
      " nEvents = 2000\n",
      " nPMTs   = 30912\n",
      " nODPMTs = 0\n",
      "--------------------\n",
      "@@@ Start analysing data\n"
     ]
    },
    {
     "name": "stderr",
     "output_type": "stream",
     "text": [
      "100%|██████████| 2000/2000 [00:21<00:00, 95.00it/s] \n",
      " 77%|███████▋  | 385/500 [2:28:30<43:55, 22.92s/it]"
     ]
    },
    {
     "name": "stdout",
     "output_type": "stream",
     "text": [
      "--------------------\n",
      " nEvents = 2000\n",
      " nPMTs   = 30912\n",
      " nODPMTs = 0\n",
      "--------------------\n",
      "@@@ Start analysing data\n"
     ]
    },
    {
     "name": "stderr",
     "output_type": "stream",
     "text": [
      "100%|██████████| 2000/2000 [00:21<00:00, 94.01it/s] \n",
      " 77%|███████▋  | 386/500 [2:28:53<43:42, 23.01s/it]"
     ]
    },
    {
     "name": "stdout",
     "output_type": "stream",
     "text": [
      "--------------------\n",
      " nEvents = 2000\n",
      " nPMTs   = 30912\n",
      " nODPMTs = 0\n",
      "--------------------\n",
      "@@@ Start analysing data\n"
     ]
    },
    {
     "name": "stderr",
     "output_type": "stream",
     "text": [
      "100%|██████████| 2000/2000 [00:21<00:00, 92.95it/s] \n",
      " 77%|███████▋  | 387/500 [2:29:17<43:36, 23.16s/it]"
     ]
    },
    {
     "name": "stdout",
     "output_type": "stream",
     "text": [
      "--------------------\n",
      " nEvents = 2000\n",
      " nPMTs   = 30912\n",
      " nODPMTs = 0\n",
      "--------------------\n",
      "@@@ Start analysing data\n"
     ]
    },
    {
     "name": "stderr",
     "output_type": "stream",
     "text": [
      "100%|██████████| 2000/2000 [00:20<00:00, 95.27it/s] \n",
      " 78%|███████▊  | 388/500 [2:29:40<43:09, 23.12s/it]"
     ]
    },
    {
     "name": "stdout",
     "output_type": "stream",
     "text": [
      "--------------------\n",
      " nEvents = 2000\n",
      " nPMTs   = 30912\n",
      " nODPMTs = 0\n",
      "--------------------\n",
      "@@@ Start analysing data\n"
     ]
    },
    {
     "name": "stderr",
     "output_type": "stream",
     "text": [
      "100%|██████████| 2000/2000 [00:20<00:00, 96.06it/s] \n",
      " 78%|███████▊  | 389/500 [2:30:03<42:34, 23.01s/it]"
     ]
    },
    {
     "name": "stdout",
     "output_type": "stream",
     "text": [
      "--------------------\n",
      " nEvents = 2000\n",
      " nPMTs   = 30912\n",
      " nODPMTs = 0\n",
      "--------------------\n",
      "@@@ Start analysing data\n"
     ]
    },
    {
     "name": "stderr",
     "output_type": "stream",
     "text": [
      "100%|██████████| 2000/2000 [00:20<00:00, 96.04it/s] \n",
      " 78%|███████▊  | 390/500 [2:30:25<42:03, 22.94s/it]"
     ]
    },
    {
     "name": "stdout",
     "output_type": "stream",
     "text": [
      "--------------------\n",
      " nEvents = 2000\n",
      " nPMTs   = 30912\n",
      " nODPMTs = 0\n",
      "--------------------\n",
      "@@@ Start analysing data\n"
     ]
    },
    {
     "name": "stderr",
     "output_type": "stream",
     "text": [
      "100%|██████████| 2000/2000 [00:21<00:00, 93.54it/s] \n",
      " 78%|███████▊  | 391/500 [2:30:49<41:52, 23.05s/it]"
     ]
    },
    {
     "name": "stdout",
     "output_type": "stream",
     "text": [
      "--------------------\n",
      " nEvents = 2000\n",
      " nPMTs   = 30912\n",
      " nODPMTs = 0\n",
      "--------------------\n",
      "@@@ Start analysing data\n"
     ]
    },
    {
     "name": "stderr",
     "output_type": "stream",
     "text": [
      "100%|██████████| 2000/2000 [00:21<00:00, 95.08it/s] \n",
      " 78%|███████▊  | 392/500 [2:31:12<41:28, 23.04s/it]"
     ]
    },
    {
     "name": "stdout",
     "output_type": "stream",
     "text": [
      "--------------------\n",
      " nEvents = 2000\n",
      " nPMTs   = 30912\n",
      " nODPMTs = 0\n",
      "--------------------\n",
      "@@@ Start analysing data\n"
     ]
    },
    {
     "name": "stderr",
     "output_type": "stream",
     "text": [
      "100%|██████████| 2000/2000 [00:21<00:00, 95.09it/s] \n",
      " 79%|███████▊  | 393/500 [2:31:35<41:02, 23.01s/it]"
     ]
    },
    {
     "name": "stdout",
     "output_type": "stream",
     "text": [
      "--------------------\n",
      " nEvents = 2000\n",
      " nPMTs   = 30912\n",
      " nODPMTs = 0\n",
      "--------------------\n",
      "@@@ Start analysing data\n"
     ]
    },
    {
     "name": "stderr",
     "output_type": "stream",
     "text": [
      "100%|██████████| 2000/2000 [00:21<00:00, 93.89it/s] \n",
      " 79%|███████▉  | 394/500 [2:31:58<40:46, 23.08s/it]"
     ]
    },
    {
     "name": "stdout",
     "output_type": "stream",
     "text": [
      "--------------------\n",
      " nEvents = 2000\n",
      " nPMTs   = 30912\n",
      " nODPMTs = 0\n",
      "--------------------\n",
      "@@@ Start analysing data\n"
     ]
    },
    {
     "name": "stderr",
     "output_type": "stream",
     "text": [
      "100%|██████████| 2000/2000 [00:21<00:00, 95.21it/s] \n",
      " 79%|███████▉  | 395/500 [2:32:21<40:23, 23.08s/it]"
     ]
    },
    {
     "name": "stdout",
     "output_type": "stream",
     "text": [
      "--------------------\n",
      " nEvents = 2000\n",
      " nPMTs   = 30912\n",
      " nODPMTs = 0\n",
      "--------------------\n",
      "@@@ Start analysing data\n"
     ]
    },
    {
     "name": "stderr",
     "output_type": "stream",
     "text": [
      "100%|██████████| 2000/2000 [00:20<00:00, 95.25it/s] \n",
      " 79%|███████▉  | 396/500 [2:32:44<39:55, 23.03s/it]"
     ]
    },
    {
     "name": "stdout",
     "output_type": "stream",
     "text": [
      "--------------------\n",
      " nEvents = 2000\n",
      " nPMTs   = 30912\n",
      " nODPMTs = 0\n",
      "--------------------\n",
      "@@@ Start analysing data\n"
     ]
    },
    {
     "name": "stderr",
     "output_type": "stream",
     "text": [
      "100%|██████████| 2000/2000 [00:21<00:00, 94.75it/s] \n",
      " 79%|███████▉  | 397/500 [2:33:07<39:33, 23.04s/it]"
     ]
    },
    {
     "name": "stdout",
     "output_type": "stream",
     "text": [
      "--------------------\n",
      " nEvents = 2000\n",
      " nPMTs   = 30912\n",
      " nODPMTs = 0\n",
      "--------------------\n",
      "@@@ Start analysing data\n"
     ]
    },
    {
     "name": "stderr",
     "output_type": "stream",
     "text": [
      "100%|██████████| 2000/2000 [00:21<00:00, 94.58it/s] \n",
      " 80%|███████▉  | 398/500 [2:33:30<39:14, 23.09s/it]"
     ]
    },
    {
     "name": "stdout",
     "output_type": "stream",
     "text": [
      "--------------------\n",
      " nEvents = 2000\n",
      " nPMTs   = 30912\n",
      " nODPMTs = 0\n",
      "--------------------\n",
      "@@@ Start analysing data\n"
     ]
    },
    {
     "name": "stderr",
     "output_type": "stream",
     "text": [
      "100%|██████████| 2000/2000 [00:21<00:00, 95.13it/s] \n",
      " 80%|███████▉  | 399/500 [2:33:53<38:48, 23.05s/it]"
     ]
    },
    {
     "name": "stdout",
     "output_type": "stream",
     "text": [
      "--------------------\n",
      " nEvents = 2000\n",
      " nPMTs   = 30912\n",
      " nODPMTs = 0\n",
      "--------------------\n",
      "@@@ Start analysing data\n"
     ]
    },
    {
     "name": "stderr",
     "output_type": "stream",
     "text": [
      "100%|██████████| 2000/2000 [00:21<00:00, 94.58it/s] \n",
      " 80%|████████  | 400/500 [2:34:16<38:27, 23.07s/it]"
     ]
    },
    {
     "name": "stdout",
     "output_type": "stream",
     "text": [
      "--------------------\n",
      " nEvents = 2000\n",
      " nPMTs   = 30912\n",
      " nODPMTs = 0\n",
      "--------------------\n",
      "@@@ Start analysing data\n"
     ]
    },
    {
     "name": "stderr",
     "output_type": "stream",
     "text": [
      "100%|██████████| 2000/2000 [00:21<00:00, 94.83it/s] \n",
      " 80%|████████  | 401/500 [2:34:39<38:03, 23.07s/it]"
     ]
    },
    {
     "name": "stdout",
     "output_type": "stream",
     "text": [
      "--------------------\n",
      " nEvents = 2000\n",
      " nPMTs   = 30912\n",
      " nODPMTs = 0\n",
      "--------------------\n",
      "@@@ Start analysing data\n"
     ]
    },
    {
     "name": "stderr",
     "output_type": "stream",
     "text": [
      "100%|██████████| 2000/2000 [00:21<00:00, 93.48it/s] \n",
      " 80%|████████  | 402/500 [2:35:03<37:48, 23.15s/it]"
     ]
    },
    {
     "name": "stdout",
     "output_type": "stream",
     "text": [
      "--------------------\n",
      " nEvents = 2000\n",
      " nPMTs   = 30912\n",
      " nODPMTs = 0\n",
      "--------------------\n",
      "@@@ Start analysing data\n"
     ]
    },
    {
     "name": "stderr",
     "output_type": "stream",
     "text": [
      "100%|██████████| 2000/2000 [00:21<00:00, 95.15it/s] \n",
      " 81%|████████  | 403/500 [2:35:26<37:20, 23.10s/it]"
     ]
    },
    {
     "name": "stdout",
     "output_type": "stream",
     "text": [
      "--------------------\n",
      " nEvents = 2000\n",
      " nPMTs   = 30912\n",
      " nODPMTs = 0\n",
      "--------------------\n",
      "@@@ Start analysing data\n"
     ]
    },
    {
     "name": "stderr",
     "output_type": "stream",
     "text": [
      "100%|██████████| 2000/2000 [00:21<00:00, 93.66it/s] \n",
      " 81%|████████  | 404/500 [2:35:49<37:04, 23.17s/it]"
     ]
    },
    {
     "name": "stdout",
     "output_type": "stream",
     "text": [
      "--------------------\n",
      " nEvents = 2000\n",
      " nPMTs   = 30912\n",
      " nODPMTs = 0\n",
      "--------------------\n",
      "@@@ Start analysing data\n"
     ]
    },
    {
     "name": "stderr",
     "output_type": "stream",
     "text": [
      "100%|██████████| 2000/2000 [00:21<00:00, 93.82it/s] \n",
      " 81%|████████  | 405/500 [2:36:12<36:43, 23.20s/it]"
     ]
    },
    {
     "name": "stdout",
     "output_type": "stream",
     "text": [
      "--------------------\n",
      " nEvents = 2000\n",
      " nPMTs   = 30912\n",
      " nODPMTs = 0\n",
      "--------------------\n",
      "@@@ Start analysing data\n"
     ]
    },
    {
     "name": "stderr",
     "output_type": "stream",
     "text": [
      "100%|██████████| 2000/2000 [00:20<00:00, 97.49it/s] \n",
      " 81%|████████  | 406/500 [2:36:35<36:01, 23.00s/it]"
     ]
    },
    {
     "name": "stdout",
     "output_type": "stream",
     "text": [
      "--------------------\n",
      " nEvents = 2000\n",
      " nPMTs   = 30912\n",
      " nODPMTs = 0\n",
      "--------------------\n",
      "@@@ Start analysing data\n"
     ]
    },
    {
     "name": "stderr",
     "output_type": "stream",
     "text": [
      "100%|██████████| 2000/2000 [00:20<00:00, 95.85it/s] \n",
      " 81%|████████▏ | 407/500 [2:36:58<35:30, 22.91s/it]"
     ]
    },
    {
     "name": "stdout",
     "output_type": "stream",
     "text": [
      "--------------------\n",
      " nEvents = 2000\n",
      " nPMTs   = 30912\n",
      " nODPMTs = 0\n",
      "--------------------\n",
      "@@@ Start analysing data\n"
     ]
    },
    {
     "name": "stderr",
     "output_type": "stream",
     "text": [
      "100%|██████████| 2000/2000 [00:20<00:00, 95.28it/s] \n",
      " 82%|████████▏ | 408/500 [2:37:20<35:08, 22.92s/it]"
     ]
    },
    {
     "name": "stdout",
     "output_type": "stream",
     "text": [
      "--------------------\n",
      " nEvents = 2000\n",
      " nPMTs   = 30912\n",
      " nODPMTs = 0\n",
      "--------------------\n",
      "@@@ Start analysing data\n"
     ]
    },
    {
     "name": "stderr",
     "output_type": "stream",
     "text": [
      "100%|██████████| 2000/2000 [00:20<00:00, 96.03it/s] \n",
      " 82%|████████▏ | 409/500 [2:37:43<34:41, 22.87s/it]"
     ]
    },
    {
     "name": "stdout",
     "output_type": "stream",
     "text": [
      "--------------------\n",
      " nEvents = 2000\n",
      " nPMTs   = 30912\n",
      " nODPMTs = 0\n",
      "--------------------\n",
      "@@@ Start analysing data\n"
     ]
    },
    {
     "name": "stderr",
     "output_type": "stream",
     "text": [
      "100%|██████████| 2000/2000 [00:21<00:00, 95.19it/s] \n",
      " 82%|████████▏ | 410/500 [2:38:06<34:19, 22.89s/it]"
     ]
    },
    {
     "name": "stdout",
     "output_type": "stream",
     "text": [
      "--------------------\n",
      " nEvents = 2000\n",
      " nPMTs   = 30912\n",
      " nODPMTs = 0\n",
      "--------------------\n",
      "@@@ Start analysing data\n"
     ]
    },
    {
     "name": "stderr",
     "output_type": "stream",
     "text": [
      "100%|██████████| 2000/2000 [00:21<00:00, 93.80it/s] \n",
      " 82%|████████▏ | 411/500 [2:38:30<34:10, 23.04s/it]"
     ]
    },
    {
     "name": "stdout",
     "output_type": "stream",
     "text": [
      "--------------------\n",
      " nEvents = 2000\n",
      " nPMTs   = 30912\n",
      " nODPMTs = 0\n",
      "--------------------\n",
      "@@@ Start analysing data\n"
     ]
    },
    {
     "name": "stderr",
     "output_type": "stream",
     "text": [
      "100%|██████████| 2000/2000 [00:20<00:00, 95.41it/s] \n",
      " 82%|████████▏ | 412/500 [2:38:52<33:43, 23.00s/it]"
     ]
    },
    {
     "name": "stdout",
     "output_type": "stream",
     "text": [
      "--------------------\n",
      " nEvents = 2000\n",
      " nPMTs   = 30912\n",
      " nODPMTs = 0\n",
      "--------------------\n",
      "@@@ Start analysing data\n"
     ]
    },
    {
     "name": "stderr",
     "output_type": "stream",
     "text": [
      "100%|██████████| 2000/2000 [00:21<00:00, 94.04it/s] \n",
      " 83%|████████▎ | 413/500 [2:39:16<33:28, 23.08s/it]"
     ]
    },
    {
     "name": "stdout",
     "output_type": "stream",
     "text": [
      "--------------------\n",
      " nEvents = 2000\n",
      " nPMTs   = 30912\n",
      " nODPMTs = 0\n",
      "--------------------\n",
      "@@@ Start analysing data\n"
     ]
    },
    {
     "name": "stderr",
     "output_type": "stream",
     "text": [
      "100%|██████████| 2000/2000 [00:21<00:00, 94.36it/s] \n",
      " 83%|████████▎ | 414/500 [2:39:39<33:06, 23.10s/it]"
     ]
    },
    {
     "name": "stdout",
     "output_type": "stream",
     "text": [
      "--------------------\n",
      " nEvents = 2000\n",
      " nPMTs   = 30912\n",
      " nODPMTs = 0\n",
      "--------------------\n",
      "@@@ Start analysing data\n"
     ]
    },
    {
     "name": "stderr",
     "output_type": "stream",
     "text": [
      "100%|██████████| 2000/2000 [00:20<00:00, 95.25it/s] \n",
      " 83%|████████▎ | 415/500 [2:40:02<32:39, 23.05s/it]"
     ]
    },
    {
     "name": "stdout",
     "output_type": "stream",
     "text": [
      "--------------------\n",
      " nEvents = 2000\n",
      " nPMTs   = 30912\n",
      " nODPMTs = 0\n",
      "--------------------\n",
      "@@@ Start analysing data\n"
     ]
    },
    {
     "name": "stderr",
     "output_type": "stream",
     "text": [
      "100%|██████████| 2000/2000 [00:20<00:00, 96.09it/s] \n",
      " 83%|████████▎ | 416/500 [2:40:25<32:09, 22.97s/it]"
     ]
    },
    {
     "name": "stdout",
     "output_type": "stream",
     "text": [
      "--------------------\n",
      " nEvents = 2000\n",
      " nPMTs   = 30912\n",
      " nODPMTs = 0\n",
      "--------------------\n",
      "@@@ Start analysing data\n"
     ]
    },
    {
     "name": "stderr",
     "output_type": "stream",
     "text": [
      "100%|██████████| 2000/2000 [00:21<00:00, 94.75it/s] \n",
      " 83%|████████▎ | 417/500 [2:40:48<31:49, 23.01s/it]"
     ]
    },
    {
     "name": "stdout",
     "output_type": "stream",
     "text": [
      "--------------------\n",
      " nEvents = 2000\n",
      " nPMTs   = 30912\n",
      " nODPMTs = 0\n",
      "--------------------\n",
      "@@@ Start analysing data\n"
     ]
    },
    {
     "name": "stderr",
     "output_type": "stream",
     "text": [
      "100%|██████████| 2000/2000 [00:21<00:00, 93.97it/s] \n",
      " 84%|████████▎ | 418/500 [2:41:11<31:31, 23.07s/it]"
     ]
    },
    {
     "name": "stdout",
     "output_type": "stream",
     "text": [
      "--------------------\n",
      " nEvents = 2000\n",
      " nPMTs   = 30912\n",
      " nODPMTs = 0\n",
      "--------------------\n",
      "@@@ Start analysing data\n"
     ]
    },
    {
     "name": "stderr",
     "output_type": "stream",
     "text": [
      "100%|██████████| 2000/2000 [00:21<00:00, 94.16it/s] \n",
      " 84%|████████▍ | 419/500 [2:41:34<31:11, 23.10s/it]"
     ]
    },
    {
     "name": "stdout",
     "output_type": "stream",
     "text": [
      "--------------------\n",
      " nEvents = 2000\n",
      " nPMTs   = 30912\n",
      " nODPMTs = 0\n",
      "--------------------\n",
      "@@@ Start analysing data\n"
     ]
    },
    {
     "name": "stderr",
     "output_type": "stream",
     "text": [
      "100%|██████████| 2000/2000 [00:21<00:00, 93.49it/s] \n",
      " 84%|████████▍ | 420/500 [2:41:58<30:56, 23.20s/it]"
     ]
    },
    {
     "name": "stdout",
     "output_type": "stream",
     "text": [
      "--------------------\n",
      " nEvents = 2000\n",
      " nPMTs   = 30912\n",
      " nODPMTs = 0\n",
      "--------------------\n",
      "@@@ Start analysing data\n"
     ]
    },
    {
     "name": "stderr",
     "output_type": "stream",
     "text": [
      "100%|██████████| 2000/2000 [00:21<00:00, 93.35it/s] \n",
      " 84%|████████▍ | 421/500 [2:42:21<30:36, 23.25s/it]"
     ]
    },
    {
     "name": "stdout",
     "output_type": "stream",
     "text": [
      "--------------------\n",
      " nEvents = 2000\n",
      " nPMTs   = 30912\n",
      " nODPMTs = 0\n",
      "--------------------\n",
      "@@@ Start analysing data\n"
     ]
    },
    {
     "name": "stderr",
     "output_type": "stream",
     "text": [
      "100%|██████████| 2000/2000 [00:21<00:00, 94.53it/s] \n",
      " 84%|████████▍ | 422/500 [2:42:44<30:09, 23.20s/it]"
     ]
    },
    {
     "name": "stdout",
     "output_type": "stream",
     "text": [
      "--------------------\n",
      " nEvents = 2000\n",
      " nPMTs   = 30912\n",
      " nODPMTs = 0\n",
      "--------------------\n",
      "@@@ Start analysing data\n"
     ]
    },
    {
     "name": "stderr",
     "output_type": "stream",
     "text": [
      "100%|██████████| 2000/2000 [00:21<00:00, 95.19it/s] \n",
      " 85%|████████▍ | 423/500 [2:43:07<29:39, 23.11s/it]"
     ]
    },
    {
     "name": "stdout",
     "output_type": "stream",
     "text": [
      "--------------------\n",
      " nEvents = 2000\n",
      " nPMTs   = 30912\n",
      " nODPMTs = 0\n",
      "--------------------\n",
      "@@@ Start analysing data\n"
     ]
    },
    {
     "name": "stderr",
     "output_type": "stream",
     "text": [
      "100%|██████████| 2000/2000 [00:21<00:00, 92.08it/s] \n",
      " 85%|████████▍ | 424/500 [2:43:30<29:26, 23.25s/it]"
     ]
    },
    {
     "name": "stdout",
     "output_type": "stream",
     "text": [
      "--------------------\n",
      " nEvents = 2000\n",
      " nPMTs   = 30912\n",
      " nODPMTs = 0\n",
      "--------------------\n",
      "@@@ Start analysing data\n"
     ]
    },
    {
     "name": "stderr",
     "output_type": "stream",
     "text": [
      "100%|██████████| 2000/2000 [00:20<00:00, 95.54it/s] \n",
      " 85%|████████▌ | 425/500 [2:43:53<28:55, 23.14s/it]"
     ]
    },
    {
     "name": "stdout",
     "output_type": "stream",
     "text": [
      "--------------------\n",
      " nEvents = 2000\n",
      " nPMTs   = 30912\n",
      " nODPMTs = 0\n",
      "--------------------\n",
      "@@@ Start analysing data\n"
     ]
    },
    {
     "name": "stderr",
     "output_type": "stream",
     "text": [
      "100%|██████████| 2000/2000 [00:21<00:00, 94.98it/s] \n",
      " 85%|████████▌ | 426/500 [2:44:16<28:29, 23.10s/it]"
     ]
    },
    {
     "name": "stdout",
     "output_type": "stream",
     "text": [
      "--------------------\n",
      " nEvents = 2000\n",
      " nPMTs   = 30912\n",
      " nODPMTs = 0\n",
      "--------------------\n",
      "@@@ Start analysing data\n"
     ]
    },
    {
     "name": "stderr",
     "output_type": "stream",
     "text": [
      "100%|██████████| 2000/2000 [00:21<00:00, 94.54it/s] \n",
      " 85%|████████▌ | 427/500 [2:44:40<28:09, 23.15s/it]"
     ]
    },
    {
     "name": "stdout",
     "output_type": "stream",
     "text": [
      "--------------------\n",
      " nEvents = 2000\n",
      " nPMTs   = 30912\n",
      " nODPMTs = 0\n",
      "--------------------\n",
      "@@@ Start analysing data\n"
     ]
    },
    {
     "name": "stderr",
     "output_type": "stream",
     "text": [
      "100%|██████████| 2000/2000 [00:21<00:00, 94.31it/s] \n",
      " 86%|████████▌ | 428/500 [2:45:03<27:46, 23.14s/it]"
     ]
    },
    {
     "name": "stdout",
     "output_type": "stream",
     "text": [
      "--------------------\n",
      " nEvents = 2000\n",
      " nPMTs   = 30912\n",
      " nODPMTs = 0\n",
      "--------------------\n",
      "@@@ Start analysing data\n"
     ]
    },
    {
     "name": "stderr",
     "output_type": "stream",
     "text": [
      "100%|██████████| 2000/2000 [00:21<00:00, 94.16it/s] \n",
      " 86%|████████▌ | 429/500 [2:45:26<27:24, 23.16s/it]"
     ]
    },
    {
     "name": "stdout",
     "output_type": "stream",
     "text": [
      "--------------------\n",
      " nEvents = 2000\n",
      " nPMTs   = 30912\n",
      " nODPMTs = 0\n",
      "--------------------\n",
      "@@@ Start analysing data\n"
     ]
    },
    {
     "name": "stderr",
     "output_type": "stream",
     "text": [
      "100%|██████████| 2000/2000 [00:21<00:00, 94.49it/s] \n",
      " 86%|████████▌ | 430/500 [2:45:49<27:02, 23.18s/it]"
     ]
    },
    {
     "name": "stdout",
     "output_type": "stream",
     "text": [
      "--------------------\n",
      " nEvents = 2000\n",
      " nPMTs   = 30912\n",
      " nODPMTs = 0\n",
      "--------------------\n",
      "@@@ Start analysing data\n"
     ]
    },
    {
     "name": "stderr",
     "output_type": "stream",
     "text": [
      "100%|██████████| 2000/2000 [00:21<00:00, 95.03it/s] \n",
      " 86%|████████▌ | 431/500 [2:46:12<26:35, 23.13s/it]"
     ]
    },
    {
     "name": "stdout",
     "output_type": "stream",
     "text": [
      "--------------------\n",
      " nEvents = 2000\n",
      " nPMTs   = 30912\n",
      " nODPMTs = 0\n",
      "--------------------\n",
      "@@@ Start analysing data\n"
     ]
    },
    {
     "name": "stderr",
     "output_type": "stream",
     "text": [
      "100%|██████████| 2000/2000 [00:20<00:00, 95.50it/s] \n",
      " 86%|████████▋ | 432/500 [2:46:35<26:06, 23.04s/it]"
     ]
    },
    {
     "name": "stdout",
     "output_type": "stream",
     "text": [
      "--------------------\n",
      " nEvents = 2000\n",
      " nPMTs   = 30912\n",
      " nODPMTs = 0\n",
      "--------------------\n",
      "@@@ Start analysing data\n"
     ]
    },
    {
     "name": "stderr",
     "output_type": "stream",
     "text": [
      "100%|██████████| 2000/2000 [00:20<00:00, 95.29it/s] \n",
      " 87%|████████▋ | 433/500 [2:46:58<25:40, 23.00s/it]"
     ]
    },
    {
     "name": "stdout",
     "output_type": "stream",
     "text": [
      "--------------------\n",
      " nEvents = 2000\n",
      " nPMTs   = 30912\n",
      " nODPMTs = 0\n",
      "--------------------\n",
      "@@@ Start analysing data\n"
     ]
    },
    {
     "name": "stderr",
     "output_type": "stream",
     "text": [
      "100%|██████████| 2000/2000 [00:20<00:00, 95.71it/s] \n",
      " 87%|████████▋ | 434/500 [2:47:21<25:16, 22.98s/it]"
     ]
    },
    {
     "name": "stdout",
     "output_type": "stream",
     "text": [
      "--------------------\n",
      " nEvents = 2000\n",
      " nPMTs   = 30912\n",
      " nODPMTs = 0\n",
      "--------------------\n",
      "@@@ Start analysing data\n"
     ]
    },
    {
     "name": "stderr",
     "output_type": "stream",
     "text": [
      "100%|██████████| 2000/2000 [00:21<00:00, 92.87it/s] \n",
      " 87%|████████▋ | 435/500 [2:47:44<25:03, 23.13s/it]"
     ]
    },
    {
     "name": "stdout",
     "output_type": "stream",
     "text": [
      "--------------------\n",
      " nEvents = 2000\n",
      " nPMTs   = 30912\n",
      " nODPMTs = 0\n",
      "--------------------\n",
      "@@@ Start analysing data\n"
     ]
    },
    {
     "name": "stderr",
     "output_type": "stream",
     "text": [
      "100%|██████████| 2000/2000 [00:21<00:00, 92.30it/s] \n",
      " 87%|████████▋ | 436/500 [2:48:08<24:50, 23.29s/it]"
     ]
    },
    {
     "name": "stdout",
     "output_type": "stream",
     "text": [
      "--------------------\n",
      " nEvents = 2000\n",
      " nPMTs   = 30912\n",
      " nODPMTs = 0\n",
      "--------------------\n",
      "@@@ Start analysing data\n"
     ]
    },
    {
     "name": "stderr",
     "output_type": "stream",
     "text": [
      "100%|██████████| 2000/2000 [00:21<00:00, 94.85it/s] \n",
      " 87%|████████▋ | 437/500 [2:48:31<24:22, 23.22s/it]"
     ]
    },
    {
     "name": "stdout",
     "output_type": "stream",
     "text": [
      "--------------------\n",
      " nEvents = 2000\n",
      " nPMTs   = 30912\n",
      " nODPMTs = 0\n",
      "--------------------\n",
      "@@@ Start analysing data\n"
     ]
    },
    {
     "name": "stderr",
     "output_type": "stream",
     "text": [
      "100%|██████████| 2000/2000 [00:20<00:00, 95.66it/s] \n",
      " 88%|████████▊ | 438/500 [2:48:54<23:52, 23.11s/it]"
     ]
    },
    {
     "name": "stdout",
     "output_type": "stream",
     "text": [
      "--------------------\n",
      " nEvents = 2000\n",
      " nPMTs   = 30912\n",
      " nODPMTs = 0\n",
      "--------------------\n",
      "@@@ Start analysing data\n"
     ]
    },
    {
     "name": "stderr",
     "output_type": "stream",
     "text": [
      "100%|██████████| 2000/2000 [00:21<00:00, 94.25it/s] \n",
      " 88%|████████▊ | 439/500 [2:49:17<23:31, 23.14s/it]"
     ]
    },
    {
     "name": "stdout",
     "output_type": "stream",
     "text": [
      "--------------------\n",
      " nEvents = 2000\n",
      " nPMTs   = 30912\n",
      " nODPMTs = 0\n",
      "--------------------\n",
      "@@@ Start analysing data\n"
     ]
    },
    {
     "name": "stderr",
     "output_type": "stream",
     "text": [
      "100%|██████████| 2000/2000 [00:21<00:00, 93.17it/s] \n",
      " 88%|████████▊ | 440/500 [2:49:40<23:13, 23.23s/it]"
     ]
    },
    {
     "name": "stdout",
     "output_type": "stream",
     "text": [
      "--------------------\n",
      " nEvents = 2000\n",
      " nPMTs   = 30912\n",
      " nODPMTs = 0\n",
      "--------------------\n",
      "@@@ Start analysing data\n"
     ]
    },
    {
     "name": "stderr",
     "output_type": "stream",
     "text": [
      "100%|██████████| 2000/2000 [00:20<00:00, 95.31it/s] \n",
      " 88%|████████▊ | 441/500 [2:50:03<22:45, 23.15s/it]"
     ]
    },
    {
     "name": "stdout",
     "output_type": "stream",
     "text": [
      "--------------------\n",
      " nEvents = 2000\n",
      " nPMTs   = 30912\n",
      " nODPMTs = 0\n",
      "--------------------\n",
      "@@@ Start analysing data\n"
     ]
    },
    {
     "name": "stderr",
     "output_type": "stream",
     "text": [
      "100%|██████████| 2000/2000 [00:20<00:00, 95.85it/s] \n",
      " 88%|████████▊ | 442/500 [2:50:26<22:16, 23.04s/it]"
     ]
    },
    {
     "name": "stdout",
     "output_type": "stream",
     "text": [
      "--------------------\n",
      " nEvents = 2000\n",
      " nPMTs   = 30912\n",
      " nODPMTs = 0\n",
      "--------------------\n",
      "@@@ Start analysing data\n"
     ]
    },
    {
     "name": "stderr",
     "output_type": "stream",
     "text": [
      "100%|██████████| 2000/2000 [00:20<00:00, 95.87it/s] \n",
      " 89%|████████▊ | 443/500 [2:50:49<21:49, 22.97s/it]"
     ]
    },
    {
     "name": "stdout",
     "output_type": "stream",
     "text": [
      "--------------------\n",
      " nEvents = 2000\n",
      " nPMTs   = 30912\n",
      " nODPMTs = 0\n",
      "--------------------\n",
      "@@@ Start analysing data\n"
     ]
    },
    {
     "name": "stderr",
     "output_type": "stream",
     "text": [
      "100%|██████████| 2000/2000 [00:20<00:00, 97.16it/s] \n",
      " 89%|████████▉ | 444/500 [2:51:12<21:20, 22.87s/it]"
     ]
    },
    {
     "name": "stdout",
     "output_type": "stream",
     "text": [
      "--------------------\n",
      " nEvents = 2000\n",
      " nPMTs   = 30912\n",
      " nODPMTs = 0\n",
      "--------------------\n",
      "@@@ Start analysing data\n"
     ]
    },
    {
     "name": "stderr",
     "output_type": "stream",
     "text": [
      "100%|██████████| 2000/2000 [00:20<00:00, 95.28it/s] \n",
      " 89%|████████▉ | 445/500 [2:51:35<20:59, 22.90s/it]"
     ]
    },
    {
     "name": "stdout",
     "output_type": "stream",
     "text": [
      "--------------------\n",
      " nEvents = 2000\n",
      " nPMTs   = 30912\n",
      " nODPMTs = 0\n",
      "--------------------\n",
      "@@@ Start analysing data\n"
     ]
    },
    {
     "name": "stderr",
     "output_type": "stream",
     "text": [
      "100%|██████████| 2000/2000 [00:20<00:00, 96.00it/s] \n",
      " 89%|████████▉ | 446/500 [2:51:57<20:34, 22.86s/it]"
     ]
    },
    {
     "name": "stdout",
     "output_type": "stream",
     "text": [
      "--------------------\n",
      " nEvents = 2000\n",
      " nPMTs   = 30912\n",
      " nODPMTs = 0\n",
      "--------------------\n",
      "@@@ Start analysing data\n"
     ]
    },
    {
     "name": "stderr",
     "output_type": "stream",
     "text": [
      "100%|██████████| 2000/2000 [00:20<00:00, 96.30it/s] \n",
      " 89%|████████▉ | 447/500 [2:52:20<20:09, 22.82s/it]"
     ]
    },
    {
     "name": "stdout",
     "output_type": "stream",
     "text": [
      "--------------------\n",
      " nEvents = 2000\n",
      " nPMTs   = 30912\n",
      " nODPMTs = 0\n",
      "--------------------\n",
      "@@@ Start analysing data\n"
     ]
    },
    {
     "name": "stderr",
     "output_type": "stream",
     "text": [
      "100%|██████████| 2000/2000 [00:21<00:00, 92.05it/s] \n",
      " 90%|████████▉ | 448/500 [2:52:44<20:00, 23.09s/it]"
     ]
    },
    {
     "name": "stdout",
     "output_type": "stream",
     "text": [
      "--------------------\n",
      " nEvents = 2000\n",
      " nPMTs   = 30912\n",
      " nODPMTs = 0\n",
      "--------------------\n",
      "@@@ Start analysing data\n"
     ]
    },
    {
     "name": "stderr",
     "output_type": "stream",
     "text": [
      "100%|██████████| 2000/2000 [00:20<00:00, 96.07it/s] \n",
      " 90%|████████▉ | 449/500 [2:53:07<19:32, 22.99s/it]"
     ]
    },
    {
     "name": "stdout",
     "output_type": "stream",
     "text": [
      "--------------------\n",
      " nEvents = 2000\n",
      " nPMTs   = 30912\n",
      " nODPMTs = 0\n",
      "--------------------\n",
      "@@@ Start analysing data\n"
     ]
    },
    {
     "name": "stderr",
     "output_type": "stream",
     "text": [
      "100%|██████████| 2000/2000 [00:21<00:00, 94.67it/s] \n",
      " 90%|█████████ | 450/500 [2:53:30<19:10, 23.01s/it]"
     ]
    },
    {
     "name": "stdout",
     "output_type": "stream",
     "text": [
      "--------------------\n",
      " nEvents = 2000\n",
      " nPMTs   = 30912\n",
      " nODPMTs = 0\n",
      "--------------------\n",
      "@@@ Start analysing data\n"
     ]
    },
    {
     "name": "stderr",
     "output_type": "stream",
     "text": [
      "100%|██████████| 2000/2000 [00:21<00:00, 94.71it/s] \n",
      " 90%|█████████ | 451/500 [2:53:53<18:47, 23.02s/it]"
     ]
    },
    {
     "name": "stdout",
     "output_type": "stream",
     "text": [
      "--------------------\n",
      " nEvents = 2000\n",
      " nPMTs   = 30912\n",
      " nODPMTs = 0\n",
      "--------------------\n",
      "@@@ Start analysing data\n"
     ]
    },
    {
     "name": "stderr",
     "output_type": "stream",
     "text": [
      "100%|██████████| 2000/2000 [00:20<00:00, 95.89it/s] \n",
      " 90%|█████████ | 452/500 [2:54:16<18:21, 22.95s/it]"
     ]
    },
    {
     "name": "stdout",
     "output_type": "stream",
     "text": [
      "--------------------\n",
      " nEvents = 2000\n",
      " nPMTs   = 30912\n",
      " nODPMTs = 0\n",
      "--------------------\n",
      "@@@ Start analysing data\n"
     ]
    },
    {
     "name": "stderr",
     "output_type": "stream",
     "text": [
      "100%|██████████| 2000/2000 [00:20<00:00, 97.01it/s] \n",
      " 91%|█████████ | 453/500 [2:54:38<17:54, 22.85s/it]"
     ]
    },
    {
     "name": "stdout",
     "output_type": "stream",
     "text": [
      "--------------------\n",
      " nEvents = 2000\n",
      " nPMTs   = 30912\n",
      " nODPMTs = 0\n",
      "--------------------\n",
      "@@@ Start analysing data\n"
     ]
    },
    {
     "name": "stderr",
     "output_type": "stream",
     "text": [
      "100%|██████████| 2000/2000 [00:21<00:00, 94.14it/s] \n",
      " 91%|█████████ | 454/500 [2:55:01<17:36, 22.96s/it]"
     ]
    },
    {
     "name": "stdout",
     "output_type": "stream",
     "text": [
      "--------------------\n",
      " nEvents = 2000\n",
      " nPMTs   = 30912\n",
      " nODPMTs = 0\n",
      "--------------------\n",
      "@@@ Start analysing data\n"
     ]
    },
    {
     "name": "stderr",
     "output_type": "stream",
     "text": [
      "100%|██████████| 2000/2000 [00:20<00:00, 95.91it/s] \n",
      " 91%|█████████ | 455/500 [2:55:24<17:10, 22.90s/it]"
     ]
    },
    {
     "name": "stdout",
     "output_type": "stream",
     "text": [
      "--------------------\n",
      " nEvents = 2000\n",
      " nPMTs   = 30912\n",
      " nODPMTs = 0\n",
      "--------------------\n",
      "@@@ Start analysing data\n"
     ]
    },
    {
     "name": "stderr",
     "output_type": "stream",
     "text": [
      "100%|██████████| 2000/2000 [00:20<00:00, 95.52it/s] \n",
      " 91%|█████████ | 456/500 [2:55:47<16:47, 22.89s/it]"
     ]
    },
    {
     "name": "stdout",
     "output_type": "stream",
     "text": [
      "--------------------\n",
      " nEvents = 2000\n",
      " nPMTs   = 30912\n",
      " nODPMTs = 0\n",
      "--------------------\n",
      "@@@ Start analysing data\n"
     ]
    },
    {
     "name": "stderr",
     "output_type": "stream",
     "text": [
      "100%|██████████| 2000/2000 [00:26<00:00, 76.79it/s] \n",
      " 91%|█████████▏| 457/500 [2:56:15<17:32, 24.47s/it]"
     ]
    },
    {
     "name": "stdout",
     "output_type": "stream",
     "text": [
      "--------------------\n",
      " nEvents = 2000\n",
      " nPMTs   = 30912\n",
      " nODPMTs = 0\n",
      "--------------------\n",
      "@@@ Start analysing data\n"
     ]
    },
    {
     "name": "stderr",
     "output_type": "stream",
     "text": [
      "100%|██████████| 2000/2000 [00:20<00:00, 95.70it/s] \n",
      " 92%|█████████▏| 458/500 [2:56:38<16:46, 23.96s/it]"
     ]
    },
    {
     "name": "stdout",
     "output_type": "stream",
     "text": [
      "--------------------\n",
      " nEvents = 2000\n",
      " nPMTs   = 30912\n",
      " nODPMTs = 0\n",
      "--------------------\n",
      "@@@ Start analysing data\n"
     ]
    },
    {
     "name": "stderr",
     "output_type": "stream",
     "text": [
      "100%|██████████| 2000/2000 [00:20<00:00, 96.08it/s] \n",
      " 92%|█████████▏| 459/500 [2:57:01<16:07, 23.60s/it]"
     ]
    },
    {
     "name": "stdout",
     "output_type": "stream",
     "text": [
      "--------------------\n",
      " nEvents = 2000\n",
      " nPMTs   = 30912\n",
      " nODPMTs = 0\n",
      "--------------------\n",
      "@@@ Start analysing data\n"
     ]
    },
    {
     "name": "stderr",
     "output_type": "stream",
     "text": [
      "100%|██████████| 2000/2000 [00:21<00:00, 93.21it/s] \n",
      " 92%|█████████▏| 460/500 [2:57:24<15:42, 23.55s/it]"
     ]
    },
    {
     "name": "stdout",
     "output_type": "stream",
     "text": [
      "--------------------\n",
      " nEvents = 2000\n",
      " nPMTs   = 30912\n",
      " nODPMTs = 0\n",
      "--------------------\n",
      "@@@ Start analysing data\n"
     ]
    },
    {
     "name": "stderr",
     "output_type": "stream",
     "text": [
      "100%|██████████| 2000/2000 [00:20<00:00, 96.21it/s] \n",
      " 92%|█████████▏| 461/500 [2:57:47<15:08, 23.31s/it]"
     ]
    },
    {
     "name": "stdout",
     "output_type": "stream",
     "text": [
      "--------------------\n",
      " nEvents = 2000\n",
      " nPMTs   = 30912\n",
      " nODPMTs = 0\n",
      "--------------------\n",
      "@@@ Start analysing data\n"
     ]
    },
    {
     "name": "stderr",
     "output_type": "stream",
     "text": [
      "100%|██████████| 2000/2000 [00:21<00:00, 94.94it/s] \n",
      " 92%|█████████▏| 462/500 [2:58:10<14:41, 23.20s/it]"
     ]
    },
    {
     "name": "stdout",
     "output_type": "stream",
     "text": [
      "--------------------\n",
      " nEvents = 2000\n",
      " nPMTs   = 30912\n",
      " nODPMTs = 0\n",
      "--------------------\n",
      "@@@ Start analysing data\n"
     ]
    },
    {
     "name": "stderr",
     "output_type": "stream",
     "text": [
      "100%|██████████| 2000/2000 [00:21<00:00, 94.74it/s] \n",
      " 93%|█████████▎| 463/500 [2:58:33<14:16, 23.16s/it]"
     ]
    },
    {
     "name": "stdout",
     "output_type": "stream",
     "text": [
      "--------------------\n",
      " nEvents = 2000\n",
      " nPMTs   = 30912\n",
      " nODPMTs = 0\n",
      "--------------------\n",
      "@@@ Start analysing data\n"
     ]
    },
    {
     "name": "stderr",
     "output_type": "stream",
     "text": [
      "100%|██████████| 2000/2000 [00:20<00:00, 95.88it/s] \n",
      " 93%|█████████▎| 464/500 [2:58:56<13:52, 23.13s/it]"
     ]
    },
    {
     "name": "stdout",
     "output_type": "stream",
     "text": [
      "--------------------\n",
      " nEvents = 2000\n",
      " nPMTs   = 30912\n",
      " nODPMTs = 0\n",
      "--------------------\n",
      "@@@ Start analysing data\n"
     ]
    },
    {
     "name": "stderr",
     "output_type": "stream",
     "text": [
      "100%|██████████| 2000/2000 [00:20<00:00, 96.10it/s] \n",
      " 93%|█████████▎| 465/500 [2:59:19<13:24, 22.99s/it]"
     ]
    },
    {
     "name": "stdout",
     "output_type": "stream",
     "text": [
      "--------------------\n",
      " nEvents = 2000\n",
      " nPMTs   = 30912\n",
      " nODPMTs = 0\n",
      "--------------------\n",
      "@@@ Start analysing data\n"
     ]
    },
    {
     "name": "stderr",
     "output_type": "stream",
     "text": [
      "100%|██████████| 2000/2000 [00:20<00:00, 95.28it/s] \n",
      " 93%|█████████▎| 466/500 [2:59:41<13:01, 22.97s/it]"
     ]
    },
    {
     "name": "stdout",
     "output_type": "stream",
     "text": [
      "--------------------\n",
      " nEvents = 2000\n",
      " nPMTs   = 30912\n",
      " nODPMTs = 0\n",
      "--------------------\n",
      "@@@ Start analysing data\n"
     ]
    },
    {
     "name": "stderr",
     "output_type": "stream",
     "text": [
      "100%|██████████| 2000/2000 [00:21<00:00, 94.80it/s] \n",
      " 93%|█████████▎| 467/500 [3:00:04<12:37, 22.96s/it]"
     ]
    },
    {
     "name": "stdout",
     "output_type": "stream",
     "text": [
      "--------------------\n",
      " nEvents = 2000\n",
      " nPMTs   = 30912\n",
      " nODPMTs = 0\n",
      "--------------------\n",
      "@@@ Start analysing data\n"
     ]
    },
    {
     "name": "stderr",
     "output_type": "stream",
     "text": [
      "100%|██████████| 2000/2000 [00:21<00:00, 94.53it/s] \n",
      " 94%|█████████▎| 468/500 [3:00:28<12:15, 22.99s/it]"
     ]
    },
    {
     "name": "stdout",
     "output_type": "stream",
     "text": [
      "--------------------\n",
      " nEvents = 2000\n",
      " nPMTs   = 30912\n",
      " nODPMTs = 0\n",
      "--------------------\n",
      "@@@ Start analysing data\n"
     ]
    },
    {
     "name": "stderr",
     "output_type": "stream",
     "text": [
      "100%|██████████| 2000/2000 [00:20<00:00, 96.55it/s] \n",
      " 94%|█████████▍| 469/500 [3:00:50<11:49, 22.89s/it]"
     ]
    },
    {
     "name": "stdout",
     "output_type": "stream",
     "text": [
      "--------------------\n",
      " nEvents = 2000\n",
      " nPMTs   = 30912\n",
      " nODPMTs = 0\n",
      "--------------------\n",
      "@@@ Start analysing data\n"
     ]
    },
    {
     "name": "stderr",
     "output_type": "stream",
     "text": [
      "100%|██████████| 2000/2000 [00:21<00:00, 94.81it/s] \n",
      " 94%|█████████▍| 470/500 [3:01:13<11:28, 22.94s/it]"
     ]
    },
    {
     "name": "stdout",
     "output_type": "stream",
     "text": [
      "--------------------\n",
      " nEvents = 2000\n",
      " nPMTs   = 30912\n",
      " nODPMTs = 0\n",
      "--------------------\n",
      "@@@ Start analysing data\n"
     ]
    },
    {
     "name": "stderr",
     "output_type": "stream",
     "text": [
      "100%|██████████| 2000/2000 [00:20<00:00, 96.05it/s] \n",
      " 94%|█████████▍| 471/500 [3:01:36<11:04, 22.90s/it]"
     ]
    },
    {
     "name": "stdout",
     "output_type": "stream",
     "text": [
      "--------------------\n",
      " nEvents = 2000\n",
      " nPMTs   = 30912\n",
      " nODPMTs = 0\n",
      "--------------------\n",
      "@@@ Start analysing data\n"
     ]
    },
    {
     "name": "stderr",
     "output_type": "stream",
     "text": [
      "100%|██████████| 2000/2000 [00:20<00:00, 96.33it/s] \n",
      " 94%|█████████▍| 472/500 [3:01:59<10:39, 22.85s/it]"
     ]
    },
    {
     "name": "stdout",
     "output_type": "stream",
     "text": [
      "--------------------\n",
      " nEvents = 2000\n",
      " nPMTs   = 30912\n",
      " nODPMTs = 0\n",
      "--------------------\n",
      "@@@ Start analysing data\n"
     ]
    },
    {
     "name": "stderr",
     "output_type": "stream",
     "text": [
      "100%|██████████| 2000/2000 [00:20<00:00, 95.77it/s] \n",
      " 95%|█████████▍| 473/500 [3:02:22<10:17, 22.87s/it]"
     ]
    },
    {
     "name": "stdout",
     "output_type": "stream",
     "text": [
      "--------------------\n",
      " nEvents = 2000\n",
      " nPMTs   = 30912\n",
      " nODPMTs = 0\n",
      "--------------------\n",
      "@@@ Start analysing data\n"
     ]
    },
    {
     "name": "stderr",
     "output_type": "stream",
     "text": [
      "100%|██████████| 2000/2000 [00:21<00:00, 93.45it/s] \n",
      " 95%|█████████▍| 474/500 [3:02:45<09:58, 23.03s/it]"
     ]
    },
    {
     "name": "stdout",
     "output_type": "stream",
     "text": [
      "--------------------\n",
      " nEvents = 2000\n",
      " nPMTs   = 30912\n",
      " nODPMTs = 0\n",
      "--------------------\n",
      "@@@ Start analysing data\n"
     ]
    },
    {
     "name": "stderr",
     "output_type": "stream",
     "text": [
      "100%|██████████| 2000/2000 [00:20<00:00, 96.46it/s] \n",
      " 95%|█████████▌| 475/500 [3:03:08<09:32, 22.88s/it]"
     ]
    },
    {
     "name": "stdout",
     "output_type": "stream",
     "text": [
      "--------------------\n",
      " nEvents = 2000\n",
      " nPMTs   = 30912\n",
      " nODPMTs = 0\n",
      "--------------------\n",
      "@@@ Start analysing data\n"
     ]
    },
    {
     "name": "stderr",
     "output_type": "stream",
     "text": [
      "100%|██████████| 2000/2000 [00:20<00:00, 96.85it/s] \n",
      " 95%|█████████▌| 476/500 [3:03:30<09:07, 22.81s/it]"
     ]
    },
    {
     "name": "stdout",
     "output_type": "stream",
     "text": [
      "--------------------\n",
      " nEvents = 2000\n",
      " nPMTs   = 30912\n",
      " nODPMTs = 0\n",
      "--------------------\n",
      "@@@ Start analysing data\n"
     ]
    },
    {
     "name": "stderr",
     "output_type": "stream",
     "text": [
      "100%|██████████| 2000/2000 [00:21<00:00, 93.25it/s] \n",
      " 95%|█████████▌| 477/500 [3:03:54<08:48, 22.99s/it]"
     ]
    },
    {
     "name": "stdout",
     "output_type": "stream",
     "text": [
      "--------------------\n",
      " nEvents = 2000\n",
      " nPMTs   = 30912\n",
      " nODPMTs = 0\n",
      "--------------------\n",
      "@@@ Start analysing data\n"
     ]
    },
    {
     "name": "stderr",
     "output_type": "stream",
     "text": [
      "100%|██████████| 2000/2000 [00:20<00:00, 95.79it/s] \n",
      " 96%|█████████▌| 478/500 [3:04:16<08:24, 22.92s/it]"
     ]
    },
    {
     "name": "stdout",
     "output_type": "stream",
     "text": [
      "--------------------\n",
      " nEvents = 2000\n",
      " nPMTs   = 30912\n",
      " nODPMTs = 0\n",
      "--------------------\n",
      "@@@ Start analysing data\n"
     ]
    },
    {
     "name": "stderr",
     "output_type": "stream",
     "text": [
      "100%|██████████| 2000/2000 [00:21<00:00, 94.29it/s] \n",
      " 96%|█████████▌| 479/500 [3:04:40<08:03, 23.00s/it]"
     ]
    },
    {
     "name": "stdout",
     "output_type": "stream",
     "text": [
      "--------------------\n",
      " nEvents = 2000\n",
      " nPMTs   = 30912\n",
      " nODPMTs = 0\n",
      "--------------------\n",
      "@@@ Start analysing data\n"
     ]
    },
    {
     "name": "stderr",
     "output_type": "stream",
     "text": [
      "100%|██████████| 2000/2000 [00:20<00:00, 95.36it/s] \n",
      " 96%|█████████▌| 480/500 [3:05:03<07:40, 23.02s/it]"
     ]
    },
    {
     "name": "stdout",
     "output_type": "stream",
     "text": [
      "--------------------\n",
      " nEvents = 2000\n",
      " nPMTs   = 30912\n",
      " nODPMTs = 0\n",
      "--------------------\n",
      "@@@ Start analysing data\n"
     ]
    },
    {
     "name": "stderr",
     "output_type": "stream",
     "text": [
      "100%|██████████| 2000/2000 [00:21<00:00, 93.16it/s] \n",
      " 96%|█████████▌| 481/500 [3:05:26<07:19, 23.14s/it]"
     ]
    },
    {
     "name": "stdout",
     "output_type": "stream",
     "text": [
      "--------------------\n",
      " nEvents = 2000\n",
      " nPMTs   = 30912\n",
      " nODPMTs = 0\n",
      "--------------------\n",
      "@@@ Start analysing data\n"
     ]
    },
    {
     "name": "stderr",
     "output_type": "stream",
     "text": [
      "100%|██████████| 2000/2000 [00:21<00:00, 94.04it/s] \n",
      " 96%|█████████▋| 482/500 [3:05:49<06:57, 23.18s/it]"
     ]
    },
    {
     "name": "stdout",
     "output_type": "stream",
     "text": [
      "--------------------\n",
      " nEvents = 2000\n",
      " nPMTs   = 30912\n",
      " nODPMTs = 0\n",
      "--------------------\n",
      "@@@ Start analysing data\n"
     ]
    },
    {
     "name": "stderr",
     "output_type": "stream",
     "text": [
      "100%|██████████| 2000/2000 [00:21<00:00, 92.63it/s] \n",
      " 97%|█████████▋| 483/500 [3:06:13<06:35, 23.27s/it]"
     ]
    },
    {
     "name": "stdout",
     "output_type": "stream",
     "text": [
      "--------------------\n",
      " nEvents = 2000\n",
      " nPMTs   = 30912\n",
      " nODPMTs = 0\n",
      "--------------------\n",
      "@@@ Start analysing data\n"
     ]
    },
    {
     "name": "stderr",
     "output_type": "stream",
     "text": [
      "100%|██████████| 2000/2000 [00:21<00:00, 94.54it/s] \n",
      " 97%|█████████▋| 484/500 [3:06:36<06:11, 23.21s/it]"
     ]
    },
    {
     "name": "stdout",
     "output_type": "stream",
     "text": [
      "--------------------\n",
      " nEvents = 2000\n",
      " nPMTs   = 30912\n",
      " nODPMTs = 0\n",
      "--------------------\n",
      "@@@ Start analysing data\n"
     ]
    },
    {
     "name": "stderr",
     "output_type": "stream",
     "text": [
      "100%|██████████| 2000/2000 [00:21<00:00, 94.33it/s] \n",
      " 97%|█████████▋| 485/500 [3:06:59<05:48, 23.20s/it]"
     ]
    },
    {
     "name": "stdout",
     "output_type": "stream",
     "text": [
      "--------------------\n",
      " nEvents = 2000\n",
      " nPMTs   = 30912\n",
      " nODPMTs = 0\n",
      "--------------------\n",
      "@@@ Start analysing data\n"
     ]
    },
    {
     "name": "stderr",
     "output_type": "stream",
     "text": [
      "100%|██████████| 2000/2000 [00:21<00:00, 94.10it/s]\n",
      " 97%|█████████▋| 486/500 [3:07:22<05:25, 23.22s/it]"
     ]
    },
    {
     "name": "stdout",
     "output_type": "stream",
     "text": [
      "--------------------\n",
      " nEvents = 2000\n",
      " nPMTs   = 30912\n",
      " nODPMTs = 0\n",
      "--------------------\n",
      "@@@ Start analysing data\n"
     ]
    },
    {
     "name": "stderr",
     "output_type": "stream",
     "text": [
      "100%|██████████| 2000/2000 [00:21<00:00, 92.52it/s]\n",
      " 97%|█████████▋| 487/500 [3:07:46<05:03, 23.33s/it]"
     ]
    },
    {
     "name": "stdout",
     "output_type": "stream",
     "text": [
      "--------------------\n",
      " nEvents = 2000\n",
      " nPMTs   = 30912\n",
      " nODPMTs = 0\n",
      "--------------------\n",
      "@@@ Start analysing data\n"
     ]
    },
    {
     "name": "stderr",
     "output_type": "stream",
     "text": [
      "100%|██████████| 2000/2000 [00:21<00:00, 94.64it/s] \n",
      " 98%|█████████▊| 488/500 [3:08:09<04:38, 23.24s/it]"
     ]
    },
    {
     "name": "stdout",
     "output_type": "stream",
     "text": [
      "--------------------\n",
      " nEvents = 2000\n",
      " nPMTs   = 30912\n",
      " nODPMTs = 0\n",
      "--------------------\n",
      "@@@ Start analysing data\n"
     ]
    },
    {
     "name": "stderr",
     "output_type": "stream",
     "text": [
      "100%|██████████| 2000/2000 [00:21<00:00, 94.21it/s] \n",
      " 98%|█████████▊| 489/500 [3:08:32<04:15, 23.23s/it]"
     ]
    },
    {
     "name": "stdout",
     "output_type": "stream",
     "text": [
      "--------------------\n",
      " nEvents = 2000\n",
      " nPMTs   = 30912\n",
      " nODPMTs = 0\n",
      "--------------------\n",
      "@@@ Start analysing data\n"
     ]
    },
    {
     "name": "stderr",
     "output_type": "stream",
     "text": [
      "100%|██████████| 2000/2000 [00:21<00:00, 94.18it/s] \n",
      " 98%|█████████▊| 490/500 [3:08:55<03:52, 23.24s/it]"
     ]
    },
    {
     "name": "stdout",
     "output_type": "stream",
     "text": [
      "--------------------\n",
      " nEvents = 2000\n",
      " nPMTs   = 30912\n",
      " nODPMTs = 0\n",
      "--------------------\n",
      "@@@ Start analysing data\n"
     ]
    },
    {
     "name": "stderr",
     "output_type": "stream",
     "text": [
      "100%|██████████| 2000/2000 [00:21<00:00, 92.77it/s] \n",
      " 98%|█████████▊| 491/500 [3:09:19<03:29, 23.29s/it]"
     ]
    },
    {
     "name": "stdout",
     "output_type": "stream",
     "text": [
      "--------------------\n",
      " nEvents = 2000\n",
      " nPMTs   = 30912\n",
      " nODPMTs = 0\n",
      "--------------------\n",
      "@@@ Start analysing data\n"
     ]
    },
    {
     "name": "stderr",
     "output_type": "stream",
     "text": [
      "100%|██████████| 2000/2000 [00:21<00:00, 94.89it/s] \n",
      " 98%|█████████▊| 492/500 [3:09:42<03:05, 23.19s/it]"
     ]
    },
    {
     "name": "stdout",
     "output_type": "stream",
     "text": [
      "--------------------\n",
      " nEvents = 2000\n",
      " nPMTs   = 30912\n",
      " nODPMTs = 0\n",
      "--------------------\n",
      "@@@ Start analysing data\n"
     ]
    },
    {
     "name": "stderr",
     "output_type": "stream",
     "text": [
      "100%|██████████| 2000/2000 [00:21<00:00, 94.44it/s] \n",
      " 99%|█████████▊| 493/500 [3:10:05<02:42, 23.17s/it]"
     ]
    },
    {
     "name": "stdout",
     "output_type": "stream",
     "text": [
      "--------------------\n",
      " nEvents = 2000\n",
      " nPMTs   = 30912\n",
      " nODPMTs = 0\n",
      "--------------------\n",
      "@@@ Start analysing data\n"
     ]
    },
    {
     "name": "stderr",
     "output_type": "stream",
     "text": [
      "100%|██████████| 2000/2000 [00:21<00:00, 94.88it/s] \n",
      " 99%|█████████▉| 494/500 [3:10:28<02:18, 23.17s/it]"
     ]
    },
    {
     "name": "stdout",
     "output_type": "stream",
     "text": [
      "--------------------\n",
      " nEvents = 2000\n",
      " nPMTs   = 30912\n",
      " nODPMTs = 0\n",
      "--------------------\n",
      "@@@ Start analysing data\n"
     ]
    },
    {
     "name": "stderr",
     "output_type": "stream",
     "text": [
      "100%|██████████| 2000/2000 [00:21<00:00, 92.73it/s] \n",
      " 99%|█████████▉| 495/500 [3:10:52<01:56, 23.29s/it]"
     ]
    },
    {
     "name": "stdout",
     "output_type": "stream",
     "text": [
      "--------------------\n",
      " nEvents = 2000\n",
      " nPMTs   = 30912\n",
      " nODPMTs = 0\n",
      "--------------------\n",
      "@@@ Start analysing data\n"
     ]
    },
    {
     "name": "stderr",
     "output_type": "stream",
     "text": [
      "100%|██████████| 2000/2000 [00:21<00:00, 94.57it/s]\n",
      " 99%|█████████▉| 496/500 [3:11:15<01:32, 23.21s/it]"
     ]
    },
    {
     "name": "stdout",
     "output_type": "stream",
     "text": [
      "--------------------\n",
      " nEvents = 2000\n",
      " nPMTs   = 30912\n",
      " nODPMTs = 0\n",
      "--------------------\n",
      "@@@ Start analysing data\n"
     ]
    },
    {
     "name": "stderr",
     "output_type": "stream",
     "text": [
      "100%|██████████| 2000/2000 [00:21<00:00, 94.79it/s] \n",
      " 99%|█████████▉| 497/500 [3:11:38<01:09, 23.16s/it]"
     ]
    },
    {
     "name": "stdout",
     "output_type": "stream",
     "text": [
      "--------------------\n",
      " nEvents = 2000\n",
      " nPMTs   = 30912\n",
      " nODPMTs = 0\n",
      "--------------------\n",
      "@@@ Start analysing data\n"
     ]
    },
    {
     "name": "stderr",
     "output_type": "stream",
     "text": [
      "100%|██████████| 2000/2000 [00:22<00:00, 88.27it/s] \n",
      "100%|█████████▉| 498/500 [3:12:02<00:47, 23.59s/it]"
     ]
    },
    {
     "name": "stdout",
     "output_type": "stream",
     "text": [
      "--------------------\n",
      " nEvents = 2000\n",
      " nPMTs   = 30912\n",
      " nODPMTs = 0\n",
      "--------------------\n",
      "@@@ Start analysing data\n"
     ]
    },
    {
     "name": "stderr",
     "output_type": "stream",
     "text": [
      "100%|██████████| 2000/2000 [00:21<00:00, 94.13it/s] \n",
      "100%|█████████▉| 499/500 [3:12:26<00:23, 23.50s/it]"
     ]
    },
    {
     "name": "stdout",
     "output_type": "stream",
     "text": [
      "--------------------\n",
      " nEvents = 2000\n",
      " nPMTs   = 30912\n",
      " nODPMTs = 0\n",
      "--------------------\n",
      "@@@ Start analysing data\n"
     ]
    },
    {
     "name": "stderr",
     "output_type": "stream",
     "text": [
      "100%|██████████| 2000/2000 [00:22<00:00, 88.48it/s] \n",
      "100%|██████████| 500/500 [3:12:50<00:00, 23.14s/it]\n",
      "Warning in <TClassTable::Add>: class WCSimRootCherenkovHit already in TClassTable\n",
      "Warning in <TClassTable::Add>: class WCSimRootCherenkovDigiHit already in TClassTable\n",
      "Warning in <TClassTable::Add>: class WCSimRootPi0 already in TClassTable\n",
      "Warning in <TClassTable::Add>: class WCSimRootTrigger already in TClassTable\n",
      "Warning in <TClassTable::Add>: class WCSimRootEvent already in TClassTable\n",
      "Warning in <TClassTable::Add>: class WCSimRootGeom already in TClassTable\n",
      "Warning in <TFile::Init>: no StreamerInfo found in /users/yewzzang/WCSim_KNO/WCSim_v1.8.0-build/libWCSimRootDict_rdict.pcm therefore preventing schema evolution when reading this file. The file was produced with version 6.28/04 of ROOT.\n",
      "Error in <TUnixSystem::Load>: version mismatch, /users/yewzzang/WCSim_KNO/WCSim_v1.8.0-build/libWCSimRoot.so = 62804, ROOT = 63002\n",
      "Warning in <TClassTable::Add>: class WCSimRootTrigger already in TClassTable\n",
      "Warning in <TClassTable::Add>: class WCSimRootEventHeader already in TClassTable\n",
      "Warning in <TClassTable::Add>: class WCSimRootPi0 already in TClassTable\n",
      "Warning in <TClassTable::Add>: class WCSimRootPMT already in TClassTable\n",
      "Warning in <TClassTable::Add>: class WCSimRootOptions already in TClassTable\n",
      "Warning in <TClassTable::Add>: class WCSimRootTrack already in TClassTable\n",
      "Warning in <TClassTable::Add>: class WCSimRootCherenkovHitTime already in TClassTable\n",
      "Warning in <TClassTable::Add>: class WCSimRootCherenkovDigiHit already in TClassTable\n",
      "Warning in <TClassTable::Add>: class WCSimDarkNoiseOptions already in TClassTable\n"
     ]
    }
   ],
   "source": [
    "for files in tqdm(range(len(list_file))):\n",
    "\n",
    "    file_name = input_path + list_file[files]\n",
    "    output_file = output_path + list_file[files][:-5] + '.h5'\n",
    "\n",
    "    ROOT.gSystem.Load(\"/users/yewzzang/WCSim_KNO/WCSim_v1.8.0-build/libWCSimRoot.so\")\n",
    "    fin = ROOT.TFile(file_name)\n",
    "\n",
    "    eventT = fin.Get(\"wcsimT\")\n",
    "    event = ROOT.WCSimRootEvent()\n",
    "    eventT.SetBranchAddress(\"wcsimrootevent\", event)\n",
    "    eventT.GetBranch(\"wcsimrootevent\").SetAutoDelete(1)\n",
    "    eventT.GetEntry(0)\n",
    "    nEvents = eventT.GetEntries()\n",
    "\n",
    "    ## Load the geometry\n",
    "    geomT = fin.Get(\"wcsimGeoT\")\n",
    "    geom = ROOT.WCSimRootGeom()\n",
    "    geomT.SetBranchAddress(\"wcsimrootgeom\", geom)\n",
    "    geomT.GetEntry(0)\n",
    "    nODPMTs = geom.GetODWCNumPMT()\n",
    "    nPMTs = geom.GetWCNumPMT()\n",
    "\n",
    "    print(\"--------------------\")\n",
    "    print(f\" nEvents = {nEvents}\")\n",
    "    print(f\" nPMTs   = {nPMTs}\")\n",
    "    print(f\" nODPMTs = {nODPMTs}\")\n",
    "    print(\"--------------------\")\n",
    "\n",
    "    out_pmt_x = np.zeros(nPMTs)\n",
    "    out_pmt_y = np.zeros(nPMTs)\n",
    "    out_pmt_z = np.zeros(nPMTs)\n",
    "\n",
    "    out_pmt_px = np.zeros(nPMTs)\n",
    "    out_pmt_py = np.zeros(nPMTs)\n",
    "    out_pmt_pz = np.zeros(nPMTs)\n",
    "\n",
    "    for iPMT in range(nPMTs):\n",
    "        pmt = geom.GetPMT(iPMT)\n",
    "        out_pmt_x[iPMT] = pmt.GetPosition(0)\n",
    "        out_pmt_y[iPMT] = pmt.GetPosition(1)\n",
    "        out_pmt_z[iPMT] = pmt.GetPosition(2)\n",
    "        out_pmt_px[iPMT] = pmt.GetOrientation(0)\n",
    "        out_pmt_py[iPMT] = pmt.GetOrientation(1)\n",
    "        out_pmt_pz[iPMT] = pmt.GetOrientation(2)\n",
    "\n",
    "    print(\"@@@ Start analysing data\")\n",
    "    out_vtx_x = np.zeros(nEvents)\n",
    "    out_vtx_y = np.zeros(nEvents)\n",
    "    out_vtx_z = np.zeros(nEvents)\n",
    "    out_vtx_t = np.zeros(nEvents)\n",
    "\n",
    "    out_vtx_px = np.zeros(nEvents)\n",
    "    out_vtx_py = np.zeros(nEvents)\n",
    "    out_vtx_pz = np.zeros(nEvents)\n",
    "    out_vtx_ke = np.zeros(nEvents)\n",
    "\n",
    "    out_pmt_q = np.zeros((nEvents, nPMTs))\n",
    "    out_pmt_t = np.zeros((nEvents, nPMTs))\n",
    "\n",
    "    for iEvent in tqdm(range(nEvents)):\n",
    "        eventT.GetEvent(iEvent)\n",
    "        trigger = event.GetTrigger(0)\n",
    "\n",
    "        nVtxs = trigger.GetNvtxs()\n",
    "        if nVtxs < 1: continue\n",
    "        out_vtx_x[iEvent] = trigger.GetVtx(0)\n",
    "        out_vtx_y[iEvent] = trigger.GetVtx(1)\n",
    "        out_vtx_z[iEvent] = trigger.GetVtx(2)\n",
    "        out_vtx_t[iEvent] = 0\n",
    "\n",
    "        out_vtx_px[iEvent] = 0\n",
    "        out_vtx_py[iEvent] = 0\n",
    "        out_vtx_pz[iEvent] = 0\n",
    "        out_vtx_ke[iEvent] = 0\n",
    "\n",
    "        nHitsC = trigger.GetNcherenkovdigihits()\n",
    "        for iHit in range(nHitsC):\n",
    "            hit = trigger.GetCherenkovDigiHits().At(iHit)\n",
    "            iPMT = hit.GetTubeId()-1\n",
    "            out_pmt_q[iEvent, iPMT] = hit.GetQ()\n",
    "            out_pmt_t[iEvent, iPMT] = hit.GetT()\n",
    "\n",
    "    kwargs = {'dtype':'f4', 'compression':'lzf'}\n",
    "    with h5py.File(output_file, 'w', libver='latest') as fout:\n",
    "        gGeom = fout.create_group('geom')\n",
    "        gGeom.create_dataset('pmt_x', data=out_pmt_x, **kwargs)\n",
    "        gGeom.create_dataset('pmt_y', data=out_pmt_y, **kwargs)\n",
    "        gGeom.create_dataset('pmt_z', data=out_pmt_z, **kwargs)\n",
    "\n",
    "        gGeom.create_dataset('pmt_px', data=out_pmt_px, **kwargs)\n",
    "        gGeom.create_dataset('pmt_py', data=out_pmt_py, **kwargs)\n",
    "        gGeom.create_dataset('pmt_pz', data=out_pmt_pz, **kwargs)\n",
    "\n",
    "        gEvent = fout.create_group('event')\n",
    "        gEvent.create_dataset('vtx_x', data=out_vtx_x, **kwargs)\n",
    "        gEvent.create_dataset('vtx_y', data=out_vtx_y, **kwargs)\n",
    "        gEvent.create_dataset('vtx_z', data=out_vtx_z, **kwargs)\n",
    "        gEvent.create_dataset('vtx_t', data=out_vtx_t, **kwargs)\n",
    "\n",
    "        gEvent.create_dataset('vtx_px', data=out_vtx_px, **kwargs)\n",
    "        gEvent.create_dataset('vtx_py', data=out_vtx_py, **kwargs)\n",
    "        gEvent.create_dataset('vtx_pz', data=out_vtx_pz, **kwargs)\n",
    "        gEvent.create_dataset('vtx_ke', data=out_vtx_ke, **kwargs)\n",
    "\n",
    "        gEvent.create_dataset('pmt_q', data=out_pmt_q, **kwargs)\n",
    "        gEvent.create_dataset('pmt_t', data=out_pmt_t, **kwargs)"
   ]
  },
  {
   "cell_type": "code",
   "execution_count": null,
   "metadata": {},
   "outputs": [],
   "source": []
  },
  {
   "cell_type": "code",
   "execution_count": null,
   "metadata": {},
   "outputs": [],
   "source": []
  },
  {
   "cell_type": "code",
   "execution_count": null,
   "metadata": {},
   "outputs": [],
   "source": []
  }
 ],
 "metadata": {
  "kernelspec": {
   "display_name": "Python 3",
   "language": "python",
   "name": "python3"
  },
  "language_info": {
   "codemirror_mode": {
    "name": "ipython",
    "version": 3
   },
   "file_extension": ".py",
   "mimetype": "text/x-python",
   "name": "python",
   "nbconvert_exporter": "python",
   "pygments_lexer": "ipython3",
   "version": "3.11.0"
  }
 },
 "nbformat": 4,
 "nbformat_minor": 2
}
