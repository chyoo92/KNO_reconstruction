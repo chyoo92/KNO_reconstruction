{
 "cells": [
  {
   "cell_type": "code",
   "execution_count": 11,
   "metadata": {},
   "outputs": [],
   "source": [
    "import os\n",
    "import ROOT\n",
    "import numpy as np\n",
    "import h5py \n",
    "from tqdm import tqdm\n",
    "import torch"
   ]
  },
  {
   "cell_type": "code",
   "execution_count": 2,
   "metadata": {},
   "outputs": [],
   "source": [
    "input_path = \"/store/cpnr/users/yewzzang/KNO_h5/ele_500Mev/\"\n",
    "output_path = \"/store/cpnr/users/yewzzang/KNO_h5/ele_500MeV_cut/\""
   ]
  },
  {
   "cell_type": "code",
   "execution_count": 20,
   "metadata": {},
   "outputs": [],
   "source": [
    "ff = h5py.File(\"/store/cpnr/users/yewzzang/KNO_h5/ele_500MeV_cut/elec_KNO_Type3_20cov_500Mev_iso_evt_2k_fv0.5m_100.h5\", 'r', libver='latest', swmr=True)"
   ]
  },
  {
   "cell_type": "code",
   "execution_count": 21,
   "metadata": {},
   "outputs": [
    {
     "data": {
      "text/plain": [
       "<KeysViewHDF5 ['pmt_q', 'pmt_t', 'vtx_x', 'vtx_y', 'vtx_z']>"
      ]
     },
     "execution_count": 21,
     "metadata": {},
     "output_type": "execute_result"
    }
   ],
   "source": [
    "ff['event'].keys()"
   ]
  },
  {
   "cell_type": "code",
   "execution_count": 22,
   "metadata": {},
   "outputs": [
    {
     "data": {
      "text/plain": [
       "(1270, 1)"
      ]
     },
     "execution_count": 22,
     "metadata": {},
     "output_type": "execute_result"
    }
   ],
   "source": [
    "np.array(ff['event']['vtx_x']).shape"
   ]
  },
  {
   "cell_type": "code",
   "execution_count": 23,
   "metadata": {},
   "outputs": [
    {
     "data": {
      "text/plain": [
       "(1270, 1)"
      ]
     },
     "execution_count": 23,
     "metadata": {},
     "output_type": "execute_result"
    }
   ],
   "source": [
    "np.array(ff['event']['vtx_y']).shape"
   ]
  },
  {
   "cell_type": "code",
   "execution_count": 24,
   "metadata": {},
   "outputs": [
    {
     "data": {
      "text/plain": [
       "(1270, 30912)"
      ]
     },
     "execution_count": 24,
     "metadata": {},
     "output_type": "execute_result"
    }
   ],
   "source": [
    "np.array(ff['event']['pmt_t']).shape"
   ]
  },
  {
   "cell_type": "code",
   "execution_count": 3,
   "metadata": {},
   "outputs": [],
   "source": [
    "list_file = os.listdir(input_path)"
   ]
  },
  {
   "cell_type": "code",
   "execution_count": 4,
   "metadata": {},
   "outputs": [
    {
     "name": "stderr",
     "output_type": "stream",
     "text": [
      "  0%|          | 0/500 [00:00<?, ?it/s]"
     ]
    },
    {
     "name": "stdout",
     "output_type": "stream",
     "text": [
      "(0, 30912) ddddd\n",
      "(1, 30912)\n"
     ]
    },
    {
     "name": "stderr",
     "output_type": "stream",
     "text": []
    },
    {
     "name": "stdout",
     "output_type": "stream",
     "text": [
      "(2, 30912) 0\n",
      "(2, 30912) ddddd\n",
      "(1, 30912)\n"
     ]
    },
    {
     "name": "stderr",
     "output_type": "stream",
     "text": []
    },
    {
     "name": "stdout",
     "output_type": "stream",
     "text": [
      "(4, 30912) 1\n",
      "(4, 30912) ddddd\n",
      "(1, 30912)\n"
     ]
    },
    {
     "name": "stderr",
     "output_type": "stream",
     "text": []
    },
    {
     "name": "stdout",
     "output_type": "stream",
     "text": [
      "(6, 30912) 2\n"
     ]
    },
    {
     "name": "stderr",
     "output_type": "stream",
     "text": []
    },
    {
     "name": "stdout",
     "output_type": "stream",
     "text": [
      "nothing 3\n"
     ]
    },
    {
     "name": "stderr",
     "output_type": "stream",
     "text": []
    },
    {
     "name": "stdout",
     "output_type": "stream",
     "text": [
      "nothing 4\n",
      "(6, 30912) ddddd\n",
      "(1, 30912)\n"
     ]
    },
    {
     "name": "stderr",
     "output_type": "stream",
     "text": []
    },
    {
     "name": "stdout",
     "output_type": "stream",
     "text": [
      "(8, 30912) 5\n",
      "(8, 30912) ddddd\n",
      "(1, 30912)\n"
     ]
    },
    {
     "name": "stderr",
     "output_type": "stream",
     "text": []
    },
    {
     "name": "stdout",
     "output_type": "stream",
     "text": [
      "(10, 30912) 6\n",
      "(10, 30912) ddddd\n",
      "(1, 30912)\n"
     ]
    },
    {
     "name": "stderr",
     "output_type": "stream",
     "text": []
    },
    {
     "name": "stdout",
     "output_type": "stream",
     "text": [
      "(12, 30912) 7\n",
      "(12, 30912) ddddd\n",
      "(1, 30912)\n"
     ]
    },
    {
     "name": "stderr",
     "output_type": "stream",
     "text": []
    },
    {
     "name": "stdout",
     "output_type": "stream",
     "text": [
      "(14, 30912) 8\n"
     ]
    },
    {
     "name": "stderr",
     "output_type": "stream",
     "text": [
      "  0%|          | 9/2000 [00:11<43:39,  1.32s/it]\n",
      "  0%|          | 0/500 [00:11<?, ?it/s]\n"
     ]
    },
    {
     "ename": "KeyboardInterrupt",
     "evalue": "",
     "output_type": "error",
     "traceback": [
      "\u001b[0;31m---------------------------------------------------------------------------\u001b[0m",
      "\u001b[0;31mKeyboardInterrupt\u001b[0m                         Traceback (most recent call last)",
      "Cell \u001b[0;32mIn[4], line 20\u001b[0m\n\u001b[1;32m     16\u001b[0m vtx_z_empty \u001b[38;5;241m=\u001b[39m np\u001b[38;5;241m.\u001b[39mempty((\u001b[38;5;241m0\u001b[39m,\u001b[38;5;241m1\u001b[39m))\n\u001b[1;32m     18\u001b[0m \u001b[38;5;28;01mfor\u001b[39;00m i \u001b[38;5;129;01min\u001b[39;00m tqdm(\u001b[38;5;28mrange\u001b[39m(\u001b[38;5;28mlen\u001b[39m(f[\u001b[38;5;124m'\u001b[39m\u001b[38;5;124mevent\u001b[39m\u001b[38;5;124m'\u001b[39m][\u001b[38;5;124m'\u001b[39m\u001b[38;5;124mpmt_q\u001b[39m\u001b[38;5;124m'\u001b[39m]))):\n\u001b[1;32m     19\u001b[0m \u001b[38;5;66;03m# for i in range(10):\u001b[39;00m\n\u001b[0;32m---> 20\u001b[0m     a \u001b[38;5;241m=\u001b[39m np\u001b[38;5;241m.\u001b[39marray(f[\u001b[38;5;124m'\u001b[39m\u001b[38;5;124mevent\u001b[39m\u001b[38;5;124m'\u001b[39m][\u001b[38;5;124m'\u001b[39m\u001b[38;5;124mpmt_q\u001b[39m\u001b[38;5;124m'\u001b[39m])[i][np\u001b[38;5;241m.\u001b[39marray(f[\u001b[38;5;124m'\u001b[39m\u001b[38;5;124mevent\u001b[39m\u001b[38;5;124m'\u001b[39m][\u001b[38;5;124m'\u001b[39m\u001b[38;5;124mpmt_q\u001b[39m\u001b[38;5;124m'\u001b[39m][i])\u001b[38;5;241m>\u001b[39m\u001b[38;5;241m0\u001b[39m]\n\u001b[1;32m     21\u001b[0m     cen_dis \u001b[38;5;241m=\u001b[39m [np\u001b[38;5;241m.\u001b[39marray(f[\u001b[38;5;124m'\u001b[39m\u001b[38;5;124mevent\u001b[39m\u001b[38;5;124m'\u001b[39m][\u001b[38;5;124m'\u001b[39m\u001b[38;5;124mvtx_x\u001b[39m\u001b[38;5;124m'\u001b[39m])[i],np\u001b[38;5;241m.\u001b[39marray(f[\u001b[38;5;124m'\u001b[39m\u001b[38;5;124mevent\u001b[39m\u001b[38;5;124m'\u001b[39m][\u001b[38;5;124m'\u001b[39m\u001b[38;5;124mvtx_y\u001b[39m\u001b[38;5;124m'\u001b[39m])[i],np\u001b[38;5;241m.\u001b[39marray(f[\u001b[38;5;124m'\u001b[39m\u001b[38;5;124mevent\u001b[39m\u001b[38;5;124m'\u001b[39m][\u001b[38;5;124m'\u001b[39m\u001b[38;5;124mvtx_z\u001b[39m\u001b[38;5;124m'\u001b[39m])[i]]\n\u001b[1;32m     23\u001b[0m     \u001b[38;5;28;01mif\u001b[39;00m (\u001b[38;5;28mlen\u001b[39m(a)\u001b[38;5;241m>\u001b[39m\u001b[38;5;241m500\u001b[39m)\u001b[38;5;241m&\u001b[39m(np\u001b[38;5;241m.\u001b[39mlinalg\u001b[38;5;241m.\u001b[39mnorm(aaa\u001b[38;5;241m-\u001b[39mnp\u001b[38;5;241m.\u001b[39marray(cen_dis))\u001b[38;5;241m<\u001b[39m\u001b[38;5;241m3500\u001b[39m):\n",
      "File \u001b[0;32mh5py/_objects.pyx:54\u001b[0m, in \u001b[0;36mh5py._objects.with_phil.wrapper\u001b[0;34m()\u001b[0m\n",
      "File \u001b[0;32mh5py/_objects.pyx:55\u001b[0m, in \u001b[0;36mh5py._objects.with_phil.wrapper\u001b[0;34m()\u001b[0m\n",
      "File \u001b[0;32m~/.conda/envs/pyg24/lib/python3.11/site-packages/h5py/_hl/dataset.py:1063\u001b[0m, in \u001b[0;36mDataset.__array__\u001b[0;34m(self, dtype)\u001b[0m\n\u001b[1;32m   1060\u001b[0m \u001b[38;5;28;01mif\u001b[39;00m \u001b[38;5;28mself\u001b[39m\u001b[38;5;241m.\u001b[39msize \u001b[38;5;241m==\u001b[39m \u001b[38;5;241m0\u001b[39m:\n\u001b[1;32m   1061\u001b[0m     \u001b[38;5;28;01mreturn\u001b[39;00m arr\n\u001b[0;32m-> 1063\u001b[0m \u001b[38;5;28;43mself\u001b[39;49m\u001b[38;5;241;43m.\u001b[39;49m\u001b[43mread_direct\u001b[49m\u001b[43m(\u001b[49m\u001b[43marr\u001b[49m\u001b[43m)\u001b[49m\n\u001b[1;32m   1064\u001b[0m \u001b[38;5;28;01mreturn\u001b[39;00m arr\n",
      "File \u001b[0;32m~/.conda/envs/pyg24/lib/python3.11/site-packages/h5py/_hl/dataset.py:1024\u001b[0m, in \u001b[0;36mDataset.read_direct\u001b[0;34m(self, dest, source_sel, dest_sel)\u001b[0m\n\u001b[1;32m   1021\u001b[0m     dest_sel \u001b[38;5;241m=\u001b[39m sel\u001b[38;5;241m.\u001b[39mselect(dest\u001b[38;5;241m.\u001b[39mshape, dest_sel)\n\u001b[1;32m   1023\u001b[0m \u001b[38;5;28;01mfor\u001b[39;00m mspace \u001b[38;5;129;01min\u001b[39;00m dest_sel\u001b[38;5;241m.\u001b[39mbroadcast(source_sel\u001b[38;5;241m.\u001b[39marray_shape):\n\u001b[0;32m-> 1024\u001b[0m     \u001b[38;5;28;43mself\u001b[39;49m\u001b[38;5;241;43m.\u001b[39;49m\u001b[43mid\u001b[49m\u001b[38;5;241;43m.\u001b[39;49m\u001b[43mread\u001b[49m\u001b[43m(\u001b[49m\u001b[43mmspace\u001b[49m\u001b[43m,\u001b[49m\u001b[43m \u001b[49m\u001b[43mfspace\u001b[49m\u001b[43m,\u001b[49m\u001b[43m \u001b[49m\u001b[43mdest\u001b[49m\u001b[43m,\u001b[49m\u001b[43m \u001b[49m\u001b[43mdxpl\u001b[49m\u001b[38;5;241;43m=\u001b[39;49m\u001b[38;5;28;43mself\u001b[39;49m\u001b[38;5;241;43m.\u001b[39;49m\u001b[43m_dxpl\u001b[49m\u001b[43m)\u001b[49m\n",
      "\u001b[0;31mKeyboardInterrupt\u001b[0m: "
     ]
    }
   ],
   "source": [
    "for files in tqdm(range(len(list_file))):\n",
    "\n",
    "    file_name = input_path + list_file[files]\n",
    "    output_file = output_path + list_file[files]\n",
    "\n",
    "    f = h5py.File(file_name, 'r', libver='latest', swmr=True)\n",
    "    aaa = np.array((0,0,0))\n",
    "\n",
    "\n",
    "\n",
    "    pmt_q_empty = np.empty((0,30912))\n",
    "    pmt_t_empty = np.empty((0,30912))\n",
    "\n",
    "    vtx_x_empty = np.empty((0,1))\n",
    "    vtx_y_empty = np.empty((0,1))\n",
    "    vtx_z_empty = np.empty((0,1))\n",
    "\n",
    "    for i in tqdm(range(len(f['event']['pmt_q']))):\n",
    "    # for i in range(10):\n",
    "        a = np.array(f['event']['pmt_q'])[i][np.array(f['event']['pmt_q'][i])>0]\n",
    "        cen_dis = [np.array(f['event']['vtx_x'])[i],np.array(f['event']['vtx_y'])[i],np.array(f['event']['vtx_z'])[i]]\n",
    "\n",
    "        if (len(a)>500)&(np.linalg.norm(aaa-np.array(cen_dis))<3500):\n",
    "            print(pmt_q_empty.shape,'ddddd')\n",
    "            print(np.array(f['event']['pmt_q'])[i].reshape(-1,30912).shape)\n",
    "            pmt_q_empty = np.concatenate((pmt_q_empty,np.array(f['event']['pmt_q'])[i].reshape(-1,30912)),axis=0)\n",
    "            pmt_t_empty = np.concatenate((pmt_t_empty,np.array(f['event']['pmt_t'])[i].reshape(-1,30912)),axis=0)\n",
    "\n",
    "            vtx_x_empty = np.concatenate((vtx_x_empty,np.array(f['event']['vtx_x'])[i].reshape(-1,1)),axis=0)\n",
    "            vtx_y_empty = np.concatenate((vtx_y_empty,np.array(f['event']['vtx_y'])[i].reshape(-1,1)),axis=0)\n",
    "            vtx_z_empty = np.concatenate((vtx_z_empty,np.array(f['event']['vtx_z'])[i].reshape(-1,1)),axis=0)\n",
    "            print(pmt_q_empty.shape,i)\n",
    "\n",
    "\n",
    "        else:\n",
    "            print(\"nothing\",i)\n",
    "\n",
    "    stop\n",
    "\n",
    "\n",
    "    # kwargs = {'dtype':'f4', 'compression':'lzf'}\n",
    "    # with h5py.File(output_file, 'w', libver='latest') as fout:\n",
    "    #     gGeom = fout.create_group('geom')\n",
    "    #     gGeom.create_dataset('pmt_x', data=np.array(f['geom']['pmt_x']), **kwargs)\n",
    "    #     gGeom.create_dataset('pmt_y', data=np.array(f['geom']['pmt_y']), **kwargs)\n",
    "    #     gGeom.create_dataset('pmt_z', data=np.array(f['geom']['pmt_z']), **kwargs)\n",
    "\n",
    "\n",
    "    #     gEvent = fout.create_group('event')\n",
    "    #     gEvent.create_dataset('vtx_x', data=vtx_x_empty, **kwargs)\n",
    "    #     gEvent.create_dataset('vtx_y', data=vtx_y_empty, **kwargs)\n",
    "    #     gEvent.create_dataset('vtx_z', data=vtx_z_empty, **kwargs)\n",
    "\n",
    "    #     gEvent.create_dataset('pmt_q', data=pmt_q_empty, **kwargs)\n",
    "    #     gEvent.create_dataset('pmt_t', data=pmt_t_empty, **kwargs)\n",
    "            "
   ]
  },
  {
   "cell_type": "code",
   "execution_count": null,
   "metadata": {},
   "outputs": [],
   "source": []
  }
 ],
 "metadata": {
  "kernelspec": {
   "display_name": "Python 3",
   "language": "python",
   "name": "python3"
  },
  "language_info": {
   "codemirror_mode": {
    "name": "ipython",
    "version": 3
   },
   "file_extension": ".py",
   "mimetype": "text/x-python",
   "name": "python",
   "nbconvert_exporter": "python",
   "pygments_lexer": "ipython3",
   "version": "3.11.0"
  }
 },
 "nbformat": 4,
 "nbformat_minor": 2
}
