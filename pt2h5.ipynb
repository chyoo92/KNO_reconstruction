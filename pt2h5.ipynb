{
 "cells": [
  {
   "cell_type": "code",
   "execution_count": 1,
   "metadata": {},
   "outputs": [],
   "source": [
    "import torch\n",
    "import h5py\n",
    "import numpy as np\n",
    "import os"
   ]
  },
  {
   "cell_type": "code",
   "execution_count": 2,
   "metadata": {},
   "outputs": [],
   "source": [
    "input_path = '/home/chyoo/work/KNO_VRDL/data/KNO_500_pmt500_dis3500/'\n",
    "files = os.listdir(input_path)"
   ]
  },
  {
   "cell_type": "code",
   "execution_count": 3,
   "metadata": {},
   "outputs": [
    {
     "name": "stderr",
     "output_type": "stream",
     "text": [
      "/tmp/ipykernel_1955659/3276078646.py:7: UserWarning: swmr=True only affects read ('r') mode. For swmr write mode, set f.swmr_mode = True after opening the file.\n",
      "  with h5py.File(output_path, 'w', libver='latest', swmr=True) as fout:\n"
     ]
    }
   ],
   "source": [
    "for files_num in range(len(files)):\n",
    "    f = torch.load(input_path+files[files_num])\n",
    "\n",
    "    kwargs = {'dtype':'f4', 'compression':'lzf'}\n",
    "    #     with h5py.File(output_path, 'w', libver='latest', swmr=True) as fout:\n",
    "    output_path = '/home/chyoo/work/KNO_reconstruction/h5_file/KNO_500_pmt500_dis3500/'+files[files_num].split('.')[0]+'.h5'\n",
    "    with h5py.File(output_path, 'w', libver='latest', swmr=True) as fout:\n",
    "\n",
    "        g = fout.create_group('events')\n",
    "        for i in range(len(f)):\n",
    "            g.create_dataset('fea_'+str(i), data=f[i].x, chunks=(1,2),**kwargs)\n",
    "            g.create_dataset('pos_'+str(i), data=f[i].pos, chunks=(1,3),**kwargs)\n",
    "            g.create_dataset('label_'+str(i), data=f[i].y, chunks=(1,1),**kwargs) \n",
    "\n",
    "\n"
   ]
  },
  {
   "cell_type": "code",
   "execution_count": null,
   "metadata": {},
   "outputs": [],
   "source": []
  },
  {
   "cell_type": "code",
   "execution_count": null,
   "metadata": {},
   "outputs": [],
   "source": []
  },
  {
   "cell_type": "code",
   "execution_count": null,
   "metadata": {},
   "outputs": [],
   "source": []
  },
  {
   "cell_type": "code",
   "execution_count": 4,
   "metadata": {},
   "outputs": [],
   "source": [
    "# ff = h5py.File('test.h5','r', libver='latest', swmr=True)"
   ]
  },
  {
   "cell_type": "code",
   "execution_count": 5,
   "metadata": {},
   "outputs": [],
   "source": [
    "# len(f)"
   ]
  },
  {
   "cell_type": "code",
   "execution_count": null,
   "metadata": {},
   "outputs": [],
   "source": []
  },
  {
   "cell_type": "code",
   "execution_count": null,
   "metadata": {},
   "outputs": [],
   "source": []
  }
 ],
 "metadata": {
  "kernelspec": {
   "display_name": "pyg24",
   "language": "python",
   "name": "python3"
  },
  "language_info": {
   "codemirror_mode": {
    "name": "ipython",
    "version": 3
   },
   "file_extension": ".py",
   "mimetype": "text/x-python",
   "name": "python",
   "nbconvert_exporter": "python",
   "pygments_lexer": "ipython3",
   "version": "3.9.18"
  }
 },
 "nbformat": 4,
 "nbformat_minor": 2
}
