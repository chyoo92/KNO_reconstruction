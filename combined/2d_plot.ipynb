{
 "cells": [
  {
   "cell_type": "code",
   "execution_count": null,
   "metadata": {},
   "outputs": [],
   "source": [
    "import os\n",
    "import ROOT\n",
    "import numpy as np\n",
    "import h5py\n",
    "from tqdm import tqdm\n",
    "import argparse\n",
    "\n",
    "import math\n",
    "import matplotlib.pyplot as plt\n",
    "from mpl_toolkits.mplot3d import Axes3D"
   ]
  },
  {
   "cell_type": "code",
   "execution_count": null,
   "metadata": {},
   "outputs": [],
   "source": [
    "def calculate_angle(x, y):\n",
    "    # atan2 함수를 사용하여 각도를 계산\n",
    "    angle_rad = np.arctan2(y, x)\n",
    "\n",
    "    # 라디안을 도로 변환\n",
    "    angle_deg = np.rad2deg(angle_rad)\n",
    "\n",
    "    return angle_deg\n",
    "\n",
    "\n"
   ]
  },
  {
   "cell_type": "code",
   "execution_count": null,
   "metadata": {},
   "outputs": [],
   "source": [
    "\n",
    "fin = h5py.File(\"/store/cpnr/users/yewzzang/KNO_mu_500/h5_wall2/mu_500MeV_1.h5\", 'r', libver='latest', swmr=True)\n"
   ]
  },
  {
   "cell_type": "code",
   "execution_count": 4,
   "metadata": {},
   "outputs": [
    {
     "ename": "KeyboardInterrupt",
     "evalue": "",
     "output_type": "error",
     "traceback": [
      "\u001b[0;31m---------------------------------------------------------------------------\u001b[0m",
      "\u001b[0;31mKeyboardInterrupt\u001b[0m                         Traceback (most recent call last)",
      "Cell \u001b[0;32mIn[4], line 40\u001b[0m\n\u001b[1;32m     38\u001b[0m top_x \u001b[38;5;241m=\u001b[39m np\u001b[38;5;241m.\u001b[39marray(fin[\u001b[38;5;124m'\u001b[39m\u001b[38;5;124mgeom\u001b[39m\u001b[38;5;124m'\u001b[39m][\u001b[38;5;124m'\u001b[39m\u001b[38;5;124mpmt_x\u001b[39m\u001b[38;5;124m'\u001b[39m])[np\u001b[38;5;241m.\u001b[39marray(fin[\u001b[38;5;124m'\u001b[39m\u001b[38;5;124mgeom\u001b[39m\u001b[38;5;124m'\u001b[39m][\u001b[38;5;124m'\u001b[39m\u001b[38;5;124mpmt_z\u001b[39m\u001b[38;5;124m'\u001b[39m])\u001b[38;5;241m>\u001b[39m\u001b[38;5;241m=\u001b[39mnp\u001b[38;5;241m.\u001b[39marray(fin[\u001b[38;5;124m'\u001b[39m\u001b[38;5;124mgeom\u001b[39m\u001b[38;5;124m'\u001b[39m][\u001b[38;5;124m'\u001b[39m\u001b[38;5;124mpmt_z\u001b[39m\u001b[38;5;124m'\u001b[39m])\u001b[38;5;241m.\u001b[39mmax()]\n\u001b[1;32m     39\u001b[0m top_z \u001b[38;5;241m=\u001b[39m (np\u001b[38;5;241m.\u001b[39marray(fin[\u001b[38;5;124m'\u001b[39m\u001b[38;5;124mgeom\u001b[39m\u001b[38;5;124m'\u001b[39m][\u001b[38;5;124m'\u001b[39m\u001b[38;5;124mpmt_z\u001b[39m\u001b[38;5;124m'\u001b[39m])[np\u001b[38;5;241m.\u001b[39marray(fin[\u001b[38;5;124m'\u001b[39m\u001b[38;5;124mgeom\u001b[39m\u001b[38;5;124m'\u001b[39m][\u001b[38;5;124m'\u001b[39m\u001b[38;5;124mpmt_z\u001b[39m\u001b[38;5;124m'\u001b[39m])\u001b[38;5;241m>\u001b[39m\u001b[38;5;241m=\u001b[39mnp\u001b[38;5;241m.\u001b[39marray(fin[\u001b[38;5;124m'\u001b[39m\u001b[38;5;124mgeom\u001b[39m\u001b[38;5;124m'\u001b[39m][\u001b[38;5;124m'\u001b[39m\u001b[38;5;124mpmt_z\u001b[39m\u001b[38;5;124m'\u001b[39m])\u001b[38;5;241m.\u001b[39mmax()]\u001b[38;5;241m+\u001b[39mnp\u001b[38;5;241m.\u001b[39marray(fin[\u001b[38;5;124m'\u001b[39m\u001b[38;5;124mgeom\u001b[39m\u001b[38;5;124m'\u001b[39m][\u001b[38;5;124m'\u001b[39m\u001b[38;5;124mpmt_y\u001b[39m\u001b[38;5;124m'\u001b[39m])[np\u001b[38;5;241m.\u001b[39marray(fin[\u001b[38;5;124m'\u001b[39m\u001b[38;5;124mgeom\u001b[39m\u001b[38;5;124m'\u001b[39m][\u001b[38;5;124m'\u001b[39m\u001b[38;5;124mpmt_z\u001b[39m\u001b[38;5;124m'\u001b[39m])\u001b[38;5;241m>\u001b[39m\u001b[38;5;241m=\u001b[39mnp\u001b[38;5;241m.\u001b[39marray(fin[\u001b[38;5;124m'\u001b[39m\u001b[38;5;124mgeom\u001b[39m\u001b[38;5;124m'\u001b[39m][\u001b[38;5;124m'\u001b[39m\u001b[38;5;124mpmt_z\u001b[39m\u001b[38;5;124m'\u001b[39m])\u001b[38;5;241m.\u001b[39mmax()]\u001b[38;5;241m+\u001b[39m\u001b[38;5;241m4106.4609\u001b[39m)\n\u001b[0;32m---> 40\u001b[0m charge_top \u001b[38;5;241m=\u001b[39m \u001b[43mnp\u001b[49m\u001b[38;5;241;43m.\u001b[39;49m\u001b[43marray\u001b[49m\u001b[43m(\u001b[49m\u001b[43mfin\u001b[49m\u001b[43m[\u001b[49m\u001b[38;5;124;43m'\u001b[39;49m\u001b[38;5;124;43mevent\u001b[39;49m\u001b[38;5;124;43m'\u001b[39;49m\u001b[43m]\u001b[49m\u001b[43m[\u001b[49m\u001b[38;5;124;43m'\u001b[39;49m\u001b[38;5;124;43mpmt_q\u001b[39;49m\u001b[38;5;124;43m'\u001b[39;49m\u001b[43m]\u001b[49m\u001b[43m)\u001b[49m[i][np\u001b[38;5;241m.\u001b[39marray(fin[\u001b[38;5;124m'\u001b[39m\u001b[38;5;124mgeom\u001b[39m\u001b[38;5;124m'\u001b[39m][\u001b[38;5;124m'\u001b[39m\u001b[38;5;124mpmt_z\u001b[39m\u001b[38;5;124m'\u001b[39m])\u001b[38;5;241m>\u001b[39m\u001b[38;5;241m=\u001b[39mnp\u001b[38;5;241m.\u001b[39marray(fin[\u001b[38;5;124m'\u001b[39m\u001b[38;5;124mgeom\u001b[39m\u001b[38;5;124m'\u001b[39m][\u001b[38;5;124m'\u001b[39m\u001b[38;5;124mpmt_z\u001b[39m\u001b[38;5;124m'\u001b[39m])\u001b[38;5;241m.\u001b[39mmax()]\n\u001b[1;32m     41\u001b[0m time_top \u001b[38;5;241m=\u001b[39m np\u001b[38;5;241m.\u001b[39marray(fin[\u001b[38;5;124m'\u001b[39m\u001b[38;5;124mevent\u001b[39m\u001b[38;5;124m'\u001b[39m][\u001b[38;5;124m'\u001b[39m\u001b[38;5;124mpmt_t\u001b[39m\u001b[38;5;124m'\u001b[39m])[i][np\u001b[38;5;241m.\u001b[39marray(fin[\u001b[38;5;124m'\u001b[39m\u001b[38;5;124mgeom\u001b[39m\u001b[38;5;124m'\u001b[39m][\u001b[38;5;124m'\u001b[39m\u001b[38;5;124mpmt_z\u001b[39m\u001b[38;5;124m'\u001b[39m])\u001b[38;5;241m>\u001b[39m\u001b[38;5;241m=\u001b[39mnp\u001b[38;5;241m.\u001b[39marray(fin[\u001b[38;5;124m'\u001b[39m\u001b[38;5;124mgeom\u001b[39m\u001b[38;5;124m'\u001b[39m][\u001b[38;5;124m'\u001b[39m\u001b[38;5;124mpmt_z\u001b[39m\u001b[38;5;124m'\u001b[39m])\u001b[38;5;241m.\u001b[39mmax()]\n\u001b[1;32m     44\u001b[0m bottom_x \u001b[38;5;241m=\u001b[39m np\u001b[38;5;241m.\u001b[39marray(fin[\u001b[38;5;124m'\u001b[39m\u001b[38;5;124mgeom\u001b[39m\u001b[38;5;124m'\u001b[39m][\u001b[38;5;124m'\u001b[39m\u001b[38;5;124mpmt_x\u001b[39m\u001b[38;5;124m'\u001b[39m])[np\u001b[38;5;241m.\u001b[39marray(fin[\u001b[38;5;124m'\u001b[39m\u001b[38;5;124mgeom\u001b[39m\u001b[38;5;124m'\u001b[39m][\u001b[38;5;124m'\u001b[39m\u001b[38;5;124mpmt_z\u001b[39m\u001b[38;5;124m'\u001b[39m])\u001b[38;5;241m<\u001b[39m\u001b[38;5;241m=\u001b[39m\u001b[38;5;241m-\u001b[39mnp\u001b[38;5;241m.\u001b[39marray(fin[\u001b[38;5;124m'\u001b[39m\u001b[38;5;124mgeom\u001b[39m\u001b[38;5;124m'\u001b[39m][\u001b[38;5;124m'\u001b[39m\u001b[38;5;124mpmt_z\u001b[39m\u001b[38;5;124m'\u001b[39m])\u001b[38;5;241m.\u001b[39mmax()]\n",
      "\u001b[0;31mKeyboardInterrupt\u001b[0m: "
     ]
    },
    {
     "data": {
      "image/png": "[encoded data removed]",
      "text/plain": [
       "<Figure size 2500x400 with 1 Axes>"
      ]
     },
     "metadata": {},
     "output_type": "display_data"
    }
   ],
   "source": [
    "for i in range(20):\n",
    "    \n",
    "    \n",
    "\n",
    "    cut_charge = 0\n",
    "    cut_time = 930\n",
    "    cut_time2 = 1200\n",
    "    plt.figure(figsize=(25,4))\n",
    "    plt.subplot(141)\n",
    "    \n",
    "    plt.scatter(np.array(fin['event']['pmt_t'])[i][np.array(fin['event']['pmt_q'])[i]>0],np.array(fin['event']['pmt_q'])[i][np.array(fin['event']['pmt_q'])[i]>0],color='blue',s = 10,alpha=0.2)\n",
    "    plt.scatter(np.array(fin['event']['pmt_t'])[i][(np.array(fin['event']['pmt_t'])[i]>cut_time)&(np.array(fin['event']['pmt_t'])[i]<=cut_time2)],np.array(fin['event']['pmt_q'])[i][(np.array(fin['event']['pmt_t'])[i]>cut_time)&(np.array(fin['event']['pmt_t'])[i]<=cut_time2)],color='red',s = 10)\n",
    "    print(np.array(fin['event']['pmt_q'])[i][(np.array(fin['event']['pmt_t'])[i]>cut_time)&(np.array(fin['event']['pmt_t'])[i]<=cut_time2)].shape,np.array(fin['event']['pmt_q'])[i][np.array(fin['event']['pmt_t'])[i]>0].shape)\n",
    "\n",
    "\n",
    "\n",
    "    shift = 4106.4609*2*np.pi/4\n",
    "\n",
    "    side_x1 = 2*np.pi*4106.7739*(calculate_angle(np.array(fin['geom']['pmt_x'])[(np.array(fin['geom']['pmt_z'])>-np.array(fin['geom']['pmt_z']).max())&(np.array(fin['geom']['pmt_z'])<np.array(fin['geom']['pmt_z']).max())], np.array(fin['geom']['pmt_y'])[(np.array(fin['geom']['pmt_z'])>-np.array(fin['geom']['pmt_z']).max())&(np.array(fin['geom']['pmt_z'])<np.array(fin['geom']['pmt_z']).max())])/360)\n",
    "    side_z1 = np.array(fin['geom']['pmt_z'])[(np.array(fin['geom']['pmt_z'])>-np.array(fin['geom']['pmt_z']).max())&(np.array(fin['geom']['pmt_z'])<np.array(fin['geom']['pmt_z']).max())]\n",
    "\n",
    "\n",
    "    side_x11 = side_x1[side_x1>shift]-3*shift\n",
    "    side_z11 = side_z1[side_x1>shift]\n",
    "    charge_1 = np.array(fin['event']['pmt_q'])[i][(np.array(fin['geom']['pmt_z'])>-np.array(fin['geom']['pmt_z']).max())&(np.array(fin['geom']['pmt_z'])<np.array(fin['geom']['pmt_z']).max())][side_x1>shift]\n",
    "    time_1 = np.array(fin['event']['pmt_t'])[i][(np.array(fin['geom']['pmt_z'])>-np.array(fin['geom']['pmt_z']).max())&(np.array(fin['geom']['pmt_z'])<np.array(fin['geom']['pmt_z']).max())][side_x1>shift]\n",
    "\n",
    "\n",
    "    side_x2 = 2*np.pi*4106.7739*(calculate_angle(np.array(fin['geom']['pmt_x'])[(np.array(fin['geom']['pmt_z'])>-np.array(fin['geom']['pmt_z']).max())&(np.array(fin['geom']['pmt_z'])<np.array(fin['geom']['pmt_z']).max())], np.array(fin['geom']['pmt_y'])[(np.array(fin['geom']['pmt_z'])>-np.array(fin['geom']['pmt_z']).max())&(np.array(fin['geom']['pmt_z'])<np.array(fin['geom']['pmt_z']).max())])/360)\n",
    "    side_z2 = np.array(fin['geom']['pmt_z'])[(np.array(fin['geom']['pmt_z'])>-np.array(fin['geom']['pmt_z']).max())&(np.array(fin['geom']['pmt_z'])<np.array(fin['geom']['pmt_z']).max())]\n",
    "\n",
    "    side_x21 = side_x1[side_x2<=shift]+shift\n",
    "    side_z21 = side_z1[side_x2<=shift]\n",
    "    charge_2 = np.array(fin['event']['pmt_q'])[i][(np.array(fin['geom']['pmt_z'])>-np.array(fin['geom']['pmt_z']).max())&(np.array(fin['geom']['pmt_z'])<np.array(fin['geom']['pmt_z']).max())][side_x2<=shift]\n",
    "    time_2 = np.array(fin['event']['pmt_t'])[i][(np.array(fin['geom']['pmt_z'])>-np.array(fin['geom']['pmt_z']).max())&(np.array(fin['geom']['pmt_z'])<np.array(fin['geom']['pmt_z']).max())][side_x2<=shift]\n",
    "\n",
    "\n",
    "    top_x = np.array(fin['geom']['pmt_x'])[np.array(fin['geom']['pmt_z'])>=np.array(fin['geom']['pmt_z']).max()]\n",
    "    top_z = (np.array(fin['geom']['pmt_z'])[np.array(fin['geom']['pmt_z'])>=np.array(fin['geom']['pmt_z']).max()]+np.array(fin['geom']['pmt_y'])[np.array(fin['geom']['pmt_z'])>=np.array(fin['geom']['pmt_z']).max()]+4106.4609)\n",
    "    charge_top = np.array(fin['event']['pmt_q'])[i][np.array(fin['geom']['pmt_z'])>=np.array(fin['geom']['pmt_z']).max()]\n",
    "    time_top = np.array(fin['event']['pmt_t'])[i][np.array(fin['geom']['pmt_z'])>=np.array(fin['geom']['pmt_z']).max()]\n",
    "\n",
    "\n",
    "    bottom_x = np.array(fin['geom']['pmt_x'])[np.array(fin['geom']['pmt_z'])<=-np.array(fin['geom']['pmt_z']).max()]\n",
    "    bottom_z = (np.array(fin['geom']['pmt_z'])[np.array(fin['geom']['pmt_z'])<=-np.array(fin['geom']['pmt_z']).max()]+np.array(fin['geom']['pmt_y'])[np.array(fin['geom']['pmt_z'])<=-np.array(fin['geom']['pmt_z']).max()]-4106.4609)\n",
    "    charge_bottom = np.array(fin['event']['pmt_q'])[i][np.array(fin['geom']['pmt_z'])<=-np.array(fin['geom']['pmt_z']).max()]\n",
    "    time_bottom = np.array(fin['event']['pmt_t'])[i][np.array(fin['geom']['pmt_z'])<=-np.array(fin['geom']['pmt_z']).max()]\n",
    "\n",
    "    xxx = np.concatenate([side_x11,side_x21,top_x,bottom_x])\n",
    "    # zzz = np.concatenate([side_z11,side_z21,top_z,bottom_z])\n",
    "    zzz = np.concatenate([side_z11,side_z21,top_z,np.abs(bottom_z)-4*4106.4609])\n",
    "    qqq = np.concatenate([charge_1,charge_2,charge_top,charge_bottom])\n",
    "    ttt = np.concatenate([time_1,time_2,time_top,time_bottom])\n",
    "\n",
    "\n",
    "    \n",
    "    plt.subplot(142)\n",
    "    \n",
    "    plt.scatter(xxx,zzz,s = 5, c= qqq,cmap='Reds')\n",
    "\n",
    "    plt.subplot(143)\n",
    "    plt.scatter(xxx[(ttt>cut_time)&(ttt<=cut_time2)],zzz[(ttt>cut_time)&(ttt<=cut_time2)],s = 5, c= qqq[(ttt>cut_time)&(ttt<=cut_time2)],cmap='Reds')\n",
    "\n",
    "    \n",
    "    plt.subplot(144)\n",
    "    \n",
    "    plt.scatter(xxx[(ttt<=cut_time)],zzz[(ttt<=cut_time)],s = 5, c= qqq[(ttt<=cut_time)],cmap='Reds')\n",
    "    plt.scatter(xxx[(ttt>cut_time2)],zzz[(ttt>cut_time2)],s = 5, c= qqq[(ttt>cut_time2)],cmap='Reds')\n",
    "\n",
    "    plt.show()\n",
    "    "
   ]
  },
  {
   "cell_type": "code",
   "execution_count": null,
   "metadata": {},
   "outputs": [],
   "source": []
  },
  {
   "cell_type": "code",
   "execution_count": null,
   "metadata": {},
   "outputs": [],
   "source": []
  },
  {
   "cell_type": "markdown",
   "metadata": {},
   "source": []
  },
  {
   "cell_type": "code",
   "execution_count": null,
   "metadata": {},
   "outputs": [],
   "source": []
  },
  {
   "cell_type": "code",
   "execution_count": null,
   "metadata": {},
   "outputs": [],
   "source": []
  },
  {
   "cell_type": "code",
   "execution_count": null,
   "metadata": {},
   "outputs": [],
   "source": []
  },
  {
   "cell_type": "code",
   "execution_count": null,
   "metadata": {},
   "outputs": [],
   "source": []
  },
  {
   "cell_type": "code",
   "execution_count": null,
   "metadata": {},
   "outputs": [],
   "source": []
  },
  {
   "cell_type": "code",
   "execution_count": null,
   "metadata": {},
   "outputs": [],
   "source": []
  }
 ],
 "metadata": {
  "kernelspec": {
   "display_name": "Python 3",
   "language": "python",
   "name": "python3"
  },
  "language_info": {
   "codemirror_mode": {
    "name": "ipython",
    "version": 3
   },
   "file_extension": ".py",
   "mimetype": "text/x-python",
   "name": "python",
   "nbconvert_exporter": "python",
   "pygments_lexer": "ipython3",
   "version": "3.11.0"
  }
 },
 "nbformat": 4,
 "nbformat_minor": 4
}
