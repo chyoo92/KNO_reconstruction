{
 "cells": [
  {
   "cell_type": "code",
   "execution_count": null,
   "metadata": {},
   "outputs": [
    {
     "ename": "",
     "evalue": "",
     "output_type": "error",
     "traceback": [
      "\u001b[1;31mFailed to start the Kernel. \n",
      "\u001b[1;31mUnable to start Kernel 'pyg24 (Python 3.11.0)' due to a timeout waiting for the ports to get used. \n",
      "\u001b[1;31mView Jupyter <a href='command:jupyter.viewOutput'>log</a> for further details."
     ]
    }
   ],
   "source": [
    "import matplotlib.pyplot as plt\n",
    "import pandas as pd\n",
    "import os\n",
    "import numpy as np\n",
    "import glob"
   ]
  },
  {
   "cell_type": "code",
   "execution_count": null,
   "metadata": {},
   "outputs": [
    {
     "ename": "",
     "evalue": "",
     "output_type": "error",
     "traceback": [
      "\u001b[1;31mFailed to start the Kernel. \n",
      "\u001b[1;31mUnable to start Kernel 'pyg24 (Python 3.11.0)' due to a timeout waiting for the ports to get used. \n",
      "\u001b[1;31mView Jupyter <a href='command:jupyter.viewOutput'>log</a> for further details."
     ]
    }
   ],
   "source": [
    "## uni = file name\n",
    "uni = \"*\"\n",
    "\n",
    "path = \"/users/hep/yewzzang/work/KNO_reconstruction/combined/result_eng/*\" + uni +\"*/train.csv\"\n",
    "train_path = glob.glob(path)\n",
    "train_list = [file for file in train_path if file.endswith(\".csv\")]"
   ]
  },
  {
   "cell_type": "code",
   "execution_count": null,
   "metadata": {},
   "outputs": [
    {
     "ename": "",
     "evalue": "",
     "output_type": "error",
     "traceback": [
      "\u001b[1;31mFailed to start the Kernel. \n",
      "\u001b[1;31mUnable to start Kernel 'pyg24 (Python 3.11.0)' due to a timeout waiting for the ports to get used. \n",
      "\u001b[1;31mView Jupyter <a href='command:jupyter.viewOutput'>log</a> for further details."
     ]
    }
   ],
   "source": [
    "for i in range(len(train_list)):\n",
    "    print(np.sort(np.array(train_list))[i].split('/')[-2])"
   ]
  },
  {
   "cell_type": "code",
   "execution_count": null,
   "metadata": {},
   "outputs": [
    {
     "ename": "",
     "evalue": "",
     "output_type": "error",
     "traceback": [
      "\u001b[1;31mFailed to start the Kernel. \n",
      "\u001b[1;31mUnable to start Kernel 'pyg24 (Python 3.11.0)' due to a timeout waiting for the ports to get used. \n",
      "\u001b[1;31mView Jupyter <a href='command:jupyter.viewOutput'>log</a> for further details."
     ]
    }
   ],
   "source": [
    "# train_list = ['/users/hep/yewzzang/work/KNO_reconstruction/combined/result_eng/eng_padding_1_128_8_256_128_9l_mu/train.csv',\n",
    "\n",
    "#  '/users/hep/yewzzang/work/KNO_reconstruction/combined/result_eng/eng_padding_1_128_8_128_200_9l_elec/train.csv',\n",
    "# ]"
   ]
  },
  {
   "cell_type": "code",
   "execution_count": null,
   "metadata": {},
   "outputs": [
    {
     "ename": "",
     "evalue": "",
     "output_type": "error",
     "traceback": [
      "\u001b[1;31mFailed to start the Kernel. \n",
      "\u001b[1;31mUnable to start Kernel 'pyg24 (Python 3.11.0)' due to a timeout waiting for the ports to get used. \n",
      "\u001b[1;31mView Jupyter <a href='command:jupyter.viewOutput'>log</a> for further details."
     ]
    }
   ],
   "source": [
    "plt.rcParams['figure.figsize'] = (10, 5)\n",
    "plt.rcParams['lines.linewidth'] = 1\n",
    "plt.rcParams['lines.markersize'] = 5\n",
    "plt.rcParams[\"legend.loc\"] = 'upper right'\n",
    "plt.rcParams[\"legend.frameon\"] = False\n",
    "plt.rcParams[\"legend.loc\"] = 'upper left'\n",
    "\n",
    "ax1 = plt.subplot(1, 2, 1, yscale='log', ylabel='Loss(train)', xlabel='epoch')\n",
    "ax2 = plt.subplot(1, 2, 2, yscale='log', ylabel='Loss(val)', xlabel='epoch')\n",
    "\n",
    "for ax in (ax1, ax2):\n",
    "    ax.grid(which='major', axis='both', linestyle='-.')\n",
    "    ax.grid(which='minor', linestyle=':')\n",
    "    ax.set_xlim([-2,100])\n",
    "\n",
    "lines, labels = [], []\n",
    "\n",
    "for i in range(len(train_list)):\n",
    "    df = pd.read_csv(train_list[i])\n",
    "    \n",
    "    label = train_list[i]\n",
    "    # label = labelss[i]\n",
    "    l =  ax1.plot(df['loss'],'*-', linewidth=2) \n",
    "    ax2.plot(df['val_loss'], '*-', linewidth=2,label=label.split('/')[-2])\n",
    "    # ax2.plot(df['val_loss'], linewidth=2,label=label)\n",
    "    \n",
    "    # if df['val_loss'][0] < 250:\n",
    "\n",
    "    #     print(df['val_loss'][0])\n",
    "    #     print(label)\n",
    "    print(i,\n",
    "        len(df['loss']),\n",
    "        ' / ',\n",
    "        \"MTL = \" + f\"{df['loss'].min():.7f}\",\n",
    "        \" / \",\n",
    "        \"MTL epoch = \" + str(\"{:04}\".format(1+np.where(df['loss']==df['loss'].min())[0][0])),\n",
    "        \" / \",\n",
    "        f\"{df['val_loss'].min():.7f}\",\n",
    "        \" / \",\n",
    "        \"MVL = \" + f\"{df['val_loss'].min():.7f}\",\n",
    "        \" / \",\n",
    "        \"MVL epoch = \" + str(\"{:04}\".format(1+np.where(df['val_loss']==df['val_loss'].min())[0][0])),\n",
    "        \" / \",\n",
    "        # labelss)d\n",
    "        label.split('/')[-2])\n",
    "\n",
    "    lines.append(l[0])\n",
    "    labels.append(label)\n",
    "plt.tight_layout()\n",
    "# plt.savefig('acc_loss.png',dpi=300)\n",
    "plt.legend(loc='upper left',bbox_to_anchor=(1.05,1))\n",
    "plt.show()\n",
    "plt.close()"
   ]
  },
  {
   "cell_type": "code",
   "execution_count": null,
   "metadata": {},
   "outputs": [
    {
     "ename": "",
     "evalue": "",
     "output_type": "error",
     "traceback": [
      "\u001b[1;31mFailed to start the Kernel. \n",
      "\u001b[1;31mUnable to start Kernel 'pyg24 (Python 3.11.0)' due to a timeout waiting for the ports to get used. \n",
      "\u001b[1;31mView Jupyter <a href='command:jupyter.viewOutput'>log</a> for further details."
     ]
    }
   ],
   "source": []
  },
  {
   "cell_type": "code",
   "execution_count": null,
   "metadata": {},
   "outputs": [
    {
     "ename": "",
     "evalue": "",
     "output_type": "error",
     "traceback": [
      "\u001b[1;31mFailed to start the Kernel. \n",
      "\u001b[1;31mUnable to start Kernel 'pyg24 (Python 3.11.0)' due to a timeout waiting for the ports to get used. \n",
      "\u001b[1;31mView Jupyter <a href='command:jupyter.viewOutput'>log</a> for further details."
     ]
    }
   ],
   "source": []
  },
  {
   "cell_type": "code",
   "execution_count": null,
   "metadata": {},
   "outputs": [
    {
     "ename": "",
     "evalue": "",
     "output_type": "error",
     "traceback": [
      "\u001b[1;31mFailed to start the Kernel. \n",
      "\u001b[1;31mUnable to start Kernel 'pyg24 (Python 3.11.0)' due to a timeout waiting for the ports to get used. \n",
      "\u001b[1;31mView Jupyter <a href='command:jupyter.viewOutput'>log</a> for further details."
     ]
    }
   ],
   "source": []
  },
  {
   "cell_type": "code",
   "execution_count": null,
   "metadata": {},
   "outputs": [
    {
     "ename": "",
     "evalue": "",
     "output_type": "error",
     "traceback": [
      "\u001b[1;31mFailed to start the Kernel. \n",
      "\u001b[1;31mUnable to start Kernel 'pyg24 (Python 3.11.0)' due to a timeout waiting for the ports to get used. \n",
      "\u001b[1;31mView Jupyter <a href='command:jupyter.viewOutput'>log</a> for further details."
     ]
    }
   ],
   "source": []
  },
  {
   "cell_type": "code",
   "execution_count": null,
   "metadata": {},
   "outputs": [
    {
     "ename": "",
     "evalue": "",
     "output_type": "error",
     "traceback": [
      "\u001b[1;31mFailed to start the Kernel. \n",
      "\u001b[1;31mUnable to start Kernel 'pyg24 (Python 3.11.0)' due to a timeout waiting for the ports to get used. \n",
      "\u001b[1;31mView Jupyter <a href='command:jupyter.viewOutput'>log</a> for further details."
     ]
    }
   ],
   "source": []
  },
  {
   "cell_type": "code",
   "execution_count": null,
   "metadata": {},
   "outputs": [
    {
     "ename": "",
     "evalue": "",
     "output_type": "error",
     "traceback": [
      "\u001b[1;31mFailed to start the Kernel. \n",
      "\u001b[1;31mUnable to start Kernel 'pyg24 (Python 3.11.0)' due to a timeout waiting for the ports to get used. \n",
      "\u001b[1;31mView Jupyter <a href='command:jupyter.viewOutput'>log</a> for further details."
     ]
    }
   ],
   "source": []
  }
 ],
 "metadata": {
  "kernelspec": {
   "display_name": "Python 3",
   "language": "python",
   "name": "python3"
  },
  "language_info": {
   "codemirror_mode": {
    "name": "ipython",
    "version": 3
   },
   "file_extension": ".py",
   "mimetype": "text/x-python",
   "name": "python",
   "nbconvert_exporter": "python",
   "pygments_lexer": "ipython3",
   "version": "3.11.0"
  }
 },
 "nbformat": 4,
 "nbformat_minor": 2
}
