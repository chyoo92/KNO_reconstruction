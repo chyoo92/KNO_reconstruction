{
 "cells": [
  {
   "cell_type": "code",
   "execution_count": null,
   "metadata": {},
   "outputs": [],
   "source": [
    "import h5py\n",
    "import numpy as np\n",
    "import matplotlib.pyplot as plt\n",
    "import os\n",
    "import glob"
   ]
  },
  {
   "cell_type": "code",
   "execution_count": null,
   "metadata": {},
   "outputs": [],
   "source": [
    "search_h5 = os.path.join('/store/cpnr/users/yewzzang/KNO_mu_500/h5_wall2',\"*.h5\")\n",
    "files = glob.glob(search_h5)"
   ]
  },
  {
   "cell_type": "code",
   "execution_count": null,
   "metadata": {},
   "outputs": [],
   "source": [
    "x_s = np.array([])\n",
    "y_s = np.array([])\n",
    "z_s = np.array([])\n",
    "for i in range(len(files)):\n",
    "    f = h5py.File(files[i],'r')\n",
    "    x = np.array(f['event']['vtx_x'])\n",
    "    y = np.array(f['event']['vtx_y'])\n",
    "    z = np.array(f['event']['vtx_z'])\n",
    "\n",
    "    x_s = np.concatenate((x_s, x))\n",
    "    y_s = np.concatenate((y_s, y))\n",
    "    z_s = np.concatenate((z_s, z))\n"
   ]
  },
  {
   "cell_type": "code",
   "execution_count": null,
   "metadata": {},
   "outputs": [],
   "source": [
    "x_s.shape"
   ]
  },
  {
   "cell_type": "code",
   "execution_count": null,
   "metadata": {},
   "outputs": [],
   "source": [
    "plt.hist(x_s,bins=100)\n",
    "plt.show()\n",
    "plt.hist(y_s,bins=100)\n",
    "plt.show()\n",
    "plt.hist(z_s,bins=100)\n",
    "plt.show()\n",
    "plt.hist(np.sqrt(x_s*x_s+y_s*y_s),bins=100)\n",
    "plt.show()\n",
    "plt.hist(np.sqrt(x_s*x_s+y_s*y_s+z_s*z_s),bins=100)\n",
    "plt.show()"
   ]
  },
  {
   "cell_type": "code",
   "execution_count": null,
   "metadata": {},
   "outputs": [],
   "source": [
    "\n"
   ]
  },
  {
   "cell_type": "code",
   "execution_count": null,
   "metadata": {},
   "outputs": [],
   "source": [
    "\n"
   ]
  },
  {
   "cell_type": "code",
   "execution_count": null,
   "metadata": {},
   "outputs": [],
   "source": []
  },
  {
   "cell_type": "code",
   "execution_count": null,
   "metadata": {},
   "outputs": [],
   "source": []
  },
  {
   "cell_type": "code",
   "execution_count": null,
   "metadata": {},
   "outputs": [],
   "source": []
  },
  {
   "cell_type": "code",
   "execution_count": null,
   "metadata": {},
   "outputs": [],
   "source": []
  }
 ],
 "metadata": {
  "kernelspec": {
   "display_name": "Python 3",
   "language": "python",
   "name": "python3"
  },
  "language_info": {
   "codemirror_mode": {
    "name": "ipython",
    "version": 3
   },
   "file_extension": ".py",
   "mimetype": "text/x-python",
   "name": "python",
   "nbconvert_exporter": "python",
   "pygments_lexer": "ipython3",
   "version": "3.11.0"
  }
 },
 "nbformat": 4,
 "nbformat_minor": 2
}
